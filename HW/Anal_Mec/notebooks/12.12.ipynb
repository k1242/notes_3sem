{
 "cells": [
  {
   "cell_type": "code",
   "execution_count": 1,
   "metadata": {
    "ExecuteTime": {
     "end_time": "2020-11-28T20:11:25.336428Z",
     "start_time": "2020-11-28T20:11:22.286405Z"
    }
   },
   "outputs": [],
   "source": [
    "import sympy as sp\n",
    "from sympy import cos, sin, tan, Matrix, diff, Function"
   ]
  },
  {
   "cell_type": "markdown",
   "metadata": {},
   "source": [
    "### Переменные"
   ]
  },
  {
   "cell_type": "code",
   "execution_count": 239,
   "metadata": {
    "ExecuteTime": {
     "end_time": "2020-11-30T03:38:46.126283Z",
     "start_time": "2020-11-30T03:38:46.121296Z"
    }
   },
   "outputs": [],
   "source": [
    "r, r1, r2 = sp.symbols(\"r r_1 r_2\")\n",
    "m, m1, m2 = sp.symbols(\"m m_1 m_2\")\n",
    "x, y, z, t = sp.symbols(\"x y z t\")\n",
    "phi, theta = sp.symbols(\"\\\\varphi \\\\theta\")"
   ]
  },
  {
   "cell_type": "code",
   "execution_count": 240,
   "metadata": {
    "ExecuteTime": {
     "end_time": "2020-11-30T03:38:47.132380Z",
     "start_time": "2020-11-30T03:38:47.129354Z"
    }
   },
   "outputs": [],
   "source": [
    "G = sp.symbols(\"G\")"
   ]
  },
  {
   "cell_type": "code",
   "execution_count": 241,
   "metadata": {
    "ExecuteTime": {
     "end_time": "2020-11-30T03:38:47.413752Z",
     "start_time": "2020-11-30T03:38:47.408765Z"
    }
   },
   "outputs": [],
   "source": [
    "x0 = Function(\"x\")(t)\n",
    "y0 = Function(\"y\")(t)\n",
    "z0 = Function(\"z\")(t)"
   ]
  },
  {
   "cell_type": "markdown",
   "metadata": {},
   "source": [
    "### 12.12"
   ]
  },
  {
   "cell_type": "code",
   "execution_count": 242,
   "metadata": {
    "ExecuteTime": {
     "end_time": "2020-11-30T03:38:49.287247Z",
     "start_time": "2020-11-30T03:38:49.283258Z"
    }
   },
   "outputs": [],
   "source": [
    "r = Function(\"r\")(t)\n",
    "theta = Function(\"\\\\theta\")(t)\n",
    "phi = Function(\"\\\\varphi\")(t)"
   ]
  },
  {
   "cell_type": "code",
   "execution_count": 243,
   "metadata": {
    "ExecuteTime": {
     "end_time": "2020-11-30T03:38:49.736607Z",
     "start_time": "2020-11-30T03:38:49.732641Z"
    }
   },
   "outputs": [],
   "source": [
    "x = r * sin(theta) * cos(phi)\n",
    "y = r * sin(theta) * sin(phi)\n",
    "z = r * cos(theta)"
   ]
  },
  {
   "cell_type": "code",
   "execution_count": 244,
   "metadata": {
    "ExecuteTime": {
     "end_time": "2020-11-30T03:38:50.069520Z",
     "start_time": "2020-11-30T03:38:50.064534Z"
    }
   },
   "outputs": [],
   "source": [
    "_r = Matrix([[x], [y], [z]])\n",
    "_v = diff(_r, t)"
   ]
  },
  {
   "cell_type": "code",
   "execution_count": 245,
   "metadata": {
    "ExecuteTime": {
     "end_time": "2020-11-30T03:38:51.004421Z",
     "start_time": "2020-11-30T03:38:50.519064Z"
    }
   },
   "outputs": [],
   "source": [
    "T = sp.simplify((_v.T * _v)[0])"
   ]
  },
  {
   "cell_type": "code",
   "execution_count": 246,
   "metadata": {
    "ExecuteTime": {
     "end_time": "2020-11-30T03:38:51.060180Z",
     "start_time": "2020-11-30T03:38:51.054177Z"
    }
   },
   "outputs": [
    {
     "data": {
      "text/latex": [
       "$\\displaystyle r^{2}{\\left(t \\right)} \\sin^{2}{\\left(\\theta{\\left(t \\right)} \\right)} \\left(\\frac{d}{d t} \\varphi{\\left(t \\right)}\\right)^{2} + r^{2}{\\left(t \\right)} \\left(\\frac{d}{d t} \\theta{\\left(t \\right)}\\right)^{2} + \\left(\\frac{d}{d t} r{\\left(t \\right)}\\right)^{2}$"
      ],
      "text/plain": [
       "r(t)**2*sin(\\theta(t))**2*Derivative(\\varphi(t), t)**2 + r(t)**2*Derivative(\\theta(t), t)**2 + Derivative(r(t), t)**2"
      ]
     },
     "execution_count": 246,
     "metadata": {},
     "output_type": "execute_result"
    }
   ],
   "source": [
    "T"
   ]
  },
  {
   "cell_type": "code",
   "execution_count": 247,
   "metadata": {
    "ExecuteTime": {
     "end_time": "2020-11-30T03:38:52.649419Z",
     "start_time": "2020-11-30T03:38:52.169185Z"
    }
   },
   "outputs": [
    {
     "data": {
      "text/latex": [
       "$\\displaystyle \\frac{m_{1} m_{2} \\left(r^{2}{\\left(t \\right)} \\sin^{2}{\\left(\\theta{\\left(t \\right)} \\right)} \\left(\\frac{d}{d t} \\varphi{\\left(t \\right)}\\right)^{2} + r^{2}{\\left(t \\right)} \\left(\\frac{d}{d t} \\theta{\\left(t \\right)}\\right)^{2} + \\left(\\frac{d}{d t} r{\\left(t \\right)}\\right)^{2}\\right)}{2 \\left(m_{1} + m_{2}\\right)} + \\left(\\frac{m_{1}}{2} + \\frac{m_{2}}{2}\\right) \\left(\\left(\\frac{d}{d t} x{\\left(t \\right)}\\right)^{2} + \\left(\\frac{d}{d t} y{\\left(t \\right)}\\right)^{2} + \\left(\\frac{d}{d t} z{\\left(t \\right)}\\right)^{2}\\right)$"
      ],
      "text/plain": [
       "m_1*m_2*(r(t)**2*sin(\\theta(t))**2*Derivative(\\varphi(t), t)**2 + r(t)**2*Derivative(\\theta(t), t)**2 + Derivative(r(t), t)**2)/(2*(m_1 + m_2)) + (m_1/2 + m_2/2)*(Derivative(x(t), t)**2 + Derivative(y(t), t)**2 + Derivative(z(t), t)**2)"
      ]
     },
     "execution_count": 247,
     "metadata": {},
     "output_type": "execute_result"
    }
   ],
   "source": [
    "T = sp.simplify((_v.T * _v)[0])\n",
    "T = T * m1 * m2 / (m1 + m2) / 2\n",
    "T = T + (m1+m2)/2*(diff(x0, t)**2+diff(y0, t)**2+diff(z0, t)**2)\n",
    "T"
   ]
  },
  {
   "cell_type": "code",
   "execution_count": 248,
   "metadata": {
    "ExecuteTime": {
     "end_time": "2020-11-30T03:38:53.201312Z",
     "start_time": "2020-11-30T03:38:53.184687Z"
    }
   },
   "outputs": [
    {
     "data": {
      "text/latex": [
       "$\\displaystyle - \\frac{G m_{1} m_{2}}{r{\\left(t \\right)}}$"
      ],
      "text/plain": [
       "-G*m_1*m_2/r(t)"
      ]
     },
     "execution_count": 248,
     "metadata": {},
     "output_type": "execute_result"
    }
   ],
   "source": [
    "P = -G * m1 * m2 /  r\n",
    "P"
   ]
  },
  {
   "cell_type": "code",
   "execution_count": 249,
   "metadata": {
    "ExecuteTime": {
     "end_time": "2020-11-30T03:38:54.068077Z",
     "start_time": "2020-11-30T03:38:54.057139Z"
    }
   },
   "outputs": [
    {
     "data": {
      "text/latex": [
       "$\\displaystyle \\frac{G m_{1} m_{2}}{r{\\left(t \\right)}} + \\frac{m_{1} m_{2} \\left(r^{2}{\\left(t \\right)} \\sin^{2}{\\left(\\theta{\\left(t \\right)} \\right)} \\left(\\frac{d}{d t} \\varphi{\\left(t \\right)}\\right)^{2} + r^{2}{\\left(t \\right)} \\left(\\frac{d}{d t} \\theta{\\left(t \\right)}\\right)^{2} + \\left(\\frac{d}{d t} r{\\left(t \\right)}\\right)^{2}\\right)}{2 \\left(m_{1} + m_{2}\\right)} + \\left(\\frac{m_{1}}{2} + \\frac{m_{2}}{2}\\right) \\left(\\left(\\frac{d}{d t} x{\\left(t \\right)}\\right)^{2} + \\left(\\frac{d}{d t} y{\\left(t \\right)}\\right)^{2} + \\left(\\frac{d}{d t} z{\\left(t \\right)}\\right)^{2}\\right)$"
      ],
      "text/plain": [
       "G*m_1*m_2/r(t) + m_1*m_2*(r(t)**2*sin(\\theta(t))**2*Derivative(\\varphi(t), t)**2 + r(t)**2*Derivative(\\theta(t), t)**2 + Derivative(r(t), t)**2)/(2*(m_1 + m_2)) + (m_1/2 + m_2/2)*(Derivative(x(t), t)**2 + Derivative(y(t), t)**2 + Derivative(z(t), t)**2)"
      ]
     },
     "execution_count": 249,
     "metadata": {},
     "output_type": "execute_result"
    }
   ],
   "source": [
    "L = T - P\n",
    "L"
   ]
  },
  {
   "cell_type": "code",
   "execution_count": 250,
   "metadata": {
    "ExecuteTime": {
     "end_time": "2020-11-30T03:38:55.037692Z",
     "start_time": "2020-11-30T03:38:54.984146Z"
    }
   },
   "outputs": [
    {
     "data": {
      "text/latex": [
       "$\\displaystyle \\frac{m_{1} m_{2} r^{2}{\\left(t \\right)} \\sin^{2}{\\left(\\theta{\\left(t \\right)} \\right)} \\frac{d}{d t} \\varphi{\\left(t \\right)}}{m_{1} + m_{2}}$"
      ],
      "text/plain": [
       "m_1*m_2*r(t)**2*sin(\\theta(t))**2*Derivative(\\varphi(t), t)/(m_1 + m_2)"
      ]
     },
     "execution_count": 250,
     "metadata": {},
     "output_type": "execute_result"
    }
   ],
   "source": [
    "sp.simplify(diff(L, diff(phi, t)))"
   ]
  },
  {
   "cell_type": "code",
   "execution_count": null,
   "metadata": {},
   "outputs": [],
   "source": []
  },
  {
   "cell_type": "code",
   "execution_count": 270,
   "metadata": {
    "ExecuteTime": {
     "end_time": "2020-11-30T03:54:01.172136Z",
     "start_time": "2020-11-30T03:54:01.166149Z"
    }
   },
   "outputs": [],
   "source": [
    "d_phi = diff(phi, t)\n",
    "d_theta = diff(theta, t)\n",
    "d_r = diff(r, t)\n",
    "d_x = diff(x, t)"
   ]
  },
  {
   "cell_type": "code",
   "execution_count": 252,
   "metadata": {
    "ExecuteTime": {
     "end_time": "2020-11-30T03:38:56.765773Z",
     "start_time": "2020-11-30T03:38:56.685980Z"
    }
   },
   "outputs": [],
   "source": [
    "eq1 = diff(diff(L, d_phi), t) - diff(L, phi)\n",
    "eq2 = diff(diff(L, d_r), t) - diff(L, r)\n",
    "eq3 = diff(diff(L, d_theta), t) - diff(L, theta)"
   ]
  },
  {
   "cell_type": "code",
   "execution_count": 265,
   "metadata": {
    "ExecuteTime": {
     "end_time": "2020-11-30T03:48:00.592286Z",
     "start_time": "2020-11-30T03:48:00.444081Z"
    }
   },
   "outputs": [
    {
     "data": {
      "text/latex": [
       "$\\displaystyle G \\left(m_{1} + m_{2}\\right) - \\left(\\sin^{2}{\\left(\\theta{\\left(t \\right)} \\right)} \\left(\\frac{d}{d t} \\varphi{\\left(t \\right)}\\right)^{2} + \\left(\\frac{d}{d t} \\theta{\\left(t \\right)}\\right)^{2}\\right) r^{3}{\\left(t \\right)} + r^{2}{\\left(t \\right)} \\frac{d^{2}}{d t^{2}} r{\\left(t \\right)}$"
      ],
      "text/plain": [
       "G*(m_1 + m_2) - (sin(\\theta(t))**2*Derivative(\\varphi(t), t)**2 + Derivative(\\theta(t), t)**2)*r(t)**3 + r(t)**2*Derivative(r(t), (t, 2))"
      ]
     },
     "execution_count": 265,
     "metadata": {},
     "output_type": "execute_result"
    }
   ],
   "source": [
    "sp.simplify(eq2 / m1 / m2 * (m1 + m2) * r**2 )"
   ]
  },
  {
   "cell_type": "code",
   "execution_count": 269,
   "metadata": {
    "ExecuteTime": {
     "end_time": "2020-11-30T03:51:19.551270Z",
     "start_time": "2020-11-30T03:51:19.470486Z"
    }
   },
   "outputs": [
    {
     "data": {
      "text/latex": [
       "$\\displaystyle - \\frac{r{\\left(t \\right)} \\sin{\\left(2 \\theta{\\left(t \\right)} \\right)} \\left(\\frac{d}{d t} \\varphi{\\left(t \\right)}\\right)^{2}}{2} + r{\\left(t \\right)} \\frac{d^{2}}{d t^{2}} \\theta{\\left(t \\right)} + 2 \\frac{d}{d t} \\theta{\\left(t \\right)} \\frac{d}{d t} r{\\left(t \\right)}$"
      ],
      "text/plain": [
       "-r(t)*sin(2*\\theta(t))*Derivative(\\varphi(t), t)**2/2 + r(t)*Derivative(\\theta(t), (t, 2)) + 2*Derivative(\\theta(t), t)*Derivative(r(t), t)"
      ]
     },
     "execution_count": 269,
     "metadata": {},
     "output_type": "execute_result"
    }
   ],
   "source": [
    "sp.simplify(eq3 / m1 / m2 * (m1 + m2) / r )"
   ]
  },
  {
   "cell_type": "code",
   "execution_count": 271,
   "metadata": {
    "ExecuteTime": {
     "end_time": "2020-11-30T03:54:12.439137Z",
     "start_time": "2020-11-30T03:54:12.101466Z"
    }
   },
   "outputs": [
    {
     "ename": "ValueError",
     "evalue": "\nCan't calculate derivative wrt\n-r(t)*sin(\\theta(t))*sin(\\varphi(t))*Derivative(\\varphi(t), t) +\nr(t)*cos(\\theta(t))*cos(\\varphi(t))*Derivative(\\theta(t), t) +\nsin(\\theta(t))*cos(\\varphi(t))*Derivative(r(t), t).",
     "output_type": "error",
     "traceback": [
      "\u001b[1;31m---------------------------------------------------------------------------\u001b[0m",
      "\u001b[1;31mValueError\u001b[0m                                Traceback (most recent call last)",
      "\u001b[1;32m<ipython-input-271-0c8005c23358>\u001b[0m in \u001b[0;36m<module>\u001b[1;34m\u001b[0m\n\u001b[1;32m----> 1\u001b[1;33m \u001b[0meq4\u001b[0m \u001b[1;33m=\u001b[0m \u001b[0mdiff\u001b[0m\u001b[1;33m(\u001b[0m\u001b[0mdiff\u001b[0m\u001b[1;33m(\u001b[0m\u001b[0mL\u001b[0m\u001b[1;33m,\u001b[0m \u001b[0md_x\u001b[0m\u001b[1;33m)\u001b[0m\u001b[1;33m,\u001b[0m \u001b[0mt\u001b[0m\u001b[1;33m)\u001b[0m \u001b[1;33m-\u001b[0m \u001b[0mdiff\u001b[0m\u001b[1;33m(\u001b[0m\u001b[0mL\u001b[0m\u001b[1;33m,\u001b[0m \u001b[0mx\u001b[0m\u001b[1;33m)\u001b[0m\u001b[1;33m\u001b[0m\u001b[1;33m\u001b[0m\u001b[0m\n\u001b[0m",
      "\u001b[1;32mD:\\Apps\\Anaconda\\envs\\TF21\\lib\\site-packages\\sympy\\core\\function.py\u001b[0m in \u001b[0;36mdiff\u001b[1;34m(f, *symbols, **kwargs)\u001b[0m\n\u001b[0;32m   2310\u001b[0m     \"\"\"\n\u001b[0;32m   2311\u001b[0m     \u001b[1;32mif\u001b[0m \u001b[0mhasattr\u001b[0m\u001b[1;33m(\u001b[0m\u001b[0mf\u001b[0m\u001b[1;33m,\u001b[0m \u001b[1;34m'diff'\u001b[0m\u001b[1;33m)\u001b[0m\u001b[1;33m:\u001b[0m\u001b[1;33m\u001b[0m\u001b[1;33m\u001b[0m\u001b[0m\n\u001b[1;32m-> 2312\u001b[1;33m         \u001b[1;32mreturn\u001b[0m \u001b[0mf\u001b[0m\u001b[1;33m.\u001b[0m\u001b[0mdiff\u001b[0m\u001b[1;33m(\u001b[0m\u001b[1;33m*\u001b[0m\u001b[0msymbols\u001b[0m\u001b[1;33m,\u001b[0m \u001b[1;33m**\u001b[0m\u001b[0mkwargs\u001b[0m\u001b[1;33m)\u001b[0m\u001b[1;33m\u001b[0m\u001b[1;33m\u001b[0m\u001b[0m\n\u001b[0m\u001b[0;32m   2313\u001b[0m     \u001b[0mkwargs\u001b[0m\u001b[1;33m.\u001b[0m\u001b[0msetdefault\u001b[0m\u001b[1;33m(\u001b[0m\u001b[1;34m'evaluate'\u001b[0m\u001b[1;33m,\u001b[0m \u001b[1;32mTrue\u001b[0m\u001b[1;33m)\u001b[0m\u001b[1;33m\u001b[0m\u001b[1;33m\u001b[0m\u001b[0m\n\u001b[0;32m   2314\u001b[0m     \u001b[1;32mreturn\u001b[0m \u001b[0mDerivative\u001b[0m\u001b[1;33m(\u001b[0m\u001b[0mf\u001b[0m\u001b[1;33m,\u001b[0m \u001b[1;33m*\u001b[0m\u001b[0msymbols\u001b[0m\u001b[1;33m,\u001b[0m \u001b[1;33m**\u001b[0m\u001b[0mkwargs\u001b[0m\u001b[1;33m)\u001b[0m\u001b[1;33m\u001b[0m\u001b[1;33m\u001b[0m\u001b[0m\n",
      "\u001b[1;32mD:\\Apps\\Anaconda\\envs\\TF21\\lib\\site-packages\\sympy\\core\\expr.py\u001b[0m in \u001b[0;36mdiff\u001b[1;34m(self, *symbols, **assumptions)\u001b[0m\n\u001b[0;32m   3093\u001b[0m     \u001b[1;32mdef\u001b[0m \u001b[0mdiff\u001b[0m\u001b[1;33m(\u001b[0m\u001b[0mself\u001b[0m\u001b[1;33m,\u001b[0m \u001b[1;33m*\u001b[0m\u001b[0msymbols\u001b[0m\u001b[1;33m,\u001b[0m \u001b[1;33m**\u001b[0m\u001b[0massumptions\u001b[0m\u001b[1;33m)\u001b[0m\u001b[1;33m:\u001b[0m\u001b[1;33m\u001b[0m\u001b[1;33m\u001b[0m\u001b[0m\n\u001b[0;32m   3094\u001b[0m         \u001b[0massumptions\u001b[0m\u001b[1;33m.\u001b[0m\u001b[0msetdefault\u001b[0m\u001b[1;33m(\u001b[0m\u001b[1;34m\"evaluate\"\u001b[0m\u001b[1;33m,\u001b[0m \u001b[1;32mTrue\u001b[0m\u001b[1;33m)\u001b[0m\u001b[1;33m\u001b[0m\u001b[1;33m\u001b[0m\u001b[0m\n\u001b[1;32m-> 3095\u001b[1;33m         \u001b[1;32mreturn\u001b[0m \u001b[0mDerivative\u001b[0m\u001b[1;33m(\u001b[0m\u001b[0mself\u001b[0m\u001b[1;33m,\u001b[0m \u001b[1;33m*\u001b[0m\u001b[0msymbols\u001b[0m\u001b[1;33m,\u001b[0m \u001b[1;33m**\u001b[0m\u001b[0massumptions\u001b[0m\u001b[1;33m)\u001b[0m\u001b[1;33m\u001b[0m\u001b[1;33m\u001b[0m\u001b[0m\n\u001b[0m\u001b[0;32m   3096\u001b[0m \u001b[1;33m\u001b[0m\u001b[0m\n\u001b[0;32m   3097\u001b[0m     \u001b[1;31m###########################################################################\u001b[0m\u001b[1;33m\u001b[0m\u001b[1;33m\u001b[0m\u001b[1;33m\u001b[0m\u001b[0m\n",
      "\u001b[1;32mD:\\Apps\\Anaconda\\envs\\TF21\\lib\\site-packages\\sympy\\core\\function.py\u001b[0m in \u001b[0;36m__new__\u001b[1;34m(cls, expr, *variables, **kwargs)\u001b[0m\n\u001b[0;32m   1285\u001b[0m                 raise ValueError(filldedent('''\n\u001b[0;32m   1286\u001b[0m                     Can't calculate derivative wrt %s.%s''' % (v,\n\u001b[1;32m-> 1287\u001b[1;33m                     __)))\n\u001b[0m\u001b[0;32m   1288\u001b[0m \u001b[1;33m\u001b[0m\u001b[0m\n\u001b[0;32m   1289\u001b[0m         \u001b[1;31m# We make a special case for 0th derivative, because there is no\u001b[0m\u001b[1;33m\u001b[0m\u001b[1;33m\u001b[0m\u001b[1;33m\u001b[0m\u001b[0m\n",
      "\u001b[1;31mValueError\u001b[0m: \nCan't calculate derivative wrt\n-r(t)*sin(\\theta(t))*sin(\\varphi(t))*Derivative(\\varphi(t), t) +\nr(t)*cos(\\theta(t))*cos(\\varphi(t))*Derivative(\\theta(t), t) +\nsin(\\theta(t))*cos(\\varphi(t))*Derivative(r(t), t)."
     ]
    }
   ],
   "source": [
    "eq4 = diff(diff(L, d_x), t) - diff(L, x)"
   ]
  },
  {
   "cell_type": "code",
   "execution_count": null,
   "metadata": {},
   "outputs": [],
   "source": []
  },
  {
   "cell_type": "code",
   "execution_count": null,
   "metadata": {},
   "outputs": [],
   "source": []
  },
  {
   "cell_type": "code",
   "execution_count": null,
   "metadata": {},
   "outputs": [],
   "source": []
  },
  {
   "cell_type": "markdown",
   "metadata": {},
   "source": [
    "### 12.29"
   ]
  },
  {
   "cell_type": "code",
   "execution_count": 272,
   "metadata": {
    "ExecuteTime": {
     "end_time": "2020-11-30T04:27:20.694107Z",
     "start_time": "2020-11-30T04:27:20.689121Z"
    }
   },
   "outputs": [],
   "source": [
    "r, r1, r2 = sp.symbols(\"r r_1 r_2\")\n",
    "m, m1, m2 = sp.symbols(\"m m_1 m_2\")\n",
    "x, y, z, t, g = sp.symbols(\"x y z t g\")\n",
    "phi1,phi2, theta, l = sp.symbols(\"\\\\varphi_1 \\\\varphi_2 \\\\theta l\")"
   ]
  },
  {
   "cell_type": "code",
   "execution_count": 273,
   "metadata": {
    "ExecuteTime": {
     "end_time": "2020-11-30T04:27:20.893973Z",
     "start_time": "2020-11-30T04:27:20.889979Z"
    }
   },
   "outputs": [],
   "source": [
    "# r = Function(\"r\")(t)\n",
    "# theta = Function(\"\\\\theta\")(t)\n",
    "phi1 = Function(\"\\\\varphi_1\")(t)\n",
    "phi2 = Function(\"\\\\varphi_2\")(t)"
   ]
  },
  {
   "cell_type": "code",
   "execution_count": 274,
   "metadata": {
    "ExecuteTime": {
     "end_time": "2020-11-30T04:27:21.116799Z",
     "start_time": "2020-11-30T04:27:21.110849Z"
    }
   },
   "outputs": [],
   "source": [
    "y2 = l * cos(phi1) + (l * cos(phi2))/2\n",
    "x2 = l * sin(phi1) + (l * sin(phi2))/2"
   ]
  },
  {
   "cell_type": "code",
   "execution_count": 275,
   "metadata": {
    "ExecuteTime": {
     "end_time": "2020-11-30T04:27:21.372664Z",
     "start_time": "2020-11-30T04:27:21.367678Z"
    }
   },
   "outputs": [],
   "source": [
    "P = -m * g * (l / 2) * cos(phi1) + \\\n",
    "    -m * g * y2"
   ]
  },
  {
   "cell_type": "code",
   "execution_count": 276,
   "metadata": {
    "ExecuteTime": {
     "end_time": "2020-11-30T04:27:21.607961Z",
     "start_time": "2020-11-30T04:27:21.599983Z"
    }
   },
   "outputs": [
    {
     "data": {
      "text/latex": [
       "$\\displaystyle \\frac{l^{2} m \\left(\\frac{d}{d t} \\varphi_{1}{\\left(t \\right)}\\right)^{2}}{6}$"
      ],
      "text/plain": [
       "l**2*m*Derivative(\\varphi_1(t), t)**2/6"
      ]
     },
     "execution_count": 276,
     "metadata": {},
     "output_type": "execute_result"
    }
   ],
   "source": [
    "T1 = diff(phi1, t)**2 / 2 * m * l**2 / 3\n",
    "T1"
   ]
  },
  {
   "cell_type": "code",
   "execution_count": 277,
   "metadata": {
    "ExecuteTime": {
     "end_time": "2020-11-30T04:27:21.982818Z",
     "start_time": "2020-11-30T04:27:21.959877Z"
    }
   },
   "outputs": [],
   "source": [
    "v_cm_d2 = diff(y2, t)**2 + diff(x2, t)**2\n",
    "T2 =  m * v_cm_d2 / 2 + diff(phi2, t)**2/2*m*l**2/12"
   ]
  },
  {
   "cell_type": "code",
   "execution_count": 278,
   "metadata": {
    "ExecuteTime": {
     "end_time": "2020-11-30T04:27:22.874926Z",
     "start_time": "2020-11-30T04:27:22.865978Z"
    }
   },
   "outputs": [
    {
     "data": {
      "text/latex": [
       "$\\displaystyle \\frac{l^{2} m \\left(\\frac{d}{d t} \\varphi_{2}{\\left(t \\right)}\\right)^{2}}{24} + \\frac{m \\left(\\left(- l \\sin{\\left(\\varphi_{1}{\\left(t \\right)} \\right)} \\frac{d}{d t} \\varphi_{1}{\\left(t \\right)} - \\frac{l \\sin{\\left(\\varphi_{2}{\\left(t \\right)} \\right)} \\frac{d}{d t} \\varphi_{2}{\\left(t \\right)}}{2}\\right)^{2} + \\left(l \\cos{\\left(\\varphi_{1}{\\left(t \\right)} \\right)} \\frac{d}{d t} \\varphi_{1}{\\left(t \\right)} + \\frac{l \\cos{\\left(\\varphi_{2}{\\left(t \\right)} \\right)} \\frac{d}{d t} \\varphi_{2}{\\left(t \\right)}}{2}\\right)^{2}\\right)}{2}$"
      ],
      "text/plain": [
       "l**2*m*Derivative(\\varphi_2(t), t)**2/24 + m*((-l*sin(\\varphi_1(t))*Derivative(\\varphi_1(t), t) - l*sin(\\varphi_2(t))*Derivative(\\varphi_2(t), t)/2)**2 + (l*cos(\\varphi_1(t))*Derivative(\\varphi_1(t), t) + l*cos(\\varphi_2(t))*Derivative(\\varphi_2(t), t)/2)**2)/2"
      ]
     },
     "execution_count": 278,
     "metadata": {},
     "output_type": "execute_result"
    }
   ],
   "source": [
    "T2"
   ]
  },
  {
   "cell_type": "code",
   "execution_count": 285,
   "metadata": {
    "ExecuteTime": {
     "end_time": "2020-11-30T04:30:53.359900Z",
     "start_time": "2020-11-30T04:30:52.912377Z"
    }
   },
   "outputs": [
    {
     "data": {
      "text/latex": [
       "$\\displaystyle \\frac{9 g \\cos{\\left(\\varphi_{1}{\\left(t \\right)} \\right)}}{l} + \\frac{3 g \\cos{\\left(\\varphi_{2}{\\left(t \\right)} \\right)}}{l} + 3 \\cos{\\left(\\varphi_{1}{\\left(t \\right)} - \\varphi_{2}{\\left(t \\right)} \\right)} \\frac{d}{d t} \\varphi_{1}{\\left(t \\right)} \\frac{d}{d t} \\varphi_{2}{\\left(t \\right)} + 4 \\left(\\frac{d}{d t} \\varphi_{1}{\\left(t \\right)}\\right)^{2} + \\left(\\frac{d}{d t} \\varphi_{2}{\\left(t \\right)}\\right)^{2}$"
      ],
      "text/plain": [
       "9*g*cos(\\varphi_1(t))/l + 3*g*cos(\\varphi_2(t))/l + 3*cos(\\varphi_1(t) - \\varphi_2(t))*Derivative(\\varphi_1(t), t)*Derivative(\\varphi_2(t), t) + 4*Derivative(\\varphi_1(t), t)**2 + Derivative(\\varphi_2(t), t)**2"
      ]
     },
     "execution_count": 285,
     "metadata": {},
     "output_type": "execute_result"
    }
   ],
   "source": [
    "L = T2 + T1 - P\n",
    "L = sp.simplify(L  * 6 / l**2 / m)\n",
    "L"
   ]
  },
  {
   "cell_type": "code",
   "execution_count": 281,
   "metadata": {
    "ExecuteTime": {
     "end_time": "2020-11-30T04:28:44.014254Z",
     "start_time": "2020-11-30T04:28:43.919366Z"
    }
   },
   "outputs": [],
   "source": [
    "d_phi1 = diff(phi1, t)\n",
    "d_phi2 = diff(phi2, t)\n",
    "eq1 = diff(diff(L, d_phi1), t) - diff(L, phi1)\n",
    "eq2 = diff(diff(L, d_phi2), t) - diff(L, phi2)"
   ]
  },
  {
   "cell_type": "code",
   "execution_count": 282,
   "metadata": {
    "ExecuteTime": {
     "end_time": "2020-11-30T04:28:44.591407Z",
     "start_time": "2020-11-30T04:28:44.400764Z"
    }
   },
   "outputs": [
    {
     "data": {
      "text/latex": [
       "$\\displaystyle 9 g \\sin{\\left(\\varphi_{1}{\\left(t \\right)} \\right)} + 3 l \\sin{\\left(\\varphi_{1}{\\left(t \\right)} - \\varphi_{2}{\\left(t \\right)} \\right)} \\left(\\frac{d}{d t} \\varphi_{2}{\\left(t \\right)}\\right)^{2} + 3 l \\cos{\\left(\\varphi_{1}{\\left(t \\right)} - \\varphi_{2}{\\left(t \\right)} \\right)} \\frac{d^{2}}{d t^{2}} \\varphi_{2}{\\left(t \\right)} + 8 l \\frac{d^{2}}{d t^{2}} \\varphi_{1}{\\left(t \\right)}$"
      ],
      "text/plain": [
       "9*g*sin(\\varphi_1(t)) + 3*l*sin(\\varphi_1(t) - \\varphi_2(t))*Derivative(\\varphi_2(t), t)**2 + 3*l*cos(\\varphi_1(t) - \\varphi_2(t))*Derivative(\\varphi_2(t), (t, 2)) + 8*l*Derivative(\\varphi_1(t), (t, 2))"
      ]
     },
     "execution_count": 282,
     "metadata": {},
     "output_type": "execute_result"
    }
   ],
   "source": [
    "sp.simplify(eq1 / m / l * 6)"
   ]
  },
  {
   "cell_type": "code",
   "execution_count": 283,
   "metadata": {
    "ExecuteTime": {
     "end_time": "2020-11-30T04:28:45.270294Z",
     "start_time": "2020-11-30T04:28:45.084343Z"
    }
   },
   "outputs": [
    {
     "data": {
      "text/latex": [
       "$\\displaystyle 3 g \\sin{\\left(\\varphi_{2}{\\left(t \\right)} \\right)} - 3 l \\sin{\\left(\\varphi_{1}{\\left(t \\right)} - \\varphi_{2}{\\left(t \\right)} \\right)} \\left(\\frac{d}{d t} \\varphi_{1}{\\left(t \\right)}\\right)^{2} + 3 l \\cos{\\left(\\varphi_{1}{\\left(t \\right)} - \\varphi_{2}{\\left(t \\right)} \\right)} \\frac{d^{2}}{d t^{2}} \\varphi_{1}{\\left(t \\right)} + 2 l \\frac{d^{2}}{d t^{2}} \\varphi_{2}{\\left(t \\right)}$"
      ],
      "text/plain": [
       "3*g*sin(\\varphi_2(t)) - 3*l*sin(\\varphi_1(t) - \\varphi_2(t))*Derivative(\\varphi_1(t), t)**2 + 3*l*cos(\\varphi_1(t) - \\varphi_2(t))*Derivative(\\varphi_1(t), (t, 2)) + 2*l*Derivative(\\varphi_2(t), (t, 2))"
      ]
     },
     "execution_count": 283,
     "metadata": {},
     "output_type": "execute_result"
    }
   ],
   "source": [
    "sp.simplify(eq2 * 6 / m / l)"
   ]
  },
  {
   "cell_type": "markdown",
   "metadata": {},
   "source": [
    "### 12.46"
   ]
  },
  {
   "cell_type": "code",
   "execution_count": 304,
   "metadata": {
    "ExecuteTime": {
     "end_time": "2020-11-30T05:07:55.680578Z",
     "start_time": "2020-11-30T05:07:55.675592Z"
    }
   },
   "outputs": [],
   "source": [
    "r, rho, R, r1, r2 = sp.symbols(\"r \\\\rho R r_1 r_2\")\n",
    "m, M, m1, m2 = sp.symbols(\"m M m_1 m_2\")\n",
    "x, y, z, t, g = sp.symbols(\"x y z t g\")\n",
    "phi1,phi2, theta, l = sp.symbols(\"\\\\varphi_1 \\\\varphi_2 \\\\theta l\")"
   ]
  },
  {
   "cell_type": "code",
   "execution_count": 305,
   "metadata": {
    "ExecuteTime": {
     "end_time": "2020-11-30T05:07:56.276803Z",
     "start_time": "2020-11-30T05:07:56.271817Z"
    }
   },
   "outputs": [],
   "source": [
    "# r = Function(\"r\")(t)\n",
    "phi = Function(\"\\\\varphi\")(t)\n",
    "theta = Function(\"\\\\theta\")(t)"
   ]
  },
  {
   "cell_type": "code",
   "execution_count": 306,
   "metadata": {
    "ExecuteTime": {
     "end_time": "2020-11-30T05:07:56.538398Z",
     "start_time": "2020-11-30T05:07:56.531415Z"
    }
   },
   "outputs": [],
   "source": [
    "d_phi = diff(phi, t)\n",
    "d_psi = diff(psi, t)\n",
    "d_r = diff(r, t)\n",
    "d_theta = diff(theta, t)\n",
    "dd_phi = diff(d_phi, t)\n",
    "dd_psi = diff(d_psi, t)\n",
    "dd_r = diff(d_r, t)\n",
    "dd_theta = diff(d_theta, t)"
   ]
  },
  {
   "cell_type": "code",
   "execution_count": 307,
   "metadata": {
    "ExecuteTime": {
     "end_time": "2020-11-30T05:07:57.518009Z",
     "start_time": "2020-11-30T05:07:57.514020Z"
    }
   },
   "outputs": [],
   "source": [
    "I1 = M * (R**2 + rho**2) / 2\n",
    "I2 = m * r**2 / 2"
   ]
  },
  {
   "cell_type": "code",
   "execution_count": 308,
   "metadata": {
    "ExecuteTime": {
     "end_time": "2020-11-30T05:07:57.729113Z",
     "start_time": "2020-11-30T05:07:57.726153Z"
    }
   },
   "outputs": [],
   "source": [
    "y2 = (rho-r) * cos(phi)"
   ]
  },
  {
   "cell_type": "code",
   "execution_count": 309,
   "metadata": {
    "ExecuteTime": {
     "end_time": "2020-11-30T05:07:57.918873Z",
     "start_time": "2020-11-30T05:07:57.913876Z"
    }
   },
   "outputs": [],
   "source": [
    "P = -y2 * m * g"
   ]
  },
  {
   "cell_type": "code",
   "execution_count": 310,
   "metadata": {
    "ExecuteTime": {
     "end_time": "2020-11-30T05:07:58.135761Z",
     "start_time": "2020-11-30T05:07:58.130742Z"
    }
   },
   "outputs": [],
   "source": [
    "omega = (d_phi * (rho-r) - rho * d_theta)/r\n",
    "v_cm_d2 = (d_phi * (rho-r))**2"
   ]
  },
  {
   "cell_type": "code",
   "execution_count": 311,
   "metadata": {
    "ExecuteTime": {
     "end_time": "2020-11-30T05:07:58.429250Z",
     "start_time": "2020-11-30T05:07:58.422269Z"
    }
   },
   "outputs": [],
   "source": [
    "d_theta = diff(theta, t)\n",
    "d_phi = diff(phi, t)\n",
    "T1 = I1 * d_theta**2 / 2\n",
    "T2 = m / 2 * v_cm_d2 + I2 / 2 * omega**2"
   ]
  },
  {
   "cell_type": "code",
   "execution_count": 314,
   "metadata": {
    "ExecuteTime": {
     "end_time": "2020-11-30T05:08:01.490101Z",
     "start_time": "2020-11-30T05:08:01.173398Z"
    }
   },
   "outputs": [
    {
     "data": {
      "text/latex": [
       "$\\displaystyle \\frac{M \\dot{\\theta}^{2} \\left(R^{2} + \\rho^{2}\\right)}{4} + \\frac{\\dot{\\varphi}^{2} m \\left(\\rho - r\\right)^{2}}{2} + g m \\left(\\rho - r\\right) \\cos{\\left(\\varphi{\\left(t \\right)} \\right)} + \\frac{m \\left(\\dot{\\theta} \\rho - \\dot{\\varphi} \\left(\\rho - r\\right)\\right)^{2}}{4}$"
      ],
      "text/plain": [
       "M*\\dot{\\theta}**2*(R**2 + \\rho**2)/4 + \\dot{\\varphi}**2*m*(\\rho - r)**2/2 + g*m*(\\rho - r)*cos(\\varphi(t)) + m*(\\dot{\\theta}*\\rho - \\dot{\\varphi}*(\\rho - r))**2/4"
      ]
     },
     "execution_count": 314,
     "metadata": {},
     "output_type": "execute_result"
    }
   ],
   "source": [
    "L = T2 + T1 - P\n",
    "L = sp.simplify(L)\n",
    "L.subs(d_phi, dot_phi).subs(d_theta, dot_theta)"
   ]
  },
  {
   "cell_type": "code",
   "execution_count": 315,
   "metadata": {
    "ExecuteTime": {
     "end_time": "2020-11-30T05:08:02.552666Z",
     "start_time": "2020-11-30T05:08:02.502800Z"
    }
   },
   "outputs": [],
   "source": [
    "eq1 = diff(diff(L, d_phi), t) - diff(L, phi)\n",
    "eq2 = diff(diff(L, d_theta), t) - diff(L, theta)"
   ]
  },
  {
   "cell_type": "code",
   "execution_count": 316,
   "metadata": {
    "ExecuteTime": {
     "end_time": "2020-11-30T05:08:03.610914Z",
     "start_time": "2020-11-30T05:08:03.460454Z"
    }
   },
   "outputs": [
    {
     "data": {
      "text/latex": [
       "$\\displaystyle \\left(\\rho - r\\right) \\left(- \\rho \\frac{d^{2}}{d t^{2}} \\theta{\\left(t \\right)} + 2 g \\sin{\\left(\\varphi{\\left(t \\right)} \\right)} + 3 \\left(\\rho - r\\right) \\frac{d^{2}}{d t^{2}} \\varphi{\\left(t \\right)}\\right)$"
      ],
      "text/plain": [
       "(\\rho - r)*(-\\rho*Derivative(\\theta(t), (t, 2)) + 2*g*sin(\\varphi(t)) + 3*(\\rho - r)*Derivative(\\varphi(t), (t, 2)))"
      ]
     },
     "execution_count": 316,
     "metadata": {},
     "output_type": "execute_result"
    }
   ],
   "source": [
    "eq_1 = sp.simplify(eq1) * 2 / m\n",
    "eq_1"
   ]
  },
  {
   "cell_type": "code",
   "execution_count": 317,
   "metadata": {
    "ExecuteTime": {
     "end_time": "2020-11-30T05:08:04.385767Z",
     "start_time": "2020-11-30T05:08:04.334904Z"
    }
   },
   "outputs": [
    {
     "data": {
      "text/latex": [
       "$\\displaystyle M \\left(R^{2} + \\rho^{2}\\right) \\frac{d^{2}}{d t^{2}} \\theta{\\left(t \\right)} + \\rho m \\left(\\rho \\frac{d^{2}}{d t^{2}} \\theta{\\left(t \\right)} - \\left(\\rho - r\\right) \\frac{d^{2}}{d t^{2}} \\varphi{\\left(t \\right)}\\right)$"
      ],
      "text/plain": [
       "M*(R**2 + \\rho**2)*Derivative(\\theta(t), (t, 2)) + \\rho*m*(\\rho*Derivative(\\theta(t), (t, 2)) - (\\rho - r)*Derivative(\\varphi(t), (t, 2)))"
      ]
     },
     "execution_count": 317,
     "metadata": {},
     "output_type": "execute_result"
    }
   ],
   "source": [
    "eq_2 = sp.simplify(eq2) * 2\n",
    "eq_2"
   ]
  },
  {
   "cell_type": "code",
   "execution_count": 318,
   "metadata": {
    "ExecuteTime": {
     "end_time": "2020-11-30T05:08:05.289251Z",
     "start_time": "2020-11-30T05:08:05.285294Z"
    }
   },
   "outputs": [],
   "source": [
    "dot_theta = sp.symbols(\"\\\\dot{\\\\theta}\")\n",
    "dot_phi = sp.symbols(\"\\\\dot{\\\\varphi}\")\n",
    "ddot_theta = sp.symbols(\"\\\\ddot{\\\\theta}\")\n",
    "ddot_phi = sp.symbols(\"\\\\ddot{\\\\varphi}\")"
   ]
  },
  {
   "cell_type": "code",
   "execution_count": 319,
   "metadata": {
    "ExecuteTime": {
     "end_time": "2020-11-30T05:08:05.589084Z",
     "start_time": "2020-11-30T05:08:05.578146Z"
    }
   },
   "outputs": [
    {
     "data": {
      "text/latex": [
       "$\\displaystyle M \\ddot{\\theta} \\left(R^{2} + \\rho^{2}\\right) + \\rho m \\left(\\ddot{\\theta} \\rho - \\ddot{\\varphi} \\left(\\rho - r\\right)\\right)$"
      ],
      "text/plain": [
       "M*\\ddot{\\theta}*(R**2 + \\rho**2) + \\rho*m*(\\ddot{\\theta}*\\rho - \\ddot{\\varphi}*(\\rho - r))"
      ]
     },
     "execution_count": 319,
     "metadata": {},
     "output_type": "execute_result"
    }
   ],
   "source": [
    "b_eq_2 = eq_2.subs(dd_phi, ddot_phi).subs(dd_theta, ddot_theta)\n",
    "b_eq_2"
   ]
  },
  {
   "cell_type": "code",
   "execution_count": 322,
   "metadata": {
    "ExecuteTime": {
     "end_time": "2020-11-30T05:09:22.162163Z",
     "start_time": "2020-11-30T05:09:22.157176Z"
    }
   },
   "outputs": [
    {
     "name": "stdout",
     "output_type": "stream",
     "text": [
      "M \\ddot{\\theta} \\left(R^{2} + \\rho^{2}\\right) + \\rho m \\left(\\ddot{\\theta} \\rho - \\ddot{\\varphi} \\left(\\rho - r\\right)\\right)\n"
     ]
    }
   ],
   "source": [
    "print(sp.latex(b_eq_2))"
   ]
  },
  {
   "cell_type": "code",
   "execution_count": 321,
   "metadata": {
    "ExecuteTime": {
     "end_time": "2020-11-30T05:09:18.702061Z",
     "start_time": "2020-11-30T05:09:18.695095Z"
    }
   },
   "outputs": [
    {
     "data": {
      "text/latex": [
       "$\\displaystyle - \\ddot{\\theta} \\rho + 3 \\ddot{\\varphi} \\left(\\rho - r\\right) + 2 g \\sin{\\left(\\varphi{\\left(t \\right)} \\right)}$"
      ],
      "text/plain": [
       "-\\ddot{\\theta}*\\rho + 3*\\ddot{\\varphi}*(\\rho - r) + 2*g*sin(\\varphi(t))"
      ]
     },
     "execution_count": 321,
     "metadata": {},
     "output_type": "execute_result"
    }
   ],
   "source": [
    "b_eq_1 = eq_1.subs(dd_phi, ddot_phi).subs(dd_theta, ddot_theta)\n",
    "b_eq_1 / (rho - r)"
   ]
  },
  {
   "cell_type": "code",
   "execution_count": 323,
   "metadata": {
    "ExecuteTime": {
     "end_time": "2020-11-30T05:09:31.184931Z",
     "start_time": "2020-11-30T05:09:31.179978Z"
    }
   },
   "outputs": [
    {
     "name": "stdout",
     "output_type": "stream",
     "text": [
      "\\left(\\rho - r\\right) \\left(- \\ddot{\\theta} \\rho + 3 \\ddot{\\varphi} \\left(\\rho - r\\right) + 2 g \\sin{\\left(\\varphi{\\left(t \\right)} \\right)}\\right)\n"
     ]
    }
   ],
   "source": [
    "print(sp.latex(b_eq_1))"
   ]
  },
  {
   "cell_type": "markdown",
   "metadata": {},
   "source": [
    "### 12.59"
   ]
  },
  {
   "cell_type": "code",
   "execution_count": 334,
   "metadata": {
    "ExecuteTime": {
     "end_time": "2020-11-30T05:26:09.958736Z",
     "start_time": "2020-11-30T05:26:09.954509Z"
    }
   },
   "outputs": [],
   "source": [
    "x, y, z, t, g, k, r0 = sp.symbols(\"x y z t g k r_0\")"
   ]
  },
  {
   "cell_type": "code",
   "execution_count": 335,
   "metadata": {
    "ExecuteTime": {
     "end_time": "2020-11-30T05:26:10.123213Z",
     "start_time": "2020-11-30T05:26:10.119191Z"
    }
   },
   "outputs": [],
   "source": [
    "r = Function(\"r\")(t)\n",
    "phi = Function(\"\\\\varphi\")(t)\n",
    "theta = Function(\"\\\\theta\")(t)\n",
    "psi = Function(\"\\\\psi\")(t)"
   ]
  },
  {
   "cell_type": "code",
   "execution_count": 336,
   "metadata": {
    "ExecuteTime": {
     "end_time": "2020-11-30T05:26:10.253831Z",
     "start_time": "2020-11-30T05:26:10.244854Z"
    }
   },
   "outputs": [],
   "source": [
    "d_phi = diff(phi, t)\n",
    "d_psi = diff(psi, t)\n",
    "d_r = diff(r, t)\n",
    "d_theta = diff(theta, t)\n",
    "dd_phi = diff(d_phi, t)\n",
    "dd_psi = diff(d_psi, t)\n",
    "dd_r = diff(d_r, t)\n",
    "dd_theta = diff(d_theta, t)"
   ]
  },
  {
   "cell_type": "code",
   "execution_count": 337,
   "metadata": {
    "ExecuteTime": {
     "end_time": "2020-11-30T05:26:10.374919Z",
     "start_time": "2020-11-30T05:26:10.370927Z"
    }
   },
   "outputs": [],
   "source": [
    "x = r * sin(theta) * cos(phi)\n",
    "y = r * sin(theta) * sin(phi)\n",
    "z = r * cos(theta)"
   ]
  },
  {
   "cell_type": "code",
   "execution_count": 338,
   "metadata": {
    "ExecuteTime": {
     "end_time": "2020-11-30T05:26:10.508560Z",
     "start_time": "2020-11-30T05:26:10.499583Z"
    }
   },
   "outputs": [
    {
     "data": {
      "text/latex": [
       "$\\displaystyle g m r{\\left(t \\right)} \\cos{\\left(\\theta{\\left(t \\right)} \\right)} + \\frac{k \\left(r_{0} - r{\\left(t \\right)}\\right)^{2}}{2}$"
      ],
      "text/plain": [
       "g*m*r(t)*cos(\\theta(t)) + k*(r_0 - r(t))**2/2"
      ]
     },
     "execution_count": 338,
     "metadata": {},
     "output_type": "execute_result"
    }
   ],
   "source": [
    "P = +m*g*z + k/2*(r0 - r)**2\n",
    "P"
   ]
  },
  {
   "cell_type": "code",
   "execution_count": 339,
   "metadata": {
    "ExecuteTime": {
     "end_time": "2020-11-30T05:26:11.172351Z",
     "start_time": "2020-11-30T05:26:10.619264Z"
    }
   },
   "outputs": [
    {
     "data": {
      "text/latex": [
       "$\\displaystyle \\dot{\\theta}^{2} r^{2}{\\left(t \\right)} + \\dot{\\varphi}^{2} r^{2}{\\left(t \\right)} \\sin^{2}{\\left(\\theta{\\left(t \\right)} \\right)} + \\left(\\frac{d}{d t} r{\\left(t \\right)}\\right)^{2}$"
      ],
      "text/plain": [
       "\\dot{\\theta}**2*r(t)**2 + \\dot{\\varphi}**2*r(t)**2*sin(\\theta(t))**2 + Derivative(r(t), t)**2"
      ]
     },
     "execution_count": 339,
     "metadata": {},
     "output_type": "execute_result"
    }
   ],
   "source": [
    "v_cm_d2 = diff(x, t)**2 + diff(y, t)**2 + diff(z, t)**2\n",
    "v_cm_d2 = sp.simplify(v_cm_d2)\n",
    "v_cm_d2.subs(d_phi, dot_phi).subs(d_theta, dot_theta)"
   ]
  },
  {
   "cell_type": "code",
   "execution_count": 340,
   "metadata": {
    "ExecuteTime": {
     "end_time": "2020-11-30T05:26:11.251815Z",
     "start_time": "2020-11-30T05:26:11.247815Z"
    }
   },
   "outputs": [],
   "source": [
    "T1 = m/2 * (v_cm_d2)"
   ]
  },
  {
   "cell_type": "code",
   "execution_count": 341,
   "metadata": {
    "ExecuteTime": {
     "end_time": "2020-11-30T05:26:11.436312Z",
     "start_time": "2020-11-30T05:26:11.314637Z"
    }
   },
   "outputs": [
    {
     "data": {
      "text/latex": [
       "$\\displaystyle \\frac{m \\left(r^{2}{\\left(t \\right)} \\sin^{2}{\\left(\\theta{\\left(t \\right)} \\right)} \\left(\\frac{d}{d t} \\varphi{\\left(t \\right)}\\right)^{2} + r^{2}{\\left(t \\right)} \\left(\\frac{d}{d t} \\theta{\\left(t \\right)}\\right)^{2} + \\left(\\frac{d}{d t} r{\\left(t \\right)}\\right)^{2}\\right)}{2}$"
      ],
      "text/plain": [
       "m*(r(t)**2*sin(\\theta(t))**2*Derivative(\\varphi(t), t)**2 + r(t)**2*Derivative(\\theta(t), t)**2 + Derivative(r(t), t)**2)/2"
      ]
     },
     "execution_count": 341,
     "metadata": {},
     "output_type": "execute_result"
    }
   ],
   "source": [
    "sp.simplify(T1)"
   ]
  },
  {
   "cell_type": "code",
   "execution_count": 342,
   "metadata": {
    "ExecuteTime": {
     "end_time": "2020-11-30T05:26:14.927549Z",
     "start_time": "2020-11-30T05:26:14.923555Z"
    }
   },
   "outputs": [],
   "source": [
    "omega1 = d_psi * sin(theta) * sin(phi) + d_theta * cos(phi)\n",
    "omega2 = d_psi * sin(theta) * cos(phi) - d_theta * sin(phi)\n",
    "omega3 = d_psi * cos(theta) + d_phi\n",
    "omega = Matrix([[omega1],[omega2],[omega3]])"
   ]
  },
  {
   "cell_type": "code",
   "execution_count": 343,
   "metadata": {
    "ExecuteTime": {
     "end_time": "2020-11-30T05:26:15.325949Z",
     "start_time": "2020-11-30T05:26:15.319003Z"
    }
   },
   "outputs": [
    {
     "data": {
      "text/latex": [
       "$\\displaystyle \\left[\\begin{matrix}\\frac{R^{2} m}{4} & 0 & 0\\\\0 & \\frac{R^{2} m}{4} & 0\\\\0 & 0 & \\frac{R^{2} m}{2}\\end{matrix}\\right]$"
      ],
      "text/plain": [
       "Matrix([\n",
       "[R**2*m/4,        0,        0],\n",
       "[       0, R**2*m/4,        0],\n",
       "[       0,        0, R**2*m/2]])"
      ]
     },
     "execution_count": 343,
     "metadata": {},
     "output_type": "execute_result"
    }
   ],
   "source": [
    "J = m * R**2 / 4 * Matrix(\n",
    "    [[1, 0, 0],[0, 1, 0],[0, 0,2]]\n",
    ")\n",
    "J"
   ]
  },
  {
   "cell_type": "code",
   "execution_count": 344,
   "metadata": {
    "ExecuteTime": {
     "end_time": "2020-11-30T05:26:15.657203Z",
     "start_time": "2020-11-30T05:26:15.649251Z"
    }
   },
   "outputs": [
    {
     "data": {
      "text/latex": [
       "$\\displaystyle \\left[\\begin{matrix}\\sin{\\left(\\theta{\\left(t \\right)} \\right)} \\sin{\\left(\\varphi{\\left(t \\right)} \\right)} \\frac{d}{d t} \\psi{\\left(t \\right)} + \\cos{\\left(\\varphi{\\left(t \\right)} \\right)} \\frac{d}{d t} \\theta{\\left(t \\right)}\\\\\\sin{\\left(\\theta{\\left(t \\right)} \\right)} \\cos{\\left(\\varphi{\\left(t \\right)} \\right)} \\frac{d}{d t} \\psi{\\left(t \\right)} - \\sin{\\left(\\varphi{\\left(t \\right)} \\right)} \\frac{d}{d t} \\theta{\\left(t \\right)}\\\\\\cos{\\left(\\theta{\\left(t \\right)} \\right)} \\frac{d}{d t} \\psi{\\left(t \\right)} + \\frac{d}{d t} \\varphi{\\left(t \\right)}\\end{matrix}\\right]$"
      ],
      "text/plain": [
       "Matrix([\n",
       "[sin(\\theta(t))*sin(\\varphi(t))*Derivative(\\psi(t), t) + cos(\\varphi(t))*Derivative(\\theta(t), t)],\n",
       "[sin(\\theta(t))*cos(\\varphi(t))*Derivative(\\psi(t), t) - sin(\\varphi(t))*Derivative(\\theta(t), t)],\n",
       "[                               cos(\\theta(t))*Derivative(\\psi(t), t) + Derivative(\\varphi(t), t)]])"
      ]
     },
     "execution_count": 344,
     "metadata": {},
     "output_type": "execute_result"
    }
   ],
   "source": [
    "omega"
   ]
  },
  {
   "cell_type": "code",
   "execution_count": 345,
   "metadata": {
    "ExecuteTime": {
     "end_time": "2020-11-30T05:26:17.257507Z",
     "start_time": "2020-11-30T05:26:16.873655Z"
    }
   },
   "outputs": [],
   "source": [
    "T2 = sp.simplify((omega.T * J * omega)[0]) / 2"
   ]
  },
  {
   "cell_type": "code",
   "execution_count": 346,
   "metadata": {
    "ExecuteTime": {
     "end_time": "2020-11-30T05:26:17.331179Z",
     "start_time": "2020-11-30T05:26:17.324164Z"
    }
   },
   "outputs": [
    {
     "data": {
      "text/latex": [
       "$\\displaystyle - g m r{\\left(t \\right)} \\cos{\\left(\\theta{\\left(t \\right)} \\right)} - \\frac{k \\left(r_{0} - r{\\left(t \\right)}\\right)^{2}}{2}$"
      ],
      "text/plain": [
       "-g*m*r(t)*cos(\\theta(t)) - k*(r_0 - r(t))**2/2"
      ]
     },
     "execution_count": 346,
     "metadata": {},
     "output_type": "execute_result"
    }
   ],
   "source": [
    "-P"
   ]
  },
  {
   "cell_type": "code",
   "execution_count": 347,
   "metadata": {
    "ExecuteTime": {
     "end_time": "2020-11-30T05:26:18.437199Z",
     "start_time": "2020-11-30T05:26:18.431240Z"
    }
   },
   "outputs": [
    {
     "data": {
      "text/latex": [
       "$\\displaystyle \\frac{m \\left(r^{2}{\\left(t \\right)} \\sin^{2}{\\left(\\theta{\\left(t \\right)} \\right)} \\left(\\frac{d}{d t} \\varphi{\\left(t \\right)}\\right)^{2} + r^{2}{\\left(t \\right)} \\left(\\frac{d}{d t} \\theta{\\left(t \\right)}\\right)^{2} + \\left(\\frac{d}{d t} r{\\left(t \\right)}\\right)^{2}\\right)}{2}$"
      ],
      "text/plain": [
       "m*(r(t)**2*sin(\\theta(t))**2*Derivative(\\varphi(t), t)**2 + r(t)**2*Derivative(\\theta(t), t)**2 + Derivative(r(t), t)**2)/2"
      ]
     },
     "execution_count": 347,
     "metadata": {},
     "output_type": "execute_result"
    }
   ],
   "source": [
    "T1"
   ]
  },
  {
   "cell_type": "code",
   "execution_count": 348,
   "metadata": {
    "ExecuteTime": {
     "end_time": "2020-11-30T05:26:19.483380Z",
     "start_time": "2020-11-30T05:26:19.476373Z"
    }
   },
   "outputs": [
    {
     "data": {
      "text/latex": [
       "$\\displaystyle \\frac{R^{2} m \\left(\\cos^{2}{\\left(\\theta{\\left(t \\right)} \\right)} \\left(\\frac{d}{d t} \\psi{\\left(t \\right)}\\right)^{2} + 4 \\cos{\\left(\\theta{\\left(t \\right)} \\right)} \\frac{d}{d t} \\psi{\\left(t \\right)} \\frac{d}{d t} \\varphi{\\left(t \\right)} + \\left(\\frac{d}{d t} \\psi{\\left(t \\right)}\\right)^{2} + \\left(\\frac{d}{d t} \\theta{\\left(t \\right)}\\right)^{2} + 2 \\left(\\frac{d}{d t} \\varphi{\\left(t \\right)}\\right)^{2}\\right)}{8}$"
      ],
      "text/plain": [
       "R**2*m*(cos(\\theta(t))**2*Derivative(\\psi(t), t)**2 + 4*cos(\\theta(t))*Derivative(\\psi(t), t)*Derivative(\\varphi(t), t) + Derivative(\\psi(t), t)**2 + Derivative(\\theta(t), t)**2 + 2*Derivative(\\varphi(t), t)**2)/8"
      ]
     },
     "execution_count": 348,
     "metadata": {},
     "output_type": "execute_result"
    }
   ],
   "source": [
    "T2"
   ]
  },
  {
   "cell_type": "code",
   "execution_count": 349,
   "metadata": {
    "ExecuteTime": {
     "end_time": "2020-11-30T05:26:20.316248Z",
     "start_time": "2020-11-30T05:26:20.313223Z"
    }
   },
   "outputs": [],
   "source": [
    "L = T2 + T1 - P "
   ]
  },
  {
   "cell_type": "code",
   "execution_count": 369,
   "metadata": {
    "ExecuteTime": {
     "end_time": "2020-11-30T05:37:23.854565Z",
     "start_time": "2020-11-30T05:37:23.849579Z"
    }
   },
   "outputs": [],
   "source": [
    "dot_theta = sp.symbols(\"\\\\dot{\\\\theta}\")\n",
    "dot_phi = sp.symbols(\"\\\\dot{\\\\varphi}\")\n",
    "dot_psi = sp.symbols(\"\\\\dot{\\\\psi}\")\n",
    "dot_r = sp.symbols(\"\\\\dot{r}\")\n",
    "ddot_theta = sp.symbols(\"\\\\ddot{\\\\theta}\")\n",
    "ddot_phi = sp.symbols(\"\\\\ddot{\\\\varphi}\")\n",
    "ddot_r = sp.symbols(\"\\\\ddot{r}\")\n",
    "ddot_psi = sp.symbols(\"\\\\ddot{\\\\psi}\")"
   ]
  },
  {
   "cell_type": "code",
   "execution_count": 370,
   "metadata": {
    "ExecuteTime": {
     "end_time": "2020-11-30T05:37:25.124485Z",
     "start_time": "2020-11-30T05:37:24.500496Z"
    }
   },
   "outputs": [],
   "source": [
    "L = sp.simplify(L)"
   ]
  },
  {
   "cell_type": "code",
   "execution_count": 391,
   "metadata": {
    "ExecuteTime": {
     "end_time": "2020-11-30T05:41:11.741817Z",
     "start_time": "2020-11-30T05:41:11.736797Z"
    }
   },
   "outputs": [],
   "source": [
    "_r, _phi, _psi, _theta = sp.symbols(\"r \\\\varphi \\\\psi \\\\theta\")\n",
    "def subs_dots(L):\n",
    "    tmp = L.subs(dd_theta, ddot_theta).subs(dd_phi, ddot_phi)\n",
    "    tmp = tmp.subs(dd_psi, ddot_psi).subs(dd_r, ddot_r)\n",
    "    tmp = tmp.subs(d_theta, dot_theta).subs(d_phi, dot_phi)\n",
    "    tmp = tmp.subs(d_psi, dot_psi).subs(d_r, dot_r)\n",
    "    tmp = tmp.subs(theta, _theta).subs(phi, _phi)\n",
    "    tmp = tmp.subs(psi, _psi).subs(r, _r)\n",
    "    return tmp"
   ]
  },
  {
   "cell_type": "code",
   "execution_count": 392,
   "metadata": {
    "ExecuteTime": {
     "end_time": "2020-11-30T05:41:12.377045Z",
     "start_time": "2020-11-30T05:41:12.353109Z"
    }
   },
   "outputs": [
    {
     "data": {
      "text/latex": [
       "$\\displaystyle \\frac{R^{2} m \\left(\\dot{\\psi}^{2} \\cos^{2}{\\left(\\theta \\right)} + \\dot{\\psi}^{2} + 4 \\dot{\\psi} \\dot{\\varphi} \\cos{\\left(\\theta \\right)} + \\dot{\\theta}^{2} + 2 \\dot{\\varphi}^{2}\\right)}{8} - g m r \\cos{\\left(\\theta \\right)} - \\frac{k \\left(- r + r_{0}\\right)^{2}}{2} + \\frac{m \\left(\\dot{\\theta}^{2} r^{2} + \\dot{\\varphi}^{2} r^{2} \\sin^{2}{\\left(\\theta \\right)} + \\dot{r}^{2}\\right)}{2}$"
      ],
      "text/plain": [
       "R**2*m*(\\dot{\\psi}**2*cos(\\theta)**2 + \\dot{\\psi}**2 + 4*\\dot{\\psi}*\\dot{\\varphi}*cos(\\theta) + \\dot{\\theta}**2 + 2*\\dot{\\varphi}**2)/8 - g*m*r*cos(\\theta) - k*(-r + r_0)**2/2 + m*(\\dot{\\theta}**2*r**2 + \\dot{\\varphi}**2*r**2*sin(\\theta)**2 + \\dot{r}**2)/2"
      ]
     },
     "execution_count": 392,
     "metadata": {},
     "output_type": "execute_result"
    }
   ],
   "source": [
    "subs_dots(L)"
   ]
  },
  {
   "cell_type": "code",
   "execution_count": 385,
   "metadata": {
    "ExecuteTime": {
     "end_time": "2020-11-30T05:39:52.886682Z",
     "start_time": "2020-11-30T05:39:52.766815Z"
    }
   },
   "outputs": [],
   "source": [
    "eq1 = diff(diff(L, d_phi), t) - diff(L, phi)\n",
    "eq2 = diff(diff(L, d_theta), t) - diff(L, theta)\n",
    "eq3 = diff(diff(L, d_psi), t) - diff(L, psi)\n",
    "eq4 = diff(diff(L, d_r), t) - diff(L, r)"
   ]
  },
  {
   "cell_type": "code",
   "execution_count": 386,
   "metadata": {
    "ExecuteTime": {
     "end_time": "2020-11-30T05:39:56.294594Z",
     "start_time": "2020-11-30T05:39:54.613259Z"
    }
   },
   "outputs": [],
   "source": [
    "eqs = [eq1, eq2, eq3, eq4]\n",
    "for i in range(4):\n",
    "    eq = sp.simplify(eqs[i])\n",
    "    eqs[i] = eq"
   ]
  },
  {
   "cell_type": "code",
   "execution_count": 387,
   "metadata": {
    "ExecuteTime": {
     "end_time": "2020-11-30T05:39:56.756313Z",
     "start_time": "2020-11-30T05:39:56.752291Z"
    }
   },
   "outputs": [],
   "source": [
    "eq1, eq2, eq3, eq4 = eqs"
   ]
  },
  {
   "cell_type": "code",
   "execution_count": 402,
   "metadata": {
    "ExecuteTime": {
     "end_time": "2020-11-30T05:43:00.124401Z",
     "start_time": "2020-11-30T05:43:00.111429Z"
    }
   },
   "outputs": [
    {
     "name": "stdout",
     "output_type": "stream",
     "text": [
      "R^{2} \\left(\\ddot{\\psi} \\cos{\\left(\\theta \\right)} + \\ddot{\\varphi} - \\dot{\\psi} \\dot{\\theta} \\sin{\\left(\\theta \\right)}\\right) + 2 \\ddot{\\varphi} r^{2} \\sin^{2}{\\left(\\theta \\right)} + 2 \\dot{\\theta} \\dot{\\varphi} r^{2} \\sin{\\left(2 \\theta \\right)} + 4 \\dot{\\varphi} \\dot{r} r \\sin^{2}{\\left(\\theta \\right)}\n",
      "\n",
      "R^{2} \\ddot{\\theta} + R^{2} \\dot{\\psi} \\left(\\dot{\\psi} \\cos{\\left(\\theta \\right)} + 2 \\dot{\\varphi}\\right) \\sin{\\left(\\theta \\right)} + 4 \\ddot{\\theta} r^{2} + 8 \\dot{\\theta} \\dot{r} r - 2 \\dot{\\varphi}^{2} r^{2} \\sin{\\left(2 \\theta \\right)} - 4 g r \\sin{\\left(\\theta \\right)}\n",
      "\n",
      "\\ddot{\\psi} \\cos^{2}{\\left(\\theta \\right)} + \\ddot{\\psi} + 2 \\ddot{\\varphi} \\cos{\\left(\\theta \\right)} - \\dot{\\psi} \\dot{\\theta} \\sin{\\left(2 \\theta \\right)} - 2 \\dot{\\theta} \\dot{\\varphi} \\sin{\\left(\\theta \\right)}\n",
      "\n",
      "2 \\ddot{r} m + 2 g m \\cos{\\left(\\theta \\right)} - 2 k \\left(- r + r_{0}\\right) - 2 m r \\left(\\dot{\\theta}^{2} + \\dot{\\varphi}^{2} \\sin^{2}{\\left(\\theta \\right)}\\right)\n",
      "\n"
     ]
    }
   ],
   "source": [
    "print(sp.latex(subs_dots(eq1)*2/m))\n",
    "print()\n",
    "print(sp.latex(subs_dots(eq2)*4/m))\n",
    "print()\n",
    "print(sp.latex(subs_dots(eq3)*4/m/R**2))\n",
    "print()\n",
    "print(sp.latex(subs_dots(eq4)*2))\n",
    "print()"
   ]
  },
  {
   "cell_type": "code",
   "execution_count": 394,
   "metadata": {
    "ExecuteTime": {
     "end_time": "2020-11-30T05:41:25.781914Z",
     "start_time": "2020-11-30T05:41:25.768457Z"
    }
   },
   "outputs": [
    {
     "data": {
      "text/latex": [
       "$\\displaystyle R^{2} \\left(\\ddot{\\psi} \\cos{\\left(\\theta \\right)} + \\ddot{\\varphi} - \\dot{\\psi} \\dot{\\theta} \\sin{\\left(\\theta \\right)}\\right) + 2 \\ddot{\\varphi} r^{2} \\sin^{2}{\\left(\\theta \\right)} + 2 \\dot{\\theta} \\dot{\\varphi} r^{2} \\sin{\\left(2 \\theta \\right)} + 4 \\dot{\\varphi} \\dot{r} r \\sin^{2}{\\left(\\theta \\right)}$"
      ],
      "text/plain": [
       "R**2*(\\ddot{\\psi}*cos(\\theta) + \\ddot{\\varphi} - \\dot{\\psi}*\\dot{\\theta}*sin(\\theta)) + 2*\\ddot{\\varphi}*r**2*sin(\\theta)**2 + 2*\\dot{\\theta}*\\dot{\\varphi}*r**2*sin(2*\\theta) + 4*\\dot{\\varphi}*\\dot{r}*r*sin(\\theta)**2"
      ]
     },
     "execution_count": 394,
     "metadata": {},
     "output_type": "execute_result"
    }
   ],
   "source": [
    "subs_dots(eq1)*2/m"
   ]
  },
  {
   "cell_type": "code",
   "execution_count": 396,
   "metadata": {
    "ExecuteTime": {
     "end_time": "2020-11-30T05:41:35.097998Z",
     "start_time": "2020-11-30T05:41:35.088023Z"
    }
   },
   "outputs": [
    {
     "data": {
      "text/latex": [
       "$\\displaystyle R^{2} \\ddot{\\theta} + R^{2} \\dot{\\psi} \\left(\\dot{\\psi} \\cos{\\left(\\theta \\right)} + 2 \\dot{\\varphi}\\right) \\sin{\\left(\\theta \\right)} + 4 \\ddot{\\theta} r^{2} + 8 \\dot{\\theta} \\dot{r} r - 2 \\dot{\\varphi}^{2} r^{2} \\sin{\\left(2 \\theta \\right)} - 4 g r \\sin{\\left(\\theta \\right)}$"
      ],
      "text/plain": [
       "R**2*\\ddot{\\theta} + R**2*\\dot{\\psi}*(\\dot{\\psi}*cos(\\theta) + 2*\\dot{\\varphi})*sin(\\theta) + 4*\\ddot{\\theta}*r**2 + 8*\\dot{\\theta}*\\dot{r}*r - 2*\\dot{\\varphi}**2*r**2*sin(2*\\theta) - 4*g*r*sin(\\theta)"
      ]
     },
     "execution_count": 396,
     "metadata": {},
     "output_type": "execute_result"
    }
   ],
   "source": [
    "subs_dots(eq2)*4/m"
   ]
  },
  {
   "cell_type": "code",
   "execution_count": 399,
   "metadata": {
    "ExecuteTime": {
     "end_time": "2020-11-30T05:41:50.971346Z",
     "start_time": "2020-11-30T05:41:50.963369Z"
    }
   },
   "outputs": [
    {
     "data": {
      "text/latex": [
       "$\\displaystyle \\ddot{\\psi} \\cos^{2}{\\left(\\theta \\right)} + \\ddot{\\psi} + 2 \\ddot{\\varphi} \\cos{\\left(\\theta \\right)} - \\dot{\\psi} \\dot{\\theta} \\sin{\\left(2 \\theta \\right)} - 2 \\dot{\\theta} \\dot{\\varphi} \\sin{\\left(\\theta \\right)}$"
      ],
      "text/plain": [
       "\\ddot{\\psi}*cos(\\theta)**2 + \\ddot{\\psi} + 2*\\ddot{\\varphi}*cos(\\theta) - \\dot{\\psi}*\\dot{\\theta}*sin(2*\\theta) - 2*\\dot{\\theta}*\\dot{\\varphi}*sin(\\theta)"
      ]
     },
     "execution_count": 399,
     "metadata": {},
     "output_type": "execute_result"
    }
   ],
   "source": [
    "subs_dots(eq3)*4/m/R**2"
   ]
  },
  {
   "cell_type": "code",
   "execution_count": 401,
   "metadata": {
    "ExecuteTime": {
     "end_time": "2020-11-30T05:42:03.175835Z",
     "start_time": "2020-11-30T05:42:03.167888Z"
    }
   },
   "outputs": [
    {
     "data": {
      "text/latex": [
       "$\\displaystyle 2 \\ddot{r} m + 2 g m \\cos{\\left(\\theta \\right)} - 2 k \\left(- r + r_{0}\\right) - 2 m r \\left(\\dot{\\theta}^{2} + \\dot{\\varphi}^{2} \\sin^{2}{\\left(\\theta \\right)}\\right)$"
      ],
      "text/plain": [
       "2*\\ddot{r}*m + 2*g*m*cos(\\theta) - 2*k*(-r + r_0) - 2*m*r*(\\dot{\\theta}**2 + \\dot{\\varphi}**2*sin(\\theta)**2)"
      ]
     },
     "execution_count": 401,
     "metadata": {},
     "output_type": "execute_result"
    }
   ],
   "source": [
    "subs_dots(eq4)*2"
   ]
  },
  {
   "cell_type": "code",
   "execution_count": null,
   "metadata": {},
   "outputs": [],
   "source": []
  },
  {
   "cell_type": "code",
   "execution_count": null,
   "metadata": {},
   "outputs": [],
   "source": []
  },
  {
   "cell_type": "code",
   "execution_count": 327,
   "metadata": {
    "ExecuteTime": {
     "end_time": "2020-11-30T05:25:26.461033Z",
     "start_time": "2020-11-30T05:25:26.450159Z"
    }
   },
   "outputs": [
    {
     "ename": "NameError",
     "evalue": "name 'eqs' is not defined",
     "output_type": "error",
     "traceback": [
      "\u001b[1;31m---------------------------------------------------------------------------\u001b[0m",
      "\u001b[1;31mNameError\u001b[0m                                 Traceback (most recent call last)",
      "\u001b[1;32m<ipython-input-327-300bef5c07dc>\u001b[0m in \u001b[0;36m<module>\u001b[1;34m\u001b[0m\n\u001b[1;32m----> 1\u001b[1;33m \u001b[0meqs\u001b[0m\u001b[1;33m[\u001b[0m\u001b[1;36m1\u001b[0m\u001b[1;33m]\u001b[0m\u001b[1;33m\u001b[0m\u001b[1;33m\u001b[0m\u001b[0m\n\u001b[0m",
      "\u001b[1;31mNameError\u001b[0m: name 'eqs' is not defined"
     ]
    }
   ],
   "source": [
    "eqs[1]"
   ]
  },
  {
   "cell_type": "code",
   "execution_count": 296,
   "metadata": {
    "ExecuteTime": {
     "end_time": "2020-11-24T23:52:13.586092Z",
     "start_time": "2020-11-24T23:52:13.579113Z"
    }
   },
   "outputs": [
    {
     "name": "stdout",
     "output_type": "stream",
     "text": [
      "\\frac{m \\left(R^{2} \\left(- \\sin{\\left(\\theta{\\left(t \\right)} \\right)} \\frac{d}{d t} \\psi{\\left(t \\right)} \\frac{d}{d t} \\theta{\\left(t \\right)} + \\cos{\\left(\\theta{\\left(t \\right)} \\right)} \\frac{d^{2}}{d t^{2}} \\psi{\\left(t \\right)} + \\frac{d^{2}}{d t^{2}} \\varphi{\\left(t \\right)}\\right) + 2 r^{2}{\\left(t \\right)} \\sin^{2}{\\left(\\theta{\\left(t \\right)} \\right)} \\frac{d^{2}}{d t^{2}} \\varphi{\\left(t \\right)} + 2 r^{2}{\\left(t \\right)} \\sin{\\left(2 \\theta{\\left(t \\right)} \\right)} \\frac{d}{d t} \\theta{\\left(t \\right)} \\frac{d}{d t} \\varphi{\\left(t \\right)} + 4 r{\\left(t \\right)} \\sin^{2}{\\left(\\theta{\\left(t \\right)} \\right)} \\frac{d}{d t} \\varphi{\\left(t \\right)} \\frac{d}{d t} r{\\left(t \\right)}\\right)}{2}\n"
     ]
    }
   ],
   "source": [
    "print(sp.latex(eq1))"
   ]
  },
  {
   "cell_type": "markdown",
   "metadata": {
    "heading_collapsed": true
   },
   "source": [
    "### 15.5"
   ]
  },
  {
   "cell_type": "code",
   "execution_count": 5,
   "metadata": {
    "ExecuteTime": {
     "end_time": "2020-11-28T20:13:57.567682Z",
     "start_time": "2020-11-28T20:13:57.563725Z"
    },
    "hidden": true
   },
   "outputs": [],
   "source": [
    "x, alpha, omega, t, g, m, r, l = sp.symbols(\"x \\\\alpha \\\\omega t g m r l\")"
   ]
  },
  {
   "cell_type": "code",
   "execution_count": 3,
   "metadata": {
    "ExecuteTime": {
     "end_time": "2020-11-28T20:12:34.584115Z",
     "start_time": "2020-11-28T20:12:34.578155Z"
    },
    "hidden": true
   },
   "outputs": [],
   "source": [
    "r = Function(\"r\")(t)\n",
    "phi = Function(\"\\\\varphi\")(t)\n",
    "theta = Function(\"\\\\theta\")(t)\n",
    "psi = Function(\"\\\\psi\")(t)"
   ]
  },
  {
   "cell_type": "code",
   "execution_count": 7,
   "metadata": {
    "ExecuteTime": {
     "end_time": "2020-11-28T20:14:08.144729Z",
     "start_time": "2020-11-28T20:14:08.141737Z"
    },
    "hidden": true
   },
   "outputs": [],
   "source": [
    "rho = sp.sqrt(r**2+l**2)"
   ]
  },
  {
   "cell_type": "code",
   "execution_count": 9,
   "metadata": {
    "ExecuteTime": {
     "end_time": "2020-11-28T20:14:43.499065Z",
     "start_time": "2020-11-28T20:14:41.442074Z"
    },
    "hidden": true
   },
   "outputs": [
    {
     "data": {
      "text/latex": [
       "$\\displaystyle - \\frac{2 \\alpha m}{\\sqrt{l^{2} + r^{2}}} - \\omega^{2} m r^{2}$"
      ],
      "text/plain": [
       "-2*\\alpha*m/sqrt(l**2 + r**2) - \\omega**2*m*r**2"
      ]
     },
     "execution_count": 9,
     "metadata": {},
     "output_type": "execute_result"
    }
   ],
   "source": [
    "P = - 2 * alpha * m / rho - omega**2 * r**2 * m\n",
    "P"
   ]
  },
  {
   "cell_type": "code",
   "execution_count": 18,
   "metadata": {
    "ExecuteTime": {
     "end_time": "2020-11-28T20:16:14.290093Z",
     "start_time": "2020-11-28T20:16:14.283080Z"
    },
    "hidden": true
   },
   "outputs": [
    {
     "data": {
      "text/latex": [
       "$\\displaystyle \\frac{2 \\alpha m r}{\\left(l^{2} + r^{2}\\right)^{\\frac{3}{2}}} - 2 \\omega^{2} m r$"
      ],
      "text/plain": [
       "2*\\alpha*m*r/(l**2 + r**2)**(3/2) - 2*\\omega**2*m*r"
      ]
     },
     "execution_count": 18,
     "metadata": {},
     "output_type": "execute_result"
    }
   ],
   "source": [
    "P_d1r = diff(P, r)\n",
    "P_d1r"
   ]
  },
  {
   "cell_type": "code",
   "execution_count": 19,
   "metadata": {
    "ExecuteTime": {
     "end_time": "2020-11-28T20:16:25.569113Z",
     "start_time": "2020-11-28T20:16:25.542150Z"
    },
    "hidden": true
   },
   "outputs": [
    {
     "data": {
      "text/latex": [
       "$\\displaystyle 2 m \\left(- \\frac{3 \\alpha r^{2}}{\\left(l^{2} + r^{2}\\right)^{\\frac{5}{2}}} + \\frac{\\alpha}{\\left(l^{2} + r^{2}\\right)^{\\frac{3}{2}}} - \\omega^{2}\\right)$"
      ],
      "text/plain": [
       "2*m*(-3*\\alpha*r**2/(l**2 + r**2)**(5/2) + \\alpha/(l**2 + r**2)**(3/2) - \\omega**2)"
      ]
     },
     "execution_count": 19,
     "metadata": {},
     "output_type": "execute_result"
    }
   ],
   "source": [
    "P_d2r = diff(P, r, r)\n",
    "P_d2r"
   ]
  },
  {
   "cell_type": "code",
   "execution_count": 35,
   "metadata": {
    "ExecuteTime": {
     "end_time": "2020-11-28T20:20:30.153824Z",
     "start_time": "2020-11-28T20:20:30.147808Z"
    },
    "hidden": true
   },
   "outputs": [
    {
     "data": {
      "text/latex": [
       "$\\displaystyle \\sqrt{- l^{2} + \\sqrt[3]{\\frac{\\alpha^{2}}{\\omega^{4}}}}$"
      ],
      "text/plain": [
       "sqrt(-l**2 + (\\alpha**2/\\omega**4)**(1/3))"
      ]
     },
     "execution_count": 35,
     "metadata": {},
     "output_type": "execute_result"
    }
   ],
   "source": [
    "r1 = 0\n",
    "r2 = sp.sqrt(sp.root((alpha/omega**2)**2, 3)-l**2)\n",
    "r2"
   ]
  },
  {
   "cell_type": "code",
   "execution_count": 155,
   "metadata": {
    "ExecuteTime": {
     "end_time": "2020-11-29T02:01:19.239111Z",
     "start_time": "2020-11-29T02:01:19.181298Z"
    },
    "hidden": true
   },
   "outputs": [
    {
     "data": {
      "text/latex": [
       "$\\displaystyle \\frac{6 \\alpha l^{2}}{\\left(\\frac{\\alpha^{2}}{\\omega^{4}}\\right)^{\\frac{5}{6}}} - \\frac{4 \\alpha}{\\sqrt{\\frac{\\alpha^{2}}{\\omega^{4}}}} - 2 \\omega^{2}$"
      ],
      "text/plain": [
       "6*\\alpha*l**2/(\\alpha**2/\\omega**4)**(5/6) - 4*\\alpha/sqrt(\\alpha**2/\\omega**4) - 2*\\omega**2"
      ]
     },
     "execution_count": 155,
     "metadata": {},
     "output_type": "execute_result"
    }
   ],
   "source": [
    "sp.simplify(P_d2r.subs(r, r2)/m)"
   ]
  },
  {
   "cell_type": "code",
   "execution_count": 156,
   "metadata": {
    "ExecuteTime": {
     "end_time": "2020-11-29T02:01:24.309659Z",
     "start_time": "2020-11-29T02:01:24.274734Z"
    },
    "hidden": true
   },
   "outputs": [
    {
     "data": {
      "text/latex": [
       "$\\displaystyle \\frac{2 \\alpha}{\\left(l^{2}\\right)^{\\frac{3}{2}}} - 2 \\omega^{2}$"
      ],
      "text/plain": [
       "2*\\alpha/(l**2)**(3/2) - 2*\\omega**2"
      ]
     },
     "execution_count": 156,
     "metadata": {},
     "output_type": "execute_result"
    }
   ],
   "source": [
    "sp.simplify(P_d2r.subs(r, r1)/m)"
   ]
  },
  {
   "cell_type": "markdown",
   "metadata": {
    "heading_collapsed": true
   },
   "source": [
    "### 15.5"
   ]
  },
  {
   "cell_type": "code",
   "execution_count": 44,
   "metadata": {
    "ExecuteTime": {
     "end_time": "2020-11-28T20:56:46.040122Z",
     "start_time": "2020-11-28T20:56:46.036130Z"
    },
    "hidden": true
   },
   "outputs": [],
   "source": [
    "x, alpha, omega, t, g, m, r, l, a, b, phi = sp.symbols(\"x \\\\alpha \\\\omega t g m r l a b \\\\varphi\")"
   ]
  },
  {
   "cell_type": "code",
   "execution_count": 45,
   "metadata": {
    "ExecuteTime": {
     "end_time": "2020-11-28T20:57:14.277145Z",
     "start_time": "2020-11-28T20:57:14.267203Z"
    },
    "hidden": true
   },
   "outputs": [
    {
     "data": {
      "text/latex": [
       "$\\displaystyle - \\frac{\\omega^{2} a^{2} \\sin^{2}{\\left(\\varphi \\right)}}{2} + b g \\cos{\\left(\\varphi \\right)}$"
      ],
      "text/plain": [
       "-\\omega**2*a**2*sin(\\varphi)**2/2 + b*g*cos(\\varphi)"
      ]
     },
     "execution_count": 45,
     "metadata": {},
     "output_type": "execute_result"
    }
   ],
   "source": [
    "P = b * g * sp.cos(phi) - omega**2/2 * a**2 * sp.sin(phi)**2\n",
    "P"
   ]
  },
  {
   "cell_type": "code",
   "execution_count": 49,
   "metadata": {
    "ExecuteTime": {
     "end_time": "2020-11-28T20:59:02.617849Z",
     "start_time": "2020-11-28T20:59:02.570008Z"
    },
    "hidden": true
   },
   "outputs": [
    {
     "data": {
      "text/latex": [
       "$\\displaystyle - \\omega^{2} a^{2} \\cos{\\left(\\varphi \\right)} - b g$"
      ],
      "text/plain": [
       "-\\omega**2*a**2*cos(\\varphi) - b*g"
      ]
     },
     "execution_count": 49,
     "metadata": {},
     "output_type": "execute_result"
    }
   ],
   "source": [
    "P_d1phi = diff(P, phi)\n",
    "sp.simplify(P_d1phi/sin(phi))"
   ]
  },
  {
   "cell_type": "code",
   "execution_count": 52,
   "metadata": {
    "ExecuteTime": {
     "end_time": "2020-11-28T20:59:21.147265Z",
     "start_time": "2020-11-28T20:59:21.131610Z"
    },
    "hidden": true
   },
   "outputs": [
    {
     "data": {
      "text/latex": [
       "$\\displaystyle \\omega^{2} a^{2} \\sin^{2}{\\left(\\varphi \\right)} - \\omega^{2} a^{2} \\cos^{2}{\\left(\\varphi \\right)} - b g \\cos{\\left(\\varphi \\right)}$"
      ],
      "text/plain": [
       "\\omega**2*a**2*sin(\\varphi)**2 - \\omega**2*a**2*cos(\\varphi)**2 - b*g*cos(\\varphi)"
      ]
     },
     "execution_count": 52,
     "metadata": {},
     "output_type": "execute_result"
    }
   ],
   "source": [
    "P_d2phi = diff(P, phi, phi)\n",
    "P_d2phi"
   ]
  },
  {
   "cell_type": "code",
   "execution_count": 59,
   "metadata": {
    "ExecuteTime": {
     "end_time": "2020-11-28T21:06:01.873852Z",
     "start_time": "2020-11-28T21:06:01.866838Z"
    },
    "hidden": true
   },
   "outputs": [
    {
     "data": {
      "text/latex": [
       "$\\displaystyle \\omega^{2} a^{2} \\left(1 - \\frac{b^{2} g^{2}}{\\omega^{4} a^{4}}\\right)$"
      ],
      "text/plain": [
       "\\omega**2*a**2*(1 - b**2*g**2/(\\omega**4*a**4))"
      ]
     },
     "execution_count": 59,
     "metadata": {},
     "output_type": "execute_result"
    }
   ],
   "source": [
    "P_d2phi.subs(sin(phi)**2, 1 - cos(phi)**2).subs(cos(phi), -b*g/omega**2/a**2)"
   ]
  },
  {
   "cell_type": "code",
   "execution_count": null,
   "metadata": {
    "hidden": true
   },
   "outputs": [],
   "source": []
  },
  {
   "cell_type": "markdown",
   "metadata": {
    "heading_collapsed": true
   },
   "source": [
    "### Т1"
   ]
  },
  {
   "cell_type": "code",
   "execution_count": 178,
   "metadata": {
    "ExecuteTime": {
     "end_time": "2020-11-29T17:46:26.112135Z",
     "start_time": "2020-11-29T17:46:26.108147Z"
    },
    "hidden": true
   },
   "outputs": [],
   "source": [
    "x = Function(\"x\")(t)\n",
    "y = Function(\"y\")(t)"
   ]
  },
  {
   "cell_type": "code",
   "execution_count": 181,
   "metadata": {
    "ExecuteTime": {
     "end_time": "2020-11-29T17:46:59.784746Z",
     "start_time": "2020-11-29T17:46:59.780756Z"
    },
    "hidden": true
   },
   "outputs": [],
   "source": [
    "r = sp.sqrt(x**2 + y**2)\n",
    "phi = sp.atan(y/x)"
   ]
  },
  {
   "cell_type": "code",
   "execution_count": 182,
   "metadata": {
    "ExecuteTime": {
     "end_time": "2020-11-29T17:47:13.597649Z",
     "start_time": "2020-11-29T17:47:13.574713Z"
    },
    "hidden": true
   },
   "outputs": [
    {
     "data": {
      "text/latex": [
       "$\\displaystyle \\frac{x{\\left(t \\right)} \\frac{d}{d t} x{\\left(t \\right)} + y{\\left(t \\right)} \\frac{d}{d t} y{\\left(t \\right)}}{\\sqrt{x^{2}{\\left(t \\right)} + y^{2}{\\left(t \\right)}}}$"
      ],
      "text/plain": [
       "(x(t)*Derivative(x(t), t) + y(t)*Derivative(y(t), t))/sqrt(x(t)**2 + y(t)**2)"
      ]
     },
     "execution_count": 182,
     "metadata": {},
     "output_type": "execute_result"
    }
   ],
   "source": [
    "diff(r, t)"
   ]
  },
  {
   "cell_type": "code",
   "execution_count": 183,
   "metadata": {
    "ExecuteTime": {
     "end_time": "2020-11-29T17:47:30.073665Z",
     "start_time": "2020-11-29T17:47:30.054715Z"
    },
    "hidden": true
   },
   "outputs": [
    {
     "data": {
      "text/latex": [
       "$\\displaystyle \\frac{\\frac{\\frac{d}{d t} y{\\left(t \\right)}}{x{\\left(t \\right)}} - \\frac{y{\\left(t \\right)} \\frac{d}{d t} x{\\left(t \\right)}}{x^{2}{\\left(t \\right)}}}{1 + \\frac{y^{2}{\\left(t \\right)}}{x^{2}{\\left(t \\right)}}}$"
      ],
      "text/plain": [
       "(Derivative(y(t), t)/x(t) - y(t)*Derivative(x(t), t)/x(t)**2)/(1 + y(t)**2/x(t)**2)"
      ]
     },
     "execution_count": 183,
     "metadata": {},
     "output_type": "execute_result"
    }
   ],
   "source": [
    "diff(phi, t)"
   ]
  },
  {
   "cell_type": "code",
   "execution_count": null,
   "metadata": {
    "hidden": true
   },
   "outputs": [],
   "source": []
  },
  {
   "cell_type": "code",
   "execution_count": null,
   "metadata": {
    "hidden": true
   },
   "outputs": [],
   "source": []
  },
  {
   "cell_type": "code",
   "execution_count": 169,
   "metadata": {
    "ExecuteTime": {
     "end_time": "2020-11-29T17:37:56.757942Z",
     "start_time": "2020-11-29T17:37:56.752988Z"
    },
    "hidden": true
   },
   "outputs": [
    {
     "data": {
      "text/latex": [
       "$\\displaystyle \\dot{\\varphi}$"
      ],
      "text/plain": [
       "\\dot{\\varphi}"
      ]
     },
     "execution_count": 169,
     "metadata": {},
     "output_type": "execute_result"
    }
   ],
   "source": [
    "phi, v_phi = sp.symbols(\"\\\\varphi \\\\dot{\\\\varphi}\")\n",
    "v_phi"
   ]
  },
  {
   "cell_type": "code",
   "execution_count": 170,
   "metadata": {
    "ExecuteTime": {
     "end_time": "2020-11-29T17:38:10.698282Z",
     "start_time": "2020-11-29T17:38:10.693297Z"
    },
    "hidden": true
   },
   "outputs": [
    {
     "data": {
      "text/latex": [
       "$\\displaystyle \\dot{\\varphi} t$"
      ],
      "text/plain": [
       "\\dot{\\varphi}*t"
      ]
     },
     "execution_count": 170,
     "metadata": {},
     "output_type": "execute_result"
    }
   ],
   "source": [
    "phi = v_phi * t\n",
    "phi"
   ]
  },
  {
   "cell_type": "code",
   "execution_count": 171,
   "metadata": {
    "ExecuteTime": {
     "end_time": "2020-11-29T17:38:12.703375Z",
     "start_time": "2020-11-29T17:38:12.696392Z"
    },
    "hidden": true
   },
   "outputs": [
    {
     "data": {
      "text/latex": [
       "$\\displaystyle r{\\left(t \\right)} \\cos{\\left(\\dot{\\varphi} t \\right)}$"
      ],
      "text/plain": [
       "r(t)*cos(\\dot{\\varphi}*t)"
      ]
     },
     "execution_count": 171,
     "metadata": {},
     "output_type": "execute_result"
    }
   ],
   "source": [
    "x = r * cos(phi)\n",
    "y = r * sin(phi)\n",
    "x"
   ]
  },
  {
   "cell_type": "code",
   "execution_count": 176,
   "metadata": {
    "ExecuteTime": {
     "end_time": "2020-11-29T17:41:18.620619Z",
     "start_time": "2020-11-29T17:41:18.612641Z"
    },
    "hidden": true
   },
   "outputs": [
    {
     "data": {
      "text/latex": [
       "$\\displaystyle - \\dot{\\varphi}^{2} r{\\left(t \\right)} \\cos{\\left(\\dot{\\varphi} t \\right)} - 2 \\dot{\\varphi} \\sin{\\left(\\dot{\\varphi} t \\right)} \\frac{d}{d t} r{\\left(t \\right)} + \\cos{\\left(\\dot{\\varphi} t \\right)} \\frac{d^{2}}{d t^{2}} r{\\left(t \\right)}$"
      ],
      "text/plain": [
       "-\\dot{\\varphi}**2*r(t)*cos(\\dot{\\varphi}*t) - 2*\\dot{\\varphi}*sin(\\dot{\\varphi}*t)*Derivative(r(t), t) + cos(\\dot{\\varphi}*t)*Derivative(r(t), (t, 2))"
      ]
     },
     "execution_count": 176,
     "metadata": {},
     "output_type": "execute_result"
    }
   ],
   "source": [
    "x_2dt = diff(x, t, t)\n",
    "x_2dt"
   ]
  },
  {
   "cell_type": "code",
   "execution_count": 177,
   "metadata": {
    "ExecuteTime": {
     "end_time": "2020-11-29T17:41:19.086376Z",
     "start_time": "2020-11-29T17:41:19.078396Z"
    },
    "hidden": true
   },
   "outputs": [
    {
     "name": "stdout",
     "output_type": "stream",
     "text": [
      "- \\dot{\\varphi}^{2} r{\\left(t \\right)} \\cos{\\left(\\dot{\\varphi} t \\right)} - 2 \\dot{\\varphi} \\sin{\\left(\\dot{\\varphi} t \\right)} \\frac{d}{d t} r{\\left(t \\right)} + \\cos{\\left(\\dot{\\varphi} t \\right)} \\frac{d^{2}}{d t^{2}} r{\\left(t \\right)}\n"
     ]
    }
   ],
   "source": [
    "print(sp.latex(x_2dt))"
   ]
  },
  {
   "cell_type": "code",
   "execution_count": 173,
   "metadata": {
    "ExecuteTime": {
     "end_time": "2020-11-29T17:38:19.002096Z",
     "start_time": "2020-11-29T17:38:18.987135Z"
    },
    "hidden": true
   },
   "outputs": [
    {
     "data": {
      "text/latex": [
       "$\\displaystyle - \\dot{\\varphi}^{2} r{\\left(t \\right)} \\sin{\\left(\\dot{\\varphi} t \\right)} + 2 \\dot{\\varphi} \\cos{\\left(\\dot{\\varphi} t \\right)} \\frac{d}{d t} r{\\left(t \\right)} + \\sin{\\left(\\dot{\\varphi} t \\right)} \\frac{d^{2}}{d t^{2}} r{\\left(t \\right)}$"
      ],
      "text/plain": [
       "-\\dot{\\varphi}**2*r(t)*sin(\\dot{\\varphi}*t) + 2*\\dot{\\varphi}*cos(\\dot{\\varphi}*t)*Derivative(r(t), t) + sin(\\dot{\\varphi}*t)*Derivative(r(t), (t, 2))"
      ]
     },
     "execution_count": 173,
     "metadata": {},
     "output_type": "execute_result"
    }
   ],
   "source": [
    "y_2dt = diff(y, t, t)\n",
    "y_2dt"
   ]
  },
  {
   "cell_type": "markdown",
   "metadata": {
    "hidden": true
   },
   "source": [
    "\\begin{align}\n",
    "    \\dot{\\rho} &= -a^2 r \\\\\n",
    "    \\dot{r} &= \\rho \\\\\n",
    "    \\dot{\\varphi} &= {\\psi}_0 \\\\\n",
    "    \\dot{\\psi} &= 0\n",
    "\\end{align}"
   ]
  },
  {
   "cell_type": "markdown",
   "metadata": {
    "ExecuteTime": {
     "end_time": "2020-11-29T17:55:15.004438Z",
     "start_time": "2020-11-29T17:55:14.999451Z"
    },
    "hidden": true
   },
   "source": [
    "\\begin{align}\n",
    "    \\ddot{r} &= -a^2 r \\\\\n",
    "    \\ddot{\\varphi} &= 0\n",
    "\\end{align}"
   ]
  },
  {
   "cell_type": "markdown",
   "metadata": {
    "hidden": true
   },
   "source": [
    "\\begin{align}\n",
    "    {\\psi}_0 &= \\frac{x_0 \\dot{y}_0 - y_0 \\dot{x}_0}{r_0^2} \\\\\n",
    "    \\rho_0 &= \\frac{x \\dot{x} + y \\dot{y}}{r} \\\\\n",
    "    r_0 &= \\sqrt{x_0^2 + y_0^2} \n",
    "\\end{align}"
   ]
  },
  {
   "cell_type": "markdown",
   "metadata": {
    "hidden": true
   },
   "source": [
    "\\begin{align}\n",
    "    x(t) &= r(t) \\cos \\varphi(t) \\\\\n",
    "    y(t) &= r(t) \\sin \\varphi(t)\n",
    "\\end{align}"
   ]
  },
  {
   "cell_type": "markdown",
   "metadata": {
    "hidden": true
   },
   "source": [
    "\\begin{align}\n",
    "    \\varphi(t) &= \\psi_0 t \\\\\n",
    "    r(t) &= r_0 \\cos (a \\cdot t)\n",
    "\\end{align}"
   ]
  },
  {
   "cell_type": "code",
   "execution_count": 182,
   "metadata": {
    "ExecuteTime": {
     "end_time": "2020-11-29T17:47:13.597649Z",
     "start_time": "2020-11-29T17:47:13.574713Z"
    },
    "hidden": true
   },
   "outputs": [
    {
     "data": {
      "text/latex": [
       "$\\displaystyle \\frac{x{\\left(t \\right)} \\frac{d}{d t} x{\\left(t \\right)} + y{\\left(t \\right)} \\frac{d}{d t} y{\\left(t \\right)}}{\\sqrt{x^{2}{\\left(t \\right)} + y^{2}{\\left(t \\right)}}}$"
      ],
      "text/plain": [
       "(x(t)*Derivative(x(t), t) + y(t)*Derivative(y(t), t))/sqrt(x(t)**2 + y(t)**2)"
      ]
     },
     "execution_count": 182,
     "metadata": {},
     "output_type": "execute_result"
    }
   ],
   "source": [
    "diff(r, t)"
   ]
  },
  {
   "cell_type": "code",
   "execution_count": 183,
   "metadata": {
    "ExecuteTime": {
     "end_time": "2020-11-29T17:47:30.073665Z",
     "start_time": "2020-11-29T17:47:30.054715Z"
    },
    "hidden": true
   },
   "outputs": [
    {
     "data": {
      "text/latex": [
       "$\\displaystyle \\frac{\\frac{\\frac{d}{d t} y{\\left(t \\right)}}{x{\\left(t \\right)}} - \\frac{y{\\left(t \\right)} \\frac{d}{d t} x{\\left(t \\right)}}{x^{2}{\\left(t \\right)}}}{1 + \\frac{y^{2}{\\left(t \\right)}}{x^{2}{\\left(t \\right)}}}$"
      ],
      "text/plain": [
       "(Derivative(y(t), t)/x(t) - y(t)*Derivative(x(t), t)/x(t)**2)/(1 + y(t)**2/x(t)**2)"
      ]
     },
     "execution_count": 183,
     "metadata": {},
     "output_type": "execute_result"
    }
   ],
   "source": [
    "diff(phi, t)"
   ]
  },
  {
   "cell_type": "code",
   "execution_count": null,
   "metadata": {
    "hidden": true
   },
   "outputs": [],
   "source": []
  },
  {
   "cell_type": "markdown",
   "metadata": {
    "heading_collapsed": true
   },
   "source": [
    "### Т2"
   ]
  },
  {
   "cell_type": "code",
   "execution_count": 197,
   "metadata": {
    "ExecuteTime": {
     "end_time": "2020-11-29T18:12:50.779883Z",
     "start_time": "2020-11-29T18:12:50.776857Z"
    },
    "hidden": true
   },
   "outputs": [],
   "source": [
    "a, x01, x02 = sp.symbols(\"a x_{01} x_{02}\")"
   ]
  },
  {
   "cell_type": "code",
   "execution_count": 194,
   "metadata": {
    "ExecuteTime": {
     "end_time": "2020-11-29T18:12:28.726574Z",
     "start_time": "2020-11-29T18:12:28.722583Z"
    },
    "hidden": true
   },
   "outputs": [],
   "source": [
    "x1 = Function(\"x_1\")(t)\n",
    "x2 = Function(\"x_2\")(t)"
   ]
  },
  {
   "cell_type": "code",
   "execution_count": 200,
   "metadata": {
    "ExecuteTime": {
     "end_time": "2020-11-29T18:13:35.581568Z",
     "start_time": "2020-11-29T18:13:35.577582Z"
    },
    "hidden": true
   },
   "outputs": [],
   "source": [
    "dx1 = x1 - x01\n",
    "dx2 = (x2 - x1) - (x02-x01)"
   ]
  },
  {
   "cell_type": "code",
   "execution_count": 220,
   "metadata": {
    "ExecuteTime": {
     "end_time": "2020-11-29T18:23:30.061621Z",
     "start_time": "2020-11-29T18:23:30.053642Z"
    },
    "hidden": true
   },
   "outputs": [
    {
     "data": {
      "text/latex": [
       "$\\displaystyle a \\left(- x_{01} + \\operatorname{x_{1}}{\\left(t \\right)}\\right) - a \\left(x_{01} - x_{02} - \\operatorname{x_{1}}{\\left(t \\right)} + \\operatorname{x_{2}}{\\left(t \\right)}\\right) + 3 \\frac{d^{2}}{d t^{2}} \\operatorname{x_{1}}{\\left(t \\right)}$"
      ],
      "text/plain": [
       "a*(-x_{01} + x_1(t)) - a*(x_{01} - x_{02} - x_1(t) + x_2(t)) + 3*Derivative(x_1(t), (t, 2))"
      ]
     },
     "execution_count": 220,
     "metadata": {},
     "output_type": "execute_result"
    }
   ],
   "source": [
    "eq1 = 3 * diff(x1, t, t) + a * dx1 - a * dx2\n",
    "eq1"
   ]
  },
  {
   "cell_type": "code",
   "execution_count": 221,
   "metadata": {
    "ExecuteTime": {
     "end_time": "2020-11-29T18:23:30.855477Z",
     "start_time": "2020-11-29T18:23:30.848497Z"
    },
    "hidden": true
   },
   "outputs": [
    {
     "data": {
      "text/latex": [
       "$\\displaystyle a \\left(x_{01} - x_{02} - \\operatorname{x_{1}}{\\left(t \\right)} + \\operatorname{x_{2}}{\\left(t \\right)}\\right) + 2 \\frac{d^{2}}{d t^{2}} \\operatorname{x_{2}}{\\left(t \\right)}$"
      ],
      "text/plain": [
       "a*(x_{01} - x_{02} - x_1(t) + x_2(t)) + 2*Derivative(x_2(t), (t, 2))"
      ]
     },
     "execution_count": 221,
     "metadata": {},
     "output_type": "execute_result"
    }
   ],
   "source": [
    "eq2 = 2 * diff(x2, t, t) + a * dx2\n",
    "eq2"
   ]
  },
  {
   "cell_type": "code",
   "execution_count": 223,
   "metadata": {
    "ExecuteTime": {
     "end_time": "2020-11-29T18:23:45.309602Z",
     "start_time": "2020-11-29T18:23:45.305614Z"
    },
    "hidden": true
   },
   "outputs": [],
   "source": [
    "eq1 = eq1.subs(a, 1).subs(x01, 1).subs(x02, 2)\n",
    "eq2 = eq2.subs(a, 1).subs(x01, 1).subs(x02, 2)"
   ]
  },
  {
   "cell_type": "code",
   "execution_count": 224,
   "metadata": {
    "ExecuteTime": {
     "end_time": "2020-11-29T18:23:46.777212Z",
     "start_time": "2020-11-29T18:23:46.771231Z"
    },
    "hidden": true
   },
   "outputs": [
    {
     "data": {
      "text/latex": [
       "$\\displaystyle 2 \\operatorname{x_{1}}{\\left(t \\right)} - \\operatorname{x_{2}}{\\left(t \\right)} + 3 \\frac{d^{2}}{d t^{2}} \\operatorname{x_{1}}{\\left(t \\right)}$"
      ],
      "text/plain": [
       "2*x_1(t) - x_2(t) + 3*Derivative(x_1(t), (t, 2))"
      ]
     },
     "execution_count": 224,
     "metadata": {},
     "output_type": "execute_result"
    }
   ],
   "source": [
    "eq1"
   ]
  },
  {
   "cell_type": "code",
   "execution_count": 225,
   "metadata": {
    "ExecuteTime": {
     "end_time": "2020-11-29T18:23:47.299182Z",
     "start_time": "2020-11-29T18:23:47.292201Z"
    },
    "hidden": true
   },
   "outputs": [
    {
     "data": {
      "text/latex": [
       "$\\displaystyle - \\operatorname{x_{1}}{\\left(t \\right)} + \\operatorname{x_{2}}{\\left(t \\right)} + 2 \\frac{d^{2}}{d t^{2}} \\operatorname{x_{2}}{\\left(t \\right)} - 1$"
      ],
      "text/plain": [
       "-x_1(t) + x_2(t) + 2*Derivative(x_2(t), (t, 2)) - 1"
      ]
     },
     "execution_count": 225,
     "metadata": {},
     "output_type": "execute_result"
    }
   ],
   "source": [
    "eq2"
   ]
  },
  {
   "cell_type": "code",
   "execution_count": 226,
   "metadata": {
    "ExecuteTime": {
     "end_time": "2020-11-29T18:23:48.151860Z",
     "start_time": "2020-11-29T18:23:48.085005Z"
    },
    "hidden": true
   },
   "outputs": [],
   "source": [
    "ans = sp.dsolve([eq1, eq2], [x1, x2])"
   ]
  },
  {
   "cell_type": "code",
   "execution_count": 227,
   "metadata": {
    "ExecuteTime": {
     "end_time": "2020-11-29T18:23:58.055582Z",
     "start_time": "2020-11-29T18:23:58.047603Z"
    },
    "hidden": true
   },
   "outputs": [
    {
     "data": {
      "text/latex": [
       "$\\displaystyle \\operatorname{x_{1}}{\\left(t \\right)} = \\frac{C_{1} e^{- i t}}{3} + \\frac{C_{2} e^{i t}}{3} + \\frac{C_{3} e^{- \\frac{\\sqrt{6} i t}{6}}}{3} + \\frac{C_{4} e^{\\frac{\\sqrt{6} i t}{6}}}{3} + 1$"
      ],
      "text/plain": [
       "Eq(x_1(t), C1*exp(-I*t)/3 + C2*exp(I*t)/3 + C3*exp(-sqrt(6)*I*t/6)/3 + C4*exp(sqrt(6)*I*t/6)/3 + 1)"
      ]
     },
     "execution_count": 227,
     "metadata": {},
     "output_type": "execute_result"
    }
   ],
   "source": [
    "ans[0]"
   ]
  },
  {
   "cell_type": "code",
   "execution_count": 228,
   "metadata": {
    "ExecuteTime": {
     "end_time": "2020-11-29T18:23:58.439554Z",
     "start_time": "2020-11-29T18:23:58.430621Z"
    },
    "hidden": true
   },
   "outputs": [
    {
     "data": {
      "text/latex": [
       "$\\displaystyle \\operatorname{x_{2}}{\\left(t \\right)} = - \\frac{C_{1} e^{- i t}}{3} - \\frac{C_{2} e^{i t}}{3} + \\frac{C_{3} e^{- \\frac{\\sqrt{6} i t}{6}}}{2} + \\frac{C_{4} e^{\\frac{\\sqrt{6} i t}{6}}}{2} + 2$"
      ],
      "text/plain": [
       "Eq(x_2(t), -C1*exp(-I*t)/3 - C2*exp(I*t)/3 + C3*exp(-sqrt(6)*I*t/6)/2 + C4*exp(sqrt(6)*I*t/6)/2 + 2)"
      ]
     },
     "execution_count": 228,
     "metadata": {},
     "output_type": "execute_result"
    }
   ],
   "source": [
    "ans[1]"
   ]
  },
  {
   "cell_type": "code",
   "execution_count": null,
   "metadata": {
    "hidden": true
   },
   "outputs": [],
   "source": []
  },
  {
   "cell_type": "code",
   "execution_count": null,
   "metadata": {
    "hidden": true
   },
   "outputs": [],
   "source": []
  },
  {
   "cell_type": "code",
   "execution_count": null,
   "metadata": {
    "hidden": true
   },
   "outputs": [],
   "source": []
  },
  {
   "cell_type": "code",
   "execution_count": null,
   "metadata": {
    "hidden": true
   },
   "outputs": [],
   "source": []
  },
  {
   "cell_type": "code",
   "execution_count": null,
   "metadata": {
    "hidden": true
   },
   "outputs": [],
   "source": []
  },
  {
   "cell_type": "markdown",
   "metadata": {
    "heading_collapsed": true
   },
   "source": [
    "### 15.23"
   ]
  },
  {
   "cell_type": "code",
   "execution_count": 60,
   "metadata": {
    "ExecuteTime": {
     "end_time": "2020-11-29T00:54:19.860970Z",
     "start_time": "2020-11-29T00:54:11.182393Z"
    },
    "hidden": true
   },
   "outputs": [],
   "source": [
    "import pandas as pd\n",
    "import numpy as np\n",
    "import matplotlib.pyplot as plt"
   ]
  },
  {
   "cell_type": "code",
   "execution_count": 89,
   "metadata": {
    "ExecuteTime": {
     "end_time": "2020-11-29T01:01:16.327452Z",
     "start_time": "2020-11-29T01:01:16.323464Z"
    },
    "hidden": true
   },
   "outputs": [],
   "source": [
    "plt.rcParams.update({\n",
    "    \"text.usetex\": True,\n",
    "})"
   ]
  },
  {
   "cell_type": "code",
   "execution_count": 64,
   "metadata": {
    "ExecuteTime": {
     "end_time": "2020-11-29T00:55:21.409422Z",
     "start_time": "2020-11-29T00:55:21.405401Z"
    },
    "hidden": true
   },
   "outputs": [],
   "source": [
    "x = np.linspace(-np.pi*5/4, np.pi*5/4, 100)"
   ]
  },
  {
   "cell_type": "code",
   "execution_count": 65,
   "metadata": {
    "ExecuteTime": {
     "end_time": "2020-11-29T00:55:21.608234Z",
     "start_time": "2020-11-29T00:55:21.605242Z"
    },
    "hidden": true
   },
   "outputs": [],
   "source": [
    "y = - x * np.sin(x)"
   ]
  },
  {
   "cell_type": "code",
   "execution_count": 119,
   "metadata": {
    "ExecuteTime": {
     "end_time": "2020-11-29T01:24:40.120713Z",
     "start_time": "2020-11-29T01:24:40.117735Z"
    },
    "hidden": true
   },
   "outputs": [],
   "source": [
    "import matplotlib"
   ]
  },
  {
   "cell_type": "code",
   "execution_count": 154,
   "metadata": {
    "ExecuteTime": {
     "end_time": "2020-11-29T01:31:51.621228Z",
     "start_time": "2020-11-29T01:31:51.416167Z"
    },
    "hidden": true
   },
   "outputs": [
    {
     "data": {
      "image/png": "[encoded data removed]",
      "text/plain": [
       "<Figure size 144x108 with 1 Axes>"
      ]
     },
     "metadata": {
      "needs_background": "light"
     },
     "output_type": "display_data"
    }
   ],
   "source": [
    "fig, ax = plt.subplots(figsize=(2,1.5))\n",
    "ax.plot(x / np.pi, y, color=\"g\")\n",
    "ax.plot(x / np.pi, x*0, linestyle=\"--\", color=\"k\")\n",
    "ax.scatter([0], [0], color=\"k\")\n",
    "\n",
    "ax.set_ylabel(\"$\\Pi \\ (x)$\", rotation=0)\n",
    "ax.set_xlabel(\"$x / \\pi$\")\n",
    "ax.xaxis.set_label_coords(1.05, -0.025)\n",
    "ax.yaxis.set_label_coords(0, 1.04)\n",
    "# ax.tick_params(axis='y', rotation=90)\n",
    "ax.minorticks_on()\n",
    "ax.grid(which='major', linestyle=':', linewidth='0.5', color='k', alpha=0.5)\n",
    "ax.grid(which='minor', linestyle=':', linewidth='0.3', color='k', alpha=0.5)\n",
    "# plt.legend()\n",
    "plt.tight_layout(pad=0.1)\n",
    "plt.savefig(\"D:\\\\Kami\\\\git_folder\\\\notes_3sem\\\\HW\\\\Anal_Mec\\\\figures\\\\15_23.pdf\")\n",
    "plt.show()"
   ]
  },
  {
   "cell_type": "code",
   "execution_count": null,
   "metadata": {
    "hidden": true
   },
   "outputs": [],
   "source": []
  },
  {
   "cell_type": "code",
   "execution_count": null,
   "metadata": {
    "hidden": true
   },
   "outputs": [],
   "source": []
  },
  {
   "cell_type": "markdown",
   "metadata": {
    "heading_collapsed": true
   },
   "source": [
    "### 6D"
   ]
  },
  {
   "cell_type": "code",
   "execution_count": null,
   "metadata": {
    "hidden": true
   },
   "outputs": [],
   "source": []
  },
  {
   "cell_type": "code",
   "execution_count": 334,
   "metadata": {
    "ExecuteTime": {
     "end_time": "2020-11-25T10:47:42.220950Z",
     "start_time": "2020-11-25T10:47:42.212975Z"
    },
    "hidden": true
   },
   "outputs": [],
   "source": [
    "x, y, z, t, g, k, r0 = sp.symbols(\"x y z t g k r_0\")\n",
    "l, m1, m2, k, alpha0 = sp.symbols(\"l m_1 m_2 k \\\\alpha_0\")"
   ]
  },
  {
   "cell_type": "code",
   "execution_count": null,
   "metadata": {
    "hidden": true
   },
   "outputs": [],
   "source": []
  },
  {
   "cell_type": "code",
   "execution_count": 335,
   "metadata": {
    "ExecuteTime": {
     "end_time": "2020-11-25T10:47:43.394881Z",
     "start_time": "2020-11-25T10:47:43.386908Z"
    },
    "hidden": true
   },
   "outputs": [],
   "source": [
    "phi = Function(\"\\\\varphi\")(t)\n",
    "theta = Function(\"\\\\theta\")(t)"
   ]
  },
  {
   "cell_type": "code",
   "execution_count": 336,
   "metadata": {
    "ExecuteTime": {
     "end_time": "2020-11-25T10:47:44.333730Z",
     "start_time": "2020-11-25T10:47:44.324754Z"
    },
    "hidden": true
   },
   "outputs": [],
   "source": [
    "x2 = l * sin(phi) / cos(theta + phi)\n",
    "y2 = l * cos(phi) / cos(theta + phi)\n",
    "v_cm_d2 = diff(x2, t)**2 + diff(y2, t)**2\n",
    "# v_cm_d2 = sp.simplify(v_cm_d2)"
   ]
  },
  {
   "cell_type": "code",
   "execution_count": 337,
   "metadata": {
    "ExecuteTime": {
     "end_time": "2020-11-25T10:47:45.198421Z",
     "start_time": "2020-11-25T10:47:45.190439Z"
    },
    "hidden": true
   },
   "outputs": [
    {
     "data": {
      "text/latex": [
       "$\\displaystyle \\frac{l \\sin{\\left(\\varphi{\\left(t \\right)} \\right)}}{\\cos{\\left(\\theta{\\left(t \\right)} + \\varphi{\\left(t \\right)} \\right)}}$"
      ],
      "text/plain": [
       "l*sin(\\varphi(t))/cos(\\theta(t) + \\varphi(t))"
      ]
     },
     "execution_count": 337,
     "metadata": {},
     "output_type": "execute_result"
    }
   ],
   "source": [
    "x2"
   ]
  },
  {
   "cell_type": "code",
   "execution_count": 338,
   "metadata": {
    "ExecuteTime": {
     "end_time": "2020-11-25T10:47:46.532210Z",
     "start_time": "2020-11-25T10:47:46.518225Z"
    },
    "hidden": true
   },
   "outputs": [
    {
     "data": {
      "text/latex": [
       "$\\displaystyle \\frac{l \\cos{\\left(\\varphi{\\left(t \\right)} \\right)}}{\\cos{\\left(\\theta{\\left(t \\right)} + \\varphi{\\left(t \\right)} \\right)}}$"
      ],
      "text/plain": [
       "l*cos(\\varphi(t))/cos(\\theta(t) + \\varphi(t))"
      ]
     },
     "execution_count": 338,
     "metadata": {},
     "output_type": "execute_result"
    }
   ],
   "source": [
    "y2"
   ]
  },
  {
   "cell_type": "code",
   "execution_count": 339,
   "metadata": {
    "ExecuteTime": {
     "end_time": "2020-11-25T10:47:47.770307Z",
     "start_time": "2020-11-25T10:47:47.723439Z"
    },
    "hidden": true
   },
   "outputs": [
    {
     "data": {
      "text/latex": [
       "$\\displaystyle \\left(\\frac{l \\left(\\frac{d}{d t} \\theta{\\left(t \\right)} + \\frac{d}{d t} \\varphi{\\left(t \\right)}\\right) \\sin{\\left(\\theta{\\left(t \\right)} + \\varphi{\\left(t \\right)} \\right)} \\sin{\\left(\\varphi{\\left(t \\right)} \\right)}}{\\cos^{2}{\\left(\\theta{\\left(t \\right)} + \\varphi{\\left(t \\right)} \\right)}} + \\frac{l \\cos{\\left(\\varphi{\\left(t \\right)} \\right)} \\frac{d}{d t} \\varphi{\\left(t \\right)}}{\\cos{\\left(\\theta{\\left(t \\right)} + \\varphi{\\left(t \\right)} \\right)}}\\right)^{2} + \\left(\\frac{l \\left(\\frac{d}{d t} \\theta{\\left(t \\right)} + \\frac{d}{d t} \\varphi{\\left(t \\right)}\\right) \\sin{\\left(\\theta{\\left(t \\right)} + \\varphi{\\left(t \\right)} \\right)} \\cos{\\left(\\varphi{\\left(t \\right)} \\right)}}{\\cos^{2}{\\left(\\theta{\\left(t \\right)} + \\varphi{\\left(t \\right)} \\right)}} - \\frac{l \\sin{\\left(\\varphi{\\left(t \\right)} \\right)} \\frac{d}{d t} \\varphi{\\left(t \\right)}}{\\cos{\\left(\\theta{\\left(t \\right)} + \\varphi{\\left(t \\right)} \\right)}}\\right)^{2}$"
      ],
      "text/plain": [
       "(l*(Derivative(\\theta(t), t) + Derivative(\\varphi(t), t))*sin(\\theta(t) + \\varphi(t))*sin(\\varphi(t))/cos(\\theta(t) + \\varphi(t))**2 + l*cos(\\varphi(t))*Derivative(\\varphi(t), t)/cos(\\theta(t) + \\varphi(t)))**2 + (l*(Derivative(\\theta(t), t) + Derivative(\\varphi(t), t))*sin(\\theta(t) + \\varphi(t))*cos(\\varphi(t))/cos(\\theta(t) + \\varphi(t))**2 - l*sin(\\varphi(t))*Derivative(\\varphi(t), t)/cos(\\theta(t) + \\varphi(t)))**2"
      ]
     },
     "execution_count": 339,
     "metadata": {},
     "output_type": "execute_result"
    }
   ],
   "source": [
    "v_cm_d2"
   ]
  },
  {
   "cell_type": "code",
   "execution_count": 340,
   "metadata": {
    "ExecuteTime": {
     "end_time": "2020-11-25T10:47:49.997423Z",
     "start_time": "2020-11-25T10:47:49.988491Z"
    },
    "hidden": true
   },
   "outputs": [],
   "source": [
    "T1 = v_cm_d2 * m2 / 2"
   ]
  },
  {
   "cell_type": "code",
   "execution_count": 341,
   "metadata": {
    "ExecuteTime": {
     "end_time": "2020-11-25T10:47:50.925197Z",
     "start_time": "2020-11-25T10:47:50.919213Z"
    },
    "hidden": true
   },
   "outputs": [],
   "source": [
    "T2 = m1 * l**2 / 3 / 2 * diff(theta, t)"
   ]
  },
  {
   "cell_type": "code",
   "execution_count": 344,
   "metadata": {
    "ExecuteTime": {
     "end_time": "2020-11-25T10:49:01.946878Z",
     "start_time": "2020-11-25T10:49:01.935867Z"
    },
    "hidden": true
   },
   "outputs": [],
   "source": [
    "P = l * cos(theta) / 2 * m1 * g + l * cos(phi) / cos(theta + phi) * m2 * g - \\\n",
    "    k/2*l**2 * (tan(phi+theta) - alpha0)**2"
   ]
  },
  {
   "cell_type": "code",
   "execution_count": 345,
   "metadata": {
    "ExecuteTime": {
     "end_time": "2020-11-25T10:49:06.526035Z",
     "start_time": "2020-11-25T10:49:06.512075Z"
    },
    "hidden": true
   },
   "outputs": [
    {
     "data": {
      "text/latex": [
       "$\\displaystyle \\frac{g l m_{1} \\cos{\\left(\\theta{\\left(t \\right)} \\right)}}{2} + \\frac{g l m_{2} \\cos{\\left(\\varphi{\\left(t \\right)} \\right)}}{\\cos{\\left(\\theta{\\left(t \\right)} + \\varphi{\\left(t \\right)} \\right)}} - \\frac{k l^{2} \\left(- \\alpha_0 + \\tan{\\left(\\theta{\\left(t \\right)} + \\varphi{\\left(t \\right)} \\right)}\\right)^{2}}{2}$"
      ],
      "text/plain": [
       "g*l*m_1*cos(\\theta(t))/2 + g*l*m_2*cos(\\varphi(t))/cos(\\theta(t) + \\varphi(t)) - k*l**2*(-\\alpha_0 + tan(\\theta(t) + \\varphi(t)))**2/2"
      ]
     },
     "execution_count": 345,
     "metadata": {},
     "output_type": "execute_result"
    }
   ],
   "source": [
    "P"
   ]
  },
  {
   "cell_type": "code",
   "execution_count": 346,
   "metadata": {
    "ExecuteTime": {
     "end_time": "2020-11-25T10:49:17.377604Z",
     "start_time": "2020-11-25T10:49:17.368628Z"
    },
    "hidden": true
   },
   "outputs": [],
   "source": [
    "L = T1 + T2 - P"
   ]
  },
  {
   "cell_type": "code",
   "execution_count": 347,
   "metadata": {
    "ExecuteTime": {
     "end_time": "2020-11-25T10:49:18.355986Z",
     "start_time": "2020-11-25T10:49:18.350001Z"
    },
    "hidden": true
   },
   "outputs": [],
   "source": [
    "d_phi = diff(phi, t)\n",
    "d_theta = diff(theta, t)\n",
    "# dd_phi = diff(d_phi, t)\n",
    "# dd_psi = diff(d_psi, t)\n",
    "# dd_r = diff(d_r, t)\n",
    "# dd_theta = diff(d_theta, t)"
   ]
  },
  {
   "cell_type": "code",
   "execution_count": 348,
   "metadata": {
    "ExecuteTime": {
     "end_time": "2020-11-25T10:49:19.574397Z",
     "start_time": "2020-11-25T10:49:19.217006Z"
    },
    "hidden": true
   },
   "outputs": [],
   "source": [
    "eq1 = diff(diff(L, d_phi), t) - diff(L, phi)\n",
    "eq2 = diff(diff(L, d_theta), t) - diff(L, theta)"
   ]
  },
  {
   "cell_type": "code",
   "execution_count": 349,
   "metadata": {
    "ExecuteTime": {
     "end_time": "2020-11-25T10:52:52.733571Z",
     "start_time": "2020-11-25T10:49:20.895944Z"
    },
    "hidden": true
   },
   "outputs": [
    {
     "data": {
      "text/latex": [
       "$\\displaystyle \\frac{l \\left(2 \\alpha_0 k l \\cos^{5}{\\left(\\theta{\\left(t \\right)} + \\varphi{\\left(t \\right)} \\right)} \\tan^{2}{\\left(\\theta{\\left(t \\right)} + \\varphi{\\left(t \\right)} \\right)} + 2 \\alpha_0 k l \\cos^{5}{\\left(\\theta{\\left(t \\right)} + \\varphi{\\left(t \\right)} \\right)} - g m_{1} \\sin{\\left(\\theta{\\left(t \\right)} \\right)} \\cos^{5}{\\left(\\theta{\\left(t \\right)} + \\varphi{\\left(t \\right)} \\right)} + 2 g m_{2} \\sin{\\left(\\theta{\\left(t \\right)} + \\varphi{\\left(t \\right)} \\right)} \\cos^{3}{\\left(\\theta{\\left(t \\right)} + \\varphi{\\left(t \\right)} \\right)} \\cos{\\left(\\varphi{\\left(t \\right)} \\right)} - 2 k l \\cos^{5}{\\left(\\theta{\\left(t \\right)} + \\varphi{\\left(t \\right)} \\right)} \\tan^{3}{\\left(\\theta{\\left(t \\right)} + \\varphi{\\left(t \\right)} \\right)} - 2 k l \\cos^{5}{\\left(\\theta{\\left(t \\right)} + \\varphi{\\left(t \\right)} \\right)} \\tan{\\left(\\theta{\\left(t \\right)} + \\varphi{\\left(t \\right)} \\right)} + 4 l m_{2} \\sin^{3}{\\left(\\theta{\\left(t \\right)} + \\varphi{\\left(t \\right)} \\right)} \\sin^{2}{\\left(\\varphi{\\left(t \\right)} \\right)} \\left(\\frac{d}{d t} \\theta{\\left(t \\right)}\\right)^{2} + 8 l m_{2} \\sin^{3}{\\left(\\theta{\\left(t \\right)} + \\varphi{\\left(t \\right)} \\right)} \\sin^{2}{\\left(\\varphi{\\left(t \\right)} \\right)} \\frac{d}{d t} \\theta{\\left(t \\right)} \\frac{d}{d t} \\varphi{\\left(t \\right)} + 4 l m_{2} \\sin^{3}{\\left(\\theta{\\left(t \\right)} + \\varphi{\\left(t \\right)} \\right)} \\sin^{2}{\\left(\\varphi{\\left(t \\right)} \\right)} \\left(\\frac{d}{d t} \\varphi{\\left(t \\right)}\\right)^{2} + 4 l m_{2} \\sin^{3}{\\left(\\theta{\\left(t \\right)} + \\varphi{\\left(t \\right)} \\right)} \\cos^{2}{\\left(\\varphi{\\left(t \\right)} \\right)} \\left(\\frac{d}{d t} \\theta{\\left(t \\right)}\\right)^{2} + 8 l m_{2} \\sin^{3}{\\left(\\theta{\\left(t \\right)} + \\varphi{\\left(t \\right)} \\right)} \\cos^{2}{\\left(\\varphi{\\left(t \\right)} \\right)} \\frac{d}{d t} \\theta{\\left(t \\right)} \\frac{d}{d t} \\varphi{\\left(t \\right)} + 4 l m_{2} \\sin^{3}{\\left(\\theta{\\left(t \\right)} + \\varphi{\\left(t \\right)} \\right)} \\cos^{2}{\\left(\\varphi{\\left(t \\right)} \\right)} \\left(\\frac{d}{d t} \\varphi{\\left(t \\right)}\\right)^{2} + 2 l m_{2} \\sin^{2}{\\left(\\theta{\\left(t \\right)} + \\varphi{\\left(t \\right)} \\right)} \\sin^{2}{\\left(\\varphi{\\left(t \\right)} \\right)} \\cos{\\left(\\theta{\\left(t \\right)} + \\varphi{\\left(t \\right)} \\right)} \\frac{d^{2}}{d t^{2}} \\theta{\\left(t \\right)} + 2 l m_{2} \\sin^{2}{\\left(\\theta{\\left(t \\right)} + \\varphi{\\left(t \\right)} \\right)} \\sin^{2}{\\left(\\varphi{\\left(t \\right)} \\right)} \\cos{\\left(\\theta{\\left(t \\right)} + \\varphi{\\left(t \\right)} \\right)} \\frac{d^{2}}{d t^{2}} \\varphi{\\left(t \\right)} + 2 l m_{2} \\sin^{2}{\\left(\\theta{\\left(t \\right)} + \\varphi{\\left(t \\right)} \\right)} \\cos{\\left(\\theta{\\left(t \\right)} + \\varphi{\\left(t \\right)} \\right)} \\cos^{2}{\\left(\\varphi{\\left(t \\right)} \\right)} \\frac{d^{2}}{d t^{2}} \\theta{\\left(t \\right)} + 2 l m_{2} \\sin^{2}{\\left(\\theta{\\left(t \\right)} + \\varphi{\\left(t \\right)} \\right)} \\cos{\\left(\\theta{\\left(t \\right)} + \\varphi{\\left(t \\right)} \\right)} \\cos^{2}{\\left(\\varphi{\\left(t \\right)} \\right)} \\frac{d^{2}}{d t^{2}} \\varphi{\\left(t \\right)} + 2 l m_{2} \\sin{\\left(\\theta{\\left(t \\right)} + \\varphi{\\left(t \\right)} \\right)} \\sin^{2}{\\left(\\varphi{\\left(t \\right)} \\right)} \\cos^{2}{\\left(\\theta{\\left(t \\right)} + \\varphi{\\left(t \\right)} \\right)} \\left(\\frac{d}{d t} \\theta{\\left(t \\right)}\\right)^{2} + 4 l m_{2} \\sin{\\left(\\theta{\\left(t \\right)} + \\varphi{\\left(t \\right)} \\right)} \\sin^{2}{\\left(\\varphi{\\left(t \\right)} \\right)} \\cos^{2}{\\left(\\theta{\\left(t \\right)} + \\varphi{\\left(t \\right)} \\right)} \\frac{d}{d t} \\theta{\\left(t \\right)} \\frac{d}{d t} \\varphi{\\left(t \\right)} + 2 l m_{2} \\sin{\\left(\\theta{\\left(t \\right)} + \\varphi{\\left(t \\right)} \\right)} \\cos^{2}{\\left(\\theta{\\left(t \\right)} + \\varphi{\\left(t \\right)} \\right)} \\cos^{2}{\\left(\\varphi{\\left(t \\right)} \\right)} \\left(\\frac{d}{d t} \\theta{\\left(t \\right)}\\right)^{2} + 4 l m_{2} \\sin{\\left(\\theta{\\left(t \\right)} + \\varphi{\\left(t \\right)} \\right)} \\cos^{2}{\\left(\\theta{\\left(t \\right)} + \\varphi{\\left(t \\right)} \\right)} \\cos^{2}{\\left(\\varphi{\\left(t \\right)} \\right)} \\frac{d}{d t} \\theta{\\left(t \\right)} \\frac{d}{d t} \\varphi{\\left(t \\right)}\\right)}{2 \\cos^{5}{\\left(\\theta{\\left(t \\right)} + \\varphi{\\left(t \\right)} \\right)}}$"
      ],
      "text/plain": [
       "l*(2*\\alpha_0*k*l*cos(\\theta(t) + \\varphi(t))**5*tan(\\theta(t) + \\varphi(t))**2 + 2*\\alpha_0*k*l*cos(\\theta(t) + \\varphi(t))**5 - g*m_1*sin(\\theta(t))*cos(\\theta(t) + \\varphi(t))**5 + 2*g*m_2*sin(\\theta(t) + \\varphi(t))*cos(\\theta(t) + \\varphi(t))**3*cos(\\varphi(t)) - 2*k*l*cos(\\theta(t) + \\varphi(t))**5*tan(\\theta(t) + \\varphi(t))**3 - 2*k*l*cos(\\theta(t) + \\varphi(t))**5*tan(\\theta(t) + \\varphi(t)) + 4*l*m_2*sin(\\theta(t) + \\varphi(t))**3*sin(\\varphi(t))**2*Derivative(\\theta(t), t)**2 + 8*l*m_2*sin(\\theta(t) + \\varphi(t))**3*sin(\\varphi(t))**2*Derivative(\\theta(t), t)*Derivative(\\varphi(t), t) + 4*l*m_2*sin(\\theta(t) + \\varphi(t))**3*sin(\\varphi(t))**2*Derivative(\\varphi(t), t)**2 + 4*l*m_2*sin(\\theta(t) + \\varphi(t))**3*cos(\\varphi(t))**2*Derivative(\\theta(t), t)**2 + 8*l*m_2*sin(\\theta(t) + \\varphi(t))**3*cos(\\varphi(t))**2*Derivative(\\theta(t), t)*Derivative(\\varphi(t), t) + 4*l*m_2*sin(\\theta(t) + \\varphi(t))**3*cos(\\varphi(t))**2*Derivative(\\varphi(t), t)**2 + 2*l*m_2*sin(\\theta(t) + \\varphi(t))**2*sin(\\varphi(t))**2*cos(\\theta(t) + \\varphi(t))*Derivative(\\theta(t), (t, 2)) + 2*l*m_2*sin(\\theta(t) + \\varphi(t))**2*sin(\\varphi(t))**2*cos(\\theta(t) + \\varphi(t))*Derivative(\\varphi(t), (t, 2)) + 2*l*m_2*sin(\\theta(t) + \\varphi(t))**2*cos(\\theta(t) + \\varphi(t))*cos(\\varphi(t))**2*Derivative(\\theta(t), (t, 2)) + 2*l*m_2*sin(\\theta(t) + \\varphi(t))**2*cos(\\theta(t) + \\varphi(t))*cos(\\varphi(t))**2*Derivative(\\varphi(t), (t, 2)) + 2*l*m_2*sin(\\theta(t) + \\varphi(t))*sin(\\varphi(t))**2*cos(\\theta(t) + \\varphi(t))**2*Derivative(\\theta(t), t)**2 + 4*l*m_2*sin(\\theta(t) + \\varphi(t))*sin(\\varphi(t))**2*cos(\\theta(t) + \\varphi(t))**2*Derivative(\\theta(t), t)*Derivative(\\varphi(t), t) + 2*l*m_2*sin(\\theta(t) + \\varphi(t))*cos(\\theta(t) + \\varphi(t))**2*cos(\\varphi(t))**2*Derivative(\\theta(t), t)**2 + 4*l*m_2*sin(\\theta(t) + \\varphi(t))*cos(\\theta(t) + \\varphi(t))**2*cos(\\varphi(t))**2*Derivative(\\theta(t), t)*Derivative(\\varphi(t), t))/(2*cos(\\theta(t) + \\varphi(t))**5)"
      ]
     },
     "execution_count": 349,
     "metadata": {},
     "output_type": "execute_result"
    }
   ],
   "source": [
    "sp.simplify(eq2)"
   ]
  },
  {
   "cell_type": "code",
   "execution_count": 350,
   "metadata": {
    "ExecuteTime": {
     "end_time": "2020-11-25T10:56:44.135950Z",
     "start_time": "2020-11-25T10:52:53.734928Z"
    },
    "hidden": true
   },
   "outputs": [
    {
     "data": {
      "text/latex": [
       "$\\displaystyle \\frac{l \\left(g m_{2} \\sin{\\left(\\theta{\\left(t \\right)} + \\varphi{\\left(t \\right)} \\right)} \\cos^{3}{\\left(\\theta{\\left(t \\right)} + \\varphi{\\left(t \\right)} \\right)} \\cos{\\left(\\varphi{\\left(t \\right)} \\right)} - g m_{2} \\sin{\\left(\\varphi{\\left(t \\right)} \\right)} \\cos^{4}{\\left(\\theta{\\left(t \\right)} + \\varphi{\\left(t \\right)} \\right)} + k l \\left(\\alpha_0 - \\tan{\\left(\\theta{\\left(t \\right)} + \\varphi{\\left(t \\right)} \\right)}\\right) \\left(\\tan^{2}{\\left(\\theta{\\left(t \\right)} + \\varphi{\\left(t \\right)} \\right)} + 1\\right) \\cos^{5}{\\left(\\theta{\\left(t \\right)} + \\varphi{\\left(t \\right)} \\right)} + l m_{2} \\left(\\left(\\left(- 2 \\left(\\frac{d}{d t} \\theta{\\left(t \\right)} + \\frac{d}{d t} \\varphi{\\left(t \\right)}\\right) \\sin{\\left(\\varphi{\\left(t \\right)} \\right)} \\frac{d}{d t} \\varphi{\\left(t \\right)} + \\left(\\frac{d^{2}}{d t^{2}} \\theta{\\left(t \\right)} + \\frac{d^{2}}{d t^{2}} \\varphi{\\left(t \\right)}\\right) \\cos{\\left(\\varphi{\\left(t \\right)} \\right)}\\right) \\sin{\\left(\\theta{\\left(t \\right)} + \\varphi{\\left(t \\right)} \\right)} \\cos{\\left(\\theta{\\left(t \\right)} + \\varphi{\\left(t \\right)} \\right)} + 2 \\left(\\frac{d}{d t} \\theta{\\left(t \\right)} + \\frac{d}{d t} \\varphi{\\left(t \\right)}\\right)^{2} \\sin^{2}{\\left(\\theta{\\left(t \\right)} + \\varphi{\\left(t \\right)} \\right)} \\cos{\\left(\\varphi{\\left(t \\right)} \\right)} + \\left(- \\sin{\\left(\\varphi{\\left(t \\right)} \\right)} \\frac{d^{2}}{d t^{2}} \\varphi{\\left(t \\right)} + \\cos{\\left(\\varphi{\\left(t \\right)} \\right)} \\left(\\frac{d}{d t} \\theta{\\left(t \\right)}\\right)^{2} + 2 \\cos{\\left(\\varphi{\\left(t \\right)} \\right)} \\frac{d}{d t} \\theta{\\left(t \\right)} \\frac{d}{d t} \\varphi{\\left(t \\right)}\\right) \\cos^{2}{\\left(\\theta{\\left(t \\right)} + \\varphi{\\left(t \\right)} \\right)}\\right) \\sin{\\left(\\theta{\\left(t \\right)} \\right)} + \\left(\\left(2 \\left(\\frac{d}{d t} \\theta{\\left(t \\right)} + \\frac{d}{d t} \\varphi{\\left(t \\right)}\\right) \\cos{\\left(\\varphi{\\left(t \\right)} \\right)} \\frac{d}{d t} \\varphi{\\left(t \\right)} + \\left(\\frac{d^{2}}{d t^{2}} \\theta{\\left(t \\right)} + \\frac{d^{2}}{d t^{2}} \\varphi{\\left(t \\right)}\\right) \\sin{\\left(\\varphi{\\left(t \\right)} \\right)}\\right) \\sin{\\left(\\theta{\\left(t \\right)} + \\varphi{\\left(t \\right)} \\right)} \\cos{\\left(\\theta{\\left(t \\right)} + \\varphi{\\left(t \\right)} \\right)} + 2 \\left(\\frac{d}{d t} \\theta{\\left(t \\right)} + \\frac{d}{d t} \\varphi{\\left(t \\right)}\\right)^{2} \\sin^{2}{\\left(\\theta{\\left(t \\right)} + \\varphi{\\left(t \\right)} \\right)} \\sin{\\left(\\varphi{\\left(t \\right)} \\right)} + \\left(\\sin{\\left(\\varphi{\\left(t \\right)} \\right)} \\left(\\frac{d}{d t} \\theta{\\left(t \\right)}\\right)^{2} + 2 \\sin{\\left(\\varphi{\\left(t \\right)} \\right)} \\frac{d}{d t} \\theta{\\left(t \\right)} \\frac{d}{d t} \\varphi{\\left(t \\right)} + \\cos{\\left(\\varphi{\\left(t \\right)} \\right)} \\frac{d^{2}}{d t^{2}} \\varphi{\\left(t \\right)}\\right) \\cos^{2}{\\left(\\theta{\\left(t \\right)} + \\varphi{\\left(t \\right)} \\right)}\\right) \\cos{\\left(\\theta{\\left(t \\right)} \\right)}\\right)\\right)}{\\cos^{5}{\\left(\\theta{\\left(t \\right)} + \\varphi{\\left(t \\right)} \\right)}}$"
      ],
      "text/plain": [
       "l*(g*m_2*sin(\\theta(t) + \\varphi(t))*cos(\\theta(t) + \\varphi(t))**3*cos(\\varphi(t)) - g*m_2*sin(\\varphi(t))*cos(\\theta(t) + \\varphi(t))**4 + k*l*(\\alpha_0 - tan(\\theta(t) + \\varphi(t)))*(tan(\\theta(t) + \\varphi(t))**2 + 1)*cos(\\theta(t) + \\varphi(t))**5 + l*m_2*(((-2*(Derivative(\\theta(t), t) + Derivative(\\varphi(t), t))*sin(\\varphi(t))*Derivative(\\varphi(t), t) + (Derivative(\\theta(t), (t, 2)) + Derivative(\\varphi(t), (t, 2)))*cos(\\varphi(t)))*sin(\\theta(t) + \\varphi(t))*cos(\\theta(t) + \\varphi(t)) + 2*(Derivative(\\theta(t), t) + Derivative(\\varphi(t), t))**2*sin(\\theta(t) + \\varphi(t))**2*cos(\\varphi(t)) + (-sin(\\varphi(t))*Derivative(\\varphi(t), (t, 2)) + cos(\\varphi(t))*Derivative(\\theta(t), t)**2 + 2*cos(\\varphi(t))*Derivative(\\theta(t), t)*Derivative(\\varphi(t), t))*cos(\\theta(t) + \\varphi(t))**2)*sin(\\theta(t)) + ((2*(Derivative(\\theta(t), t) + Derivative(\\varphi(t), t))*cos(\\varphi(t))*Derivative(\\varphi(t), t) + (Derivative(\\theta(t), (t, 2)) + Derivative(\\varphi(t), (t, 2)))*sin(\\varphi(t)))*sin(\\theta(t) + \\varphi(t))*cos(\\theta(t) + \\varphi(t)) + 2*(Derivative(\\theta(t), t) + Derivative(\\varphi(t), t))**2*sin(\\theta(t) + \\varphi(t))**2*sin(\\varphi(t)) + (sin(\\varphi(t))*Derivative(\\theta(t), t)**2 + 2*sin(\\varphi(t))*Derivative(\\theta(t), t)*Derivative(\\varphi(t), t) + cos(\\varphi(t))*Derivative(\\varphi(t), (t, 2)))*cos(\\theta(t) + \\varphi(t))**2)*cos(\\theta(t))))/cos(\\theta(t) + \\varphi(t))**5"
      ]
     },
     "execution_count": 350,
     "metadata": {},
     "output_type": "execute_result"
    }
   ],
   "source": [
    "sp.simplify(eq1)"
   ]
  },
  {
   "cell_type": "code",
   "execution_count": 351,
   "metadata": {
    "ExecuteTime": {
     "end_time": "2020-11-25T11:42:09.678878Z",
     "start_time": "2020-11-25T11:42:09.476466Z"
    },
    "hidden": true
   },
   "outputs": [
    {
     "data": {
      "text/latex": [
       "$\\displaystyle \\frac{g l m_{2} \\sin{\\left(\\theta{\\left(t \\right)} + \\varphi{\\left(t \\right)} \\right)} \\cos{\\left(\\varphi{\\left(t \\right)} \\right)}}{\\cos^{2}{\\left(\\theta{\\left(t \\right)} + \\varphi{\\left(t \\right)} \\right)}} - \\frac{g l m_{2} \\sin{\\left(\\varphi{\\left(t \\right)} \\right)}}{\\cos{\\left(\\theta{\\left(t \\right)} + \\varphi{\\left(t \\right)} \\right)}} - \\frac{k l^{2} \\left(- \\alpha_0 + \\tan{\\left(\\theta{\\left(t \\right)} + \\varphi{\\left(t \\right)} \\right)}\\right) \\left(2 \\tan^{2}{\\left(\\theta{\\left(t \\right)} + \\varphi{\\left(t \\right)} \\right)} + 2\\right)}{2} - \\frac{m_{2} \\left(\\left(\\frac{l \\left(\\frac{d}{d t} \\theta{\\left(t \\right)} + \\frac{d}{d t} \\varphi{\\left(t \\right)}\\right) \\sin{\\left(\\theta{\\left(t \\right)} + \\varphi{\\left(t \\right)} \\right)} \\sin{\\left(\\varphi{\\left(t \\right)} \\right)}}{\\cos^{2}{\\left(\\theta{\\left(t \\right)} + \\varphi{\\left(t \\right)} \\right)}} + \\frac{l \\cos{\\left(\\varphi{\\left(t \\right)} \\right)} \\frac{d}{d t} \\varphi{\\left(t \\right)}}{\\cos{\\left(\\theta{\\left(t \\right)} + \\varphi{\\left(t \\right)} \\right)}}\\right) \\left(\\frac{4 l \\left(\\frac{d}{d t} \\theta{\\left(t \\right)} + \\frac{d}{d t} \\varphi{\\left(t \\right)}\\right) \\sin^{2}{\\left(\\theta{\\left(t \\right)} + \\varphi{\\left(t \\right)} \\right)} \\sin{\\left(\\varphi{\\left(t \\right)} \\right)}}{\\cos^{3}{\\left(\\theta{\\left(t \\right)} + \\varphi{\\left(t \\right)} \\right)}} + \\frac{2 l \\left(\\frac{d}{d t} \\theta{\\left(t \\right)} + \\frac{d}{d t} \\varphi{\\left(t \\right)}\\right) \\sin{\\left(\\theta{\\left(t \\right)} + \\varphi{\\left(t \\right)} \\right)} \\cos{\\left(\\varphi{\\left(t \\right)} \\right)}}{\\cos^{2}{\\left(\\theta{\\left(t \\right)} + \\varphi{\\left(t \\right)} \\right)}} + \\frac{2 l \\left(\\frac{d}{d t} \\theta{\\left(t \\right)} + \\frac{d}{d t} \\varphi{\\left(t \\right)}\\right) \\sin{\\left(\\varphi{\\left(t \\right)} \\right)}}{\\cos{\\left(\\theta{\\left(t \\right)} + \\varphi{\\left(t \\right)} \\right)}} + \\frac{2 l \\sin{\\left(\\theta{\\left(t \\right)} + \\varphi{\\left(t \\right)} \\right)} \\cos{\\left(\\varphi{\\left(t \\right)} \\right)} \\frac{d}{d t} \\varphi{\\left(t \\right)}}{\\cos^{2}{\\left(\\theta{\\left(t \\right)} + \\varphi{\\left(t \\right)} \\right)}} - \\frac{2 l \\sin{\\left(\\varphi{\\left(t \\right)} \\right)} \\frac{d}{d t} \\varphi{\\left(t \\right)}}{\\cos{\\left(\\theta{\\left(t \\right)} + \\varphi{\\left(t \\right)} \\right)}}\\right) + \\left(\\frac{l \\left(\\frac{d}{d t} \\theta{\\left(t \\right)} + \\frac{d}{d t} \\varphi{\\left(t \\right)}\\right) \\sin{\\left(\\theta{\\left(t \\right)} + \\varphi{\\left(t \\right)} \\right)} \\cos{\\left(\\varphi{\\left(t \\right)} \\right)}}{\\cos^{2}{\\left(\\theta{\\left(t \\right)} + \\varphi{\\left(t \\right)} \\right)}} - \\frac{l \\sin{\\left(\\varphi{\\left(t \\right)} \\right)} \\frac{d}{d t} \\varphi{\\left(t \\right)}}{\\cos{\\left(\\theta{\\left(t \\right)} + \\varphi{\\left(t \\right)} \\right)}}\\right) \\left(\\frac{4 l \\left(\\frac{d}{d t} \\theta{\\left(t \\right)} + \\frac{d}{d t} \\varphi{\\left(t \\right)}\\right) \\sin^{2}{\\left(\\theta{\\left(t \\right)} + \\varphi{\\left(t \\right)} \\right)} \\cos{\\left(\\varphi{\\left(t \\right)} \\right)}}{\\cos^{3}{\\left(\\theta{\\left(t \\right)} + \\varphi{\\left(t \\right)} \\right)}} - \\frac{2 l \\left(\\frac{d}{d t} \\theta{\\left(t \\right)} + \\frac{d}{d t} \\varphi{\\left(t \\right)}\\right) \\sin{\\left(\\theta{\\left(t \\right)} + \\varphi{\\left(t \\right)} \\right)} \\sin{\\left(\\varphi{\\left(t \\right)} \\right)}}{\\cos^{2}{\\left(\\theta{\\left(t \\right)} + \\varphi{\\left(t \\right)} \\right)}} + \\frac{2 l \\left(\\frac{d}{d t} \\theta{\\left(t \\right)} + \\frac{d}{d t} \\varphi{\\left(t \\right)}\\right) \\cos{\\left(\\varphi{\\left(t \\right)} \\right)}}{\\cos{\\left(\\theta{\\left(t \\right)} + \\varphi{\\left(t \\right)} \\right)}} - \\frac{2 l \\sin{\\left(\\theta{\\left(t \\right)} + \\varphi{\\left(t \\right)} \\right)} \\sin{\\left(\\varphi{\\left(t \\right)} \\right)} \\frac{d}{d t} \\varphi{\\left(t \\right)}}{\\cos^{2}{\\left(\\theta{\\left(t \\right)} + \\varphi{\\left(t \\right)} \\right)}} - \\frac{2 l \\cos{\\left(\\varphi{\\left(t \\right)} \\right)} \\frac{d}{d t} \\varphi{\\left(t \\right)}}{\\cos{\\left(\\theta{\\left(t \\right)} + \\varphi{\\left(t \\right)} \\right)}}\\right)\\right)}{2} + \\frac{m_{2} \\left(\\left(\\frac{2 l \\sin{\\left(\\theta{\\left(t \\right)} + \\varphi{\\left(t \\right)} \\right)} \\sin{\\left(\\varphi{\\left(t \\right)} \\right)}}{\\cos^{2}{\\left(\\theta{\\left(t \\right)} + \\varphi{\\left(t \\right)} \\right)}} + \\frac{2 l \\cos{\\left(\\varphi{\\left(t \\right)} \\right)}}{\\cos{\\left(\\theta{\\left(t \\right)} + \\varphi{\\left(t \\right)} \\right)}}\\right) \\left(\\frac{2 l \\left(\\frac{d}{d t} \\theta{\\left(t \\right)} + \\frac{d}{d t} \\varphi{\\left(t \\right)}\\right)^{2} \\sin^{2}{\\left(\\theta{\\left(t \\right)} + \\varphi{\\left(t \\right)} \\right)} \\sin{\\left(\\varphi{\\left(t \\right)} \\right)}}{\\cos^{3}{\\left(\\theta{\\left(t \\right)} + \\varphi{\\left(t \\right)} \\right)}} + \\frac{l \\left(\\frac{d}{d t} \\theta{\\left(t \\right)} + \\frac{d}{d t} \\varphi{\\left(t \\right)}\\right)^{2} \\sin{\\left(\\varphi{\\left(t \\right)} \\right)}}{\\cos{\\left(\\theta{\\left(t \\right)} + \\varphi{\\left(t \\right)} \\right)}} + \\frac{2 l \\left(\\frac{d}{d t} \\theta{\\left(t \\right)} + \\frac{d}{d t} \\varphi{\\left(t \\right)}\\right) \\sin{\\left(\\theta{\\left(t \\right)} + \\varphi{\\left(t \\right)} \\right)} \\cos{\\left(\\varphi{\\left(t \\right)} \\right)} \\frac{d}{d t} \\varphi{\\left(t \\right)}}{\\cos^{2}{\\left(\\theta{\\left(t \\right)} + \\varphi{\\left(t \\right)} \\right)}} + \\frac{l \\left(\\frac{d^{2}}{d t^{2}} \\theta{\\left(t \\right)} + \\frac{d^{2}}{d t^{2}} \\varphi{\\left(t \\right)}\\right) \\sin{\\left(\\theta{\\left(t \\right)} + \\varphi{\\left(t \\right)} \\right)} \\sin{\\left(\\varphi{\\left(t \\right)} \\right)}}{\\cos^{2}{\\left(\\theta{\\left(t \\right)} + \\varphi{\\left(t \\right)} \\right)}} - \\frac{l \\sin{\\left(\\varphi{\\left(t \\right)} \\right)} \\left(\\frac{d}{d t} \\varphi{\\left(t \\right)}\\right)^{2}}{\\cos{\\left(\\theta{\\left(t \\right)} + \\varphi{\\left(t \\right)} \\right)}} + \\frac{l \\cos{\\left(\\varphi{\\left(t \\right)} \\right)} \\frac{d^{2}}{d t^{2}} \\varphi{\\left(t \\right)}}{\\cos{\\left(\\theta{\\left(t \\right)} + \\varphi{\\left(t \\right)} \\right)}}\\right) + \\left(\\frac{2 l \\sin{\\left(\\theta{\\left(t \\right)} + \\varphi{\\left(t \\right)} \\right)} \\cos{\\left(\\varphi{\\left(t \\right)} \\right)}}{\\cos^{2}{\\left(\\theta{\\left(t \\right)} + \\varphi{\\left(t \\right)} \\right)}} - \\frac{2 l \\sin{\\left(\\varphi{\\left(t \\right)} \\right)}}{\\cos{\\left(\\theta{\\left(t \\right)} + \\varphi{\\left(t \\right)} \\right)}}\\right) \\left(\\frac{2 l \\left(\\frac{d}{d t} \\theta{\\left(t \\right)} + \\frac{d}{d t} \\varphi{\\left(t \\right)}\\right)^{2} \\sin^{2}{\\left(\\theta{\\left(t \\right)} + \\varphi{\\left(t \\right)} \\right)} \\cos{\\left(\\varphi{\\left(t \\right)} \\right)}}{\\cos^{3}{\\left(\\theta{\\left(t \\right)} + \\varphi{\\left(t \\right)} \\right)}} + \\frac{l \\left(\\frac{d}{d t} \\theta{\\left(t \\right)} + \\frac{d}{d t} \\varphi{\\left(t \\right)}\\right)^{2} \\cos{\\left(\\varphi{\\left(t \\right)} \\right)}}{\\cos{\\left(\\theta{\\left(t \\right)} + \\varphi{\\left(t \\right)} \\right)}} - \\frac{2 l \\left(\\frac{d}{d t} \\theta{\\left(t \\right)} + \\frac{d}{d t} \\varphi{\\left(t \\right)}\\right) \\sin{\\left(\\theta{\\left(t \\right)} + \\varphi{\\left(t \\right)} \\right)} \\sin{\\left(\\varphi{\\left(t \\right)} \\right)} \\frac{d}{d t} \\varphi{\\left(t \\right)}}{\\cos^{2}{\\left(\\theta{\\left(t \\right)} + \\varphi{\\left(t \\right)} \\right)}} + \\frac{l \\left(\\frac{d^{2}}{d t^{2}} \\theta{\\left(t \\right)} + \\frac{d^{2}}{d t^{2}} \\varphi{\\left(t \\right)}\\right) \\sin{\\left(\\theta{\\left(t \\right)} + \\varphi{\\left(t \\right)} \\right)} \\cos{\\left(\\varphi{\\left(t \\right)} \\right)}}{\\cos^{2}{\\left(\\theta{\\left(t \\right)} + \\varphi{\\left(t \\right)} \\right)}} - \\frac{l \\sin{\\left(\\varphi{\\left(t \\right)} \\right)} \\frac{d^{2}}{d t^{2}} \\varphi{\\left(t \\right)}}{\\cos{\\left(\\theta{\\left(t \\right)} + \\varphi{\\left(t \\right)} \\right)}} - \\frac{l \\cos{\\left(\\varphi{\\left(t \\right)} \\right)} \\left(\\frac{d}{d t} \\varphi{\\left(t \\right)}\\right)^{2}}{\\cos{\\left(\\theta{\\left(t \\right)} + \\varphi{\\left(t \\right)} \\right)}}\\right) + \\left(\\frac{l \\left(\\frac{d}{d t} \\theta{\\left(t \\right)} + \\frac{d}{d t} \\varphi{\\left(t \\right)}\\right) \\sin{\\left(\\theta{\\left(t \\right)} + \\varphi{\\left(t \\right)} \\right)} \\sin{\\left(\\varphi{\\left(t \\right)} \\right)}}{\\cos^{2}{\\left(\\theta{\\left(t \\right)} + \\varphi{\\left(t \\right)} \\right)}} + \\frac{l \\cos{\\left(\\varphi{\\left(t \\right)} \\right)} \\frac{d}{d t} \\varphi{\\left(t \\right)}}{\\cos{\\left(\\theta{\\left(t \\right)} + \\varphi{\\left(t \\right)} \\right)}}\\right) \\left(\\frac{4 l \\left(\\frac{d}{d t} \\theta{\\left(t \\right)} + \\frac{d}{d t} \\varphi{\\left(t \\right)}\\right) \\sin^{2}{\\left(\\theta{\\left(t \\right)} + \\varphi{\\left(t \\right)} \\right)} \\sin{\\left(\\varphi{\\left(t \\right)} \\right)}}{\\cos^{3}{\\left(\\theta{\\left(t \\right)} + \\varphi{\\left(t \\right)} \\right)}} + \\frac{2 l \\left(\\frac{d}{d t} \\theta{\\left(t \\right)} + \\frac{d}{d t} \\varphi{\\left(t \\right)}\\right) \\sin{\\left(\\theta{\\left(t \\right)} + \\varphi{\\left(t \\right)} \\right)} \\cos{\\left(\\varphi{\\left(t \\right)} \\right)}}{\\cos^{2}{\\left(\\theta{\\left(t \\right)} + \\varphi{\\left(t \\right)} \\right)}} + \\frac{2 l \\left(\\frac{d}{d t} \\theta{\\left(t \\right)} + \\frac{d}{d t} \\varphi{\\left(t \\right)}\\right) \\sin{\\left(\\varphi{\\left(t \\right)} \\right)}}{\\cos{\\left(\\theta{\\left(t \\right)} + \\varphi{\\left(t \\right)} \\right)}} + \\frac{2 l \\sin{\\left(\\theta{\\left(t \\right)} + \\varphi{\\left(t \\right)} \\right)} \\cos{\\left(\\varphi{\\left(t \\right)} \\right)} \\frac{d}{d t} \\varphi{\\left(t \\right)}}{\\cos^{2}{\\left(\\theta{\\left(t \\right)} + \\varphi{\\left(t \\right)} \\right)}} - \\frac{2 l \\sin{\\left(\\varphi{\\left(t \\right)} \\right)} \\frac{d}{d t} \\varphi{\\left(t \\right)}}{\\cos{\\left(\\theta{\\left(t \\right)} + \\varphi{\\left(t \\right)} \\right)}}\\right) + \\left(\\frac{l \\left(\\frac{d}{d t} \\theta{\\left(t \\right)} + \\frac{d}{d t} \\varphi{\\left(t \\right)}\\right) \\sin{\\left(\\theta{\\left(t \\right)} + \\varphi{\\left(t \\right)} \\right)} \\cos{\\left(\\varphi{\\left(t \\right)} \\right)}}{\\cos^{2}{\\left(\\theta{\\left(t \\right)} + \\varphi{\\left(t \\right)} \\right)}} - \\frac{l \\sin{\\left(\\varphi{\\left(t \\right)} \\right)} \\frac{d}{d t} \\varphi{\\left(t \\right)}}{\\cos{\\left(\\theta{\\left(t \\right)} + \\varphi{\\left(t \\right)} \\right)}}\\right) \\left(\\frac{4 l \\left(\\frac{d}{d t} \\theta{\\left(t \\right)} + \\frac{d}{d t} \\varphi{\\left(t \\right)}\\right) \\sin^{2}{\\left(\\theta{\\left(t \\right)} + \\varphi{\\left(t \\right)} \\right)} \\cos{\\left(\\varphi{\\left(t \\right)} \\right)}}{\\cos^{3}{\\left(\\theta{\\left(t \\right)} + \\varphi{\\left(t \\right)} \\right)}} - \\frac{2 l \\left(\\frac{d}{d t} \\theta{\\left(t \\right)} + \\frac{d}{d t} \\varphi{\\left(t \\right)}\\right) \\sin{\\left(\\theta{\\left(t \\right)} + \\varphi{\\left(t \\right)} \\right)} \\sin{\\left(\\varphi{\\left(t \\right)} \\right)}}{\\cos^{2}{\\left(\\theta{\\left(t \\right)} + \\varphi{\\left(t \\right)} \\right)}} + \\frac{2 l \\left(\\frac{d}{d t} \\theta{\\left(t \\right)} + \\frac{d}{d t} \\varphi{\\left(t \\right)}\\right) \\cos{\\left(\\varphi{\\left(t \\right)} \\right)}}{\\cos{\\left(\\theta{\\left(t \\right)} + \\varphi{\\left(t \\right)} \\right)}} - \\frac{2 l \\sin{\\left(\\theta{\\left(t \\right)} + \\varphi{\\left(t \\right)} \\right)} \\sin{\\left(\\varphi{\\left(t \\right)} \\right)} \\frac{d}{d t} \\varphi{\\left(t \\right)}}{\\cos^{2}{\\left(\\theta{\\left(t \\right)} + \\varphi{\\left(t \\right)} \\right)}} - \\frac{2 l \\cos{\\left(\\varphi{\\left(t \\right)} \\right)} \\frac{d}{d t} \\varphi{\\left(t \\right)}}{\\cos{\\left(\\theta{\\left(t \\right)} + \\varphi{\\left(t \\right)} \\right)}}\\right)\\right)}{2}$"
      ],
      "text/plain": [
       "g*l*m_2*sin(\\theta(t) + \\varphi(t))*cos(\\varphi(t))/cos(\\theta(t) + \\varphi(t))**2 - g*l*m_2*sin(\\varphi(t))/cos(\\theta(t) + \\varphi(t)) - k*l**2*(-\\alpha_0 + tan(\\theta(t) + \\varphi(t)))*(2*tan(\\theta(t) + \\varphi(t))**2 + 2)/2 - m_2*((l*(Derivative(\\theta(t), t) + Derivative(\\varphi(t), t))*sin(\\theta(t) + \\varphi(t))*sin(\\varphi(t))/cos(\\theta(t) + \\varphi(t))**2 + l*cos(\\varphi(t))*Derivative(\\varphi(t), t)/cos(\\theta(t) + \\varphi(t)))*(4*l*(Derivative(\\theta(t), t) + Derivative(\\varphi(t), t))*sin(\\theta(t) + \\varphi(t))**2*sin(\\varphi(t))/cos(\\theta(t) + \\varphi(t))**3 + 2*l*(Derivative(\\theta(t), t) + Derivative(\\varphi(t), t))*sin(\\theta(t) + \\varphi(t))*cos(\\varphi(t))/cos(\\theta(t) + \\varphi(t))**2 + 2*l*(Derivative(\\theta(t), t) + Derivative(\\varphi(t), t))*sin(\\varphi(t))/cos(\\theta(t) + \\varphi(t)) + 2*l*sin(\\theta(t) + \\varphi(t))*cos(\\varphi(t))*Derivative(\\varphi(t), t)/cos(\\theta(t) + \\varphi(t))**2 - 2*l*sin(\\varphi(t))*Derivative(\\varphi(t), t)/cos(\\theta(t) + \\varphi(t))) + (l*(Derivative(\\theta(t), t) + Derivative(\\varphi(t), t))*sin(\\theta(t) + \\varphi(t))*cos(\\varphi(t))/cos(\\theta(t) + \\varphi(t))**2 - l*sin(\\varphi(t))*Derivative(\\varphi(t), t)/cos(\\theta(t) + \\varphi(t)))*(4*l*(Derivative(\\theta(t), t) + Derivative(\\varphi(t), t))*sin(\\theta(t) + \\varphi(t))**2*cos(\\varphi(t))/cos(\\theta(t) + \\varphi(t))**3 - 2*l*(Derivative(\\theta(t), t) + Derivative(\\varphi(t), t))*sin(\\theta(t) + \\varphi(t))*sin(\\varphi(t))/cos(\\theta(t) + \\varphi(t))**2 + 2*l*(Derivative(\\theta(t), t) + Derivative(\\varphi(t), t))*cos(\\varphi(t))/cos(\\theta(t) + \\varphi(t)) - 2*l*sin(\\theta(t) + \\varphi(t))*sin(\\varphi(t))*Derivative(\\varphi(t), t)/cos(\\theta(t) + \\varphi(t))**2 - 2*l*cos(\\varphi(t))*Derivative(\\varphi(t), t)/cos(\\theta(t) + \\varphi(t))))/2 + m_2*((2*l*sin(\\theta(t) + \\varphi(t))*sin(\\varphi(t))/cos(\\theta(t) + \\varphi(t))**2 + 2*l*cos(\\varphi(t))/cos(\\theta(t) + \\varphi(t)))*(2*l*(Derivative(\\theta(t), t) + Derivative(\\varphi(t), t))**2*sin(\\theta(t) + \\varphi(t))**2*sin(\\varphi(t))/cos(\\theta(t) + \\varphi(t))**3 + l*(Derivative(\\theta(t), t) + Derivative(\\varphi(t), t))**2*sin(\\varphi(t))/cos(\\theta(t) + \\varphi(t)) + 2*l*(Derivative(\\theta(t), t) + Derivative(\\varphi(t), t))*sin(\\theta(t) + \\varphi(t))*cos(\\varphi(t))*Derivative(\\varphi(t), t)/cos(\\theta(t) + \\varphi(t))**2 + l*(Derivative(\\theta(t), (t, 2)) + Derivative(\\varphi(t), (t, 2)))*sin(\\theta(t) + \\varphi(t))*sin(\\varphi(t))/cos(\\theta(t) + \\varphi(t))**2 - l*sin(\\varphi(t))*Derivative(\\varphi(t), t)**2/cos(\\theta(t) + \\varphi(t)) + l*cos(\\varphi(t))*Derivative(\\varphi(t), (t, 2))/cos(\\theta(t) + \\varphi(t))) + (2*l*sin(\\theta(t) + \\varphi(t))*cos(\\varphi(t))/cos(\\theta(t) + \\varphi(t))**2 - 2*l*sin(\\varphi(t))/cos(\\theta(t) + \\varphi(t)))*(2*l*(Derivative(\\theta(t), t) + Derivative(\\varphi(t), t))**2*sin(\\theta(t) + \\varphi(t))**2*cos(\\varphi(t))/cos(\\theta(t) + \\varphi(t))**3 + l*(Derivative(\\theta(t), t) + Derivative(\\varphi(t), t))**2*cos(\\varphi(t))/cos(\\theta(t) + \\varphi(t)) - 2*l*(Derivative(\\theta(t), t) + Derivative(\\varphi(t), t))*sin(\\theta(t) + \\varphi(t))*sin(\\varphi(t))*Derivative(\\varphi(t), t)/cos(\\theta(t) + \\varphi(t))**2 + l*(Derivative(\\theta(t), (t, 2)) + Derivative(\\varphi(t), (t, 2)))*sin(\\theta(t) + \\varphi(t))*cos(\\varphi(t))/cos(\\theta(t) + \\varphi(t))**2 - l*sin(\\varphi(t))*Derivative(\\varphi(t), (t, 2))/cos(\\theta(t) + \\varphi(t)) - l*cos(\\varphi(t))*Derivative(\\varphi(t), t)**2/cos(\\theta(t) + \\varphi(t))) + (l*(Derivative(\\theta(t), t) + Derivative(\\varphi(t), t))*sin(\\theta(t) + \\varphi(t))*sin(\\varphi(t))/cos(\\theta(t) + \\varphi(t))**2 + l*cos(\\varphi(t))*Derivative(\\varphi(t), t)/cos(\\theta(t) + \\varphi(t)))*(4*l*(Derivative(\\theta(t), t) + Derivative(\\varphi(t), t))*sin(\\theta(t) + \\varphi(t))**2*sin(\\varphi(t))/cos(\\theta(t) + \\varphi(t))**3 + 2*l*(Derivative(\\theta(t), t) + Derivative(\\varphi(t), t))*sin(\\theta(t) + \\varphi(t))*cos(\\varphi(t))/cos(\\theta(t) + \\varphi(t))**2 + 2*l*(Derivative(\\theta(t), t) + Derivative(\\varphi(t), t))*sin(\\varphi(t))/cos(\\theta(t) + \\varphi(t)) + 2*l*sin(\\theta(t) + \\varphi(t))*cos(\\varphi(t))*Derivative(\\varphi(t), t)/cos(\\theta(t) + \\varphi(t))**2 - 2*l*sin(\\varphi(t))*Derivative(\\varphi(t), t)/cos(\\theta(t) + \\varphi(t))) + (l*(Derivative(\\theta(t), t) + Derivative(\\varphi(t), t))*sin(\\theta(t) + \\varphi(t))*cos(\\varphi(t))/cos(\\theta(t) + \\varphi(t))**2 - l*sin(\\varphi(t))*Derivative(\\varphi(t), t)/cos(\\theta(t) + \\varphi(t)))*(4*l*(Derivative(\\theta(t), t) + Derivative(\\varphi(t), t))*sin(\\theta(t) + \\varphi(t))**2*cos(\\varphi(t))/cos(\\theta(t) + \\varphi(t))**3 - 2*l*(Derivative(\\theta(t), t) + Derivative(\\varphi(t), t))*sin(\\theta(t) + \\varphi(t))*sin(\\varphi(t))/cos(\\theta(t) + \\varphi(t))**2 + 2*l*(Derivative(\\theta(t), t) + Derivative(\\varphi(t), t))*cos(\\varphi(t))/cos(\\theta(t) + \\varphi(t)) - 2*l*sin(\\theta(t) + \\varphi(t))*sin(\\varphi(t))*Derivative(\\varphi(t), t)/cos(\\theta(t) + \\varphi(t))**2 - 2*l*cos(\\varphi(t))*Derivative(\\varphi(t), t)/cos(\\theta(t) + \\varphi(t))))/2"
      ]
     },
     "execution_count": 351,
     "metadata": {},
     "output_type": "execute_result"
    }
   ],
   "source": [
    "eq1"
   ]
  },
  {
   "cell_type": "code",
   "execution_count": null,
   "metadata": {
    "hidden": true
   },
   "outputs": [],
   "source": []
  },
  {
   "cell_type": "code",
   "execution_count": null,
   "metadata": {
    "hidden": true
   },
   "outputs": [],
   "source": []
  }
 ],
 "metadata": {
  "kernelspec": {
   "display_name": "Python 3",
   "language": "python",
   "name": "python3"
  },
  "language_info": {
   "codemirror_mode": {
    "name": "ipython",
    "version": 3
   },
   "file_extension": ".py",
   "mimetype": "text/x-python",
   "name": "python",
   "nbconvert_exporter": "python",
   "pygments_lexer": "ipython3",
   "version": "3.7.4"
  },
  "latex_envs": {
   "LaTeX_envs_menu_present": true,
   "autoclose": false,
   "autocomplete": true,
   "bibliofile": "biblio.bib",
   "cite_by": "apalike",
   "current_citInitial": 1,
   "eqLabelWithNumbers": true,
   "eqNumInitial": 1,
   "hotkeys": {
    "equation": "Ctrl-E",
    "itemize": "Ctrl-I"
   },
   "labels_anchors": false,
   "latex_user_defs": false,
   "report_style_numbering": false,
   "user_envs_cfg": false
  },
  "toc": {
   "base_numbering": 1,
   "nav_menu": {},
   "number_sections": false,
   "sideBar": true,
   "skip_h1_title": false,
   "title_cell": "Table of Contents",
   "title_sidebar": "Contents",
   "toc_cell": false,
   "toc_position": {},
   "toc_section_display": true,
   "toc_window_display": false
  },
  "varInspector": {
   "cols": {
    "lenName": 16,
    "lenType": 16,
    "lenVar": 40
   },
   "kernels_config": {
    "python": {
     "delete_cmd_postfix": "",
     "delete_cmd_prefix": "del ",
     "library": "var_list.py",
     "varRefreshCmd": "print(var_dic_list())"
    },
    "r": {
     "delete_cmd_postfix": ") ",
     "delete_cmd_prefix": "rm(",
     "library": "var_list.r",
     "varRefreshCmd": "cat(var_dic_list()) "
    }
   },
   "types_to_exclude": [
    "module",
    "function",
    "builtin_function_or_method",
    "instance",
    "_Feature"
   ],
   "window_display": false
  }
 },
 "nbformat": 4,
 "nbformat_minor": 2
}
