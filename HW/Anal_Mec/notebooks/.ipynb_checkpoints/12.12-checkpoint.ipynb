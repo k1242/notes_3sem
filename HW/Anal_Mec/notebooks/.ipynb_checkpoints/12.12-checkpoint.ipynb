{
 "cells": [
  {
   "cell_type": "code",
   "execution_count": 8,
   "metadata": {
    "ExecuteTime": {
     "end_time": "2020-11-24T06:53:55.615231Z",
     "start_time": "2020-11-24T06:53:55.612208Z"
    }
   },
   "outputs": [],
   "source": [
    "import sympy as sp\n",
    "from sympy import cos, sin, tan, Matrix, diff, Function"
   ]
  },
  {
   "cell_type": "markdown",
   "metadata": {},
   "source": [
    "### Переменные"
   ]
  },
  {
   "cell_type": "code",
   "execution_count": 32,
   "metadata": {
    "ExecuteTime": {
     "end_time": "2020-11-24T07:23:27.235447Z",
     "start_time": "2020-11-24T07:23:27.231455Z"
    }
   },
   "outputs": [],
   "source": [
    "r, r1, r2 = sp.symbols(\"r r_1 r_2\")\n",
    "m, m1, m2 = sp.symbols(\"m m_1 m_2\")\n",
    "x, y, z, t = sp.symbols(\"x y z t\")\n",
    "phi, theta = sp.symbols(\"\\\\varphi \\\\theta\")"
   ]
  },
  {
   "cell_type": "code",
   "execution_count": 44,
   "metadata": {
    "ExecuteTime": {
     "end_time": "2020-11-24T07:25:21.813857Z",
     "start_time": "2020-11-24T07:25:21.810858Z"
    }
   },
   "outputs": [],
   "source": [
    "G = sp.symbols(\"G\")"
   ]
  },
  {
   "cell_type": "code",
   "execution_count": 40,
   "metadata": {
    "ExecuteTime": {
     "end_time": "2020-11-24T07:24:29.622231Z",
     "start_time": "2020-11-24T07:24:29.617245Z"
    }
   },
   "outputs": [],
   "source": [
    "x0 = Function(\"x\")(t)\n",
    "y0 = Function(\"y\")(t)\n",
    "z0 = Function(\"z\")(t)"
   ]
  },
  {
   "cell_type": "code",
   "execution_count": 34,
   "metadata": {
    "ExecuteTime": {
     "end_time": "2020-11-24T07:23:30.497034Z",
     "start_time": "2020-11-24T07:23:30.494043Z"
    }
   },
   "outputs": [],
   "source": [
    "r = Function(\"r\")(t)\n",
    "theta = Function(\"\\\\theta\")(t)\n",
    "phi = Function(\"\\\\varphi\")(t)"
   ]
  },
  {
   "cell_type": "markdown",
   "metadata": {},
   "source": [
    "### Другие координаты"
   ]
  },
  {
   "cell_type": "code",
   "execution_count": 35,
   "metadata": {
    "ExecuteTime": {
     "end_time": "2020-11-24T07:23:31.016412Z",
     "start_time": "2020-11-24T07:23:31.011392Z"
    }
   },
   "outputs": [],
   "source": [
    "x = r * sin(theta) * cos(phi)\n",
    "y = r * sin(theta) * sin(phi)\n",
    "z = r * cos(theta)"
   ]
  },
  {
   "cell_type": "code",
   "execution_count": 36,
   "metadata": {
    "ExecuteTime": {
     "end_time": "2020-11-24T07:23:31.576580Z",
     "start_time": "2020-11-24T07:23:31.571618Z"
    }
   },
   "outputs": [],
   "source": [
    "_r = Matrix([[x], [y], [z]])\n",
    "_v = diff(_r, t)"
   ]
  },
  {
   "cell_type": "code",
   "execution_count": 43,
   "metadata": {
    "ExecuteTime": {
     "end_time": "2020-11-24T07:24:59.058385Z",
     "start_time": "2020-11-24T07:24:58.582702Z"
    }
   },
   "outputs": [
    {
     "data": {
      "text/latex": [
       "$\\displaystyle \\frac{m_{1} m_{2} \\left(r^{2}{\\left(t \\right)} \\sin^{2}{\\left(\\theta{\\left(t \\right)} \\right)} \\left(\\frac{d}{d t} \\varphi{\\left(t \\right)}\\right)^{2} + r^{2}{\\left(t \\right)} \\left(\\frac{d}{d t} \\theta{\\left(t \\right)}\\right)^{2} + \\left(\\frac{d}{d t} r{\\left(t \\right)}\\right)^{2}\\right)}{2 \\left(m_{1} + m_{2}\\right)} + \\left(\\frac{m_{1}}{2} + \\frac{m_{2}}{2}\\right) \\left(\\left(\\frac{d}{d t} x{\\left(t \\right)}\\right)^{2} + \\left(\\frac{d}{d t} y{\\left(t \\right)}\\right)^{2} + \\left(\\frac{d}{d t} z{\\left(t \\right)}\\right)^{2}\\right)$"
      ],
      "text/plain": [
       "m_1*m_2*(r(t)**2*sin(\\theta(t))**2*Derivative(\\varphi(t), t)**2 + r(t)**2*Derivative(\\theta(t), t)**2 + Derivative(r(t), t)**2)/(2*(m_1 + m_2)) + (m_1/2 + m_2/2)*(Derivative(x(t), t)**2 + Derivative(y(t), t)**2 + Derivative(z(t), t)**2)"
      ]
     },
     "execution_count": 43,
     "metadata": {},
     "output_type": "execute_result"
    }
   ],
   "source": [
    "T = sp.simplify((_v.T * _v)[0])\n",
    "T = T * m1 * m2 / (m1 + m2) / 2\n",
    "T = T + (m1+m2)/2*(diff(x0, t)**2+diff(y0, t)**2+diff(z0, t)**2)\n",
    "T"
   ]
  },
  {
   "cell_type": "code",
   "execution_count": 45,
   "metadata": {
    "ExecuteTime": {
     "end_time": "2020-11-24T07:25:39.889181Z",
     "start_time": "2020-11-24T07:25:39.882166Z"
    }
   },
   "outputs": [
    {
     "data": {
      "text/latex": [
       "$\\displaystyle - \\frac{G m_{1} m_{2}}{r{\\left(t \\right)}}$"
      ],
      "text/plain": [
       "-G*m_1*m_2/r(t)"
      ]
     },
     "execution_count": 45,
     "metadata": {},
     "output_type": "execute_result"
    }
   ],
   "source": [
    "P = -G * m1 * m2 /  r\n",
    "P"
   ]
  },
  {
   "cell_type": "code",
   "execution_count": 47,
   "metadata": {
    "ExecuteTime": {
     "end_time": "2020-11-24T07:25:50.046736Z",
     "start_time": "2020-11-24T07:25:50.037760Z"
    }
   },
   "outputs": [
    {
     "data": {
      "text/latex": [
       "$\\displaystyle \\frac{G m_{1} m_{2}}{r{\\left(t \\right)}} + \\frac{m_{1} m_{2} \\left(r^{2}{\\left(t \\right)} \\sin^{2}{\\left(\\theta{\\left(t \\right)} \\right)} \\left(\\frac{d}{d t} \\varphi{\\left(t \\right)}\\right)^{2} + r^{2}{\\left(t \\right)} \\left(\\frac{d}{d t} \\theta{\\left(t \\right)}\\right)^{2} + \\left(\\frac{d}{d t} r{\\left(t \\right)}\\right)^{2}\\right)}{2 \\left(m_{1} + m_{2}\\right)} + \\left(\\frac{m_{1}}{2} + \\frac{m_{2}}{2}\\right) \\left(\\left(\\frac{d}{d t} x{\\left(t \\right)}\\right)^{2} + \\left(\\frac{d}{d t} y{\\left(t \\right)}\\right)^{2} + \\left(\\frac{d}{d t} z{\\left(t \\right)}\\right)^{2}\\right)$"
      ],
      "text/plain": [
       "G*m_1*m_2/r(t) + m_1*m_2*(r(t)**2*sin(\\theta(t))**2*Derivative(\\varphi(t), t)**2 + r(t)**2*Derivative(\\theta(t), t)**2 + Derivative(r(t), t)**2)/(2*(m_1 + m_2)) + (m_1/2 + m_2/2)*(Derivative(x(t), t)**2 + Derivative(y(t), t)**2 + Derivative(z(t), t)**2)"
      ]
     },
     "execution_count": 47,
     "metadata": {},
     "output_type": "execute_result"
    }
   ],
   "source": [
    "L = T - P\n",
    "L"
   ]
  },
  {
   "cell_type": "code",
   "execution_count": 53,
   "metadata": {
    "ExecuteTime": {
     "end_time": "2020-11-24T07:27:40.326618Z",
     "start_time": "2020-11-24T07:27:40.275707Z"
    }
   },
   "outputs": [
    {
     "data": {
      "text/latex": [
       "$\\displaystyle \\frac{m_{1} m_{2} r^{2}{\\left(t \\right)} \\sin^{2}{\\left(\\theta{\\left(t \\right)} \\right)} \\frac{d}{d t} \\varphi{\\left(t \\right)}}{m_{1} + m_{2}}$"
      ],
      "text/plain": [
       "m_1*m_2*r(t)**2*sin(\\theta(t))**2*Derivative(\\varphi(t), t)/(m_1 + m_2)"
      ]
     },
     "execution_count": 53,
     "metadata": {},
     "output_type": "execute_result"
    }
   ],
   "source": [
    "sp.simplify(diff(L, diff(phi, t)))"
   ]
  }
 ],
 "metadata": {
  "kernelspec": {
   "display_name": "Python 3",
   "language": "python",
   "name": "python3"
  },
  "language_info": {
   "codemirror_mode": {
    "name": "ipython",
    "version": 3
   },
   "file_extension": ".py",
   "mimetype": "text/x-python",
   "name": "python",
   "nbconvert_exporter": "python",
   "pygments_lexer": "ipython3",
   "version": "3.7.4"
  },
  "latex_envs": {
   "LaTeX_envs_menu_present": true,
   "autoclose": false,
   "autocomplete": true,
   "bibliofile": "biblio.bib",
   "cite_by": "apalike",
   "current_citInitial": 1,
   "eqLabelWithNumbers": true,
   "eqNumInitial": 1,
   "hotkeys": {
    "equation": "Ctrl-E",
    "itemize": "Ctrl-I"
   },
   "labels_anchors": false,
   "latex_user_defs": false,
   "report_style_numbering": false,
   "user_envs_cfg": false
  },
  "toc": {
   "base_numbering": 1,
   "nav_menu": {},
   "number_sections": true,
   "sideBar": true,
   "skip_h1_title": false,
   "title_cell": "Table of Contents",
   "title_sidebar": "Contents",
   "toc_cell": false,
   "toc_position": {},
   "toc_section_display": true,
   "toc_window_display": false
  },
  "varInspector": {
   "cols": {
    "lenName": 16,
    "lenType": 16,
    "lenVar": 40
   },
   "kernels_config": {
    "python": {
     "delete_cmd_postfix": "",
     "delete_cmd_prefix": "del ",
     "library": "var_list.py",
     "varRefreshCmd": "print(var_dic_list())"
    },
    "r": {
     "delete_cmd_postfix": ") ",
     "delete_cmd_prefix": "rm(",
     "library": "var_list.r",
     "varRefreshCmd": "cat(var_dic_list()) "
    }
   },
   "types_to_exclude": [
    "module",
    "function",
    "builtin_function_or_method",
    "instance",
    "_Feature"
   ],
   "window_display": false
  }
 },
 "nbformat": 4,
 "nbformat_minor": 2
}
