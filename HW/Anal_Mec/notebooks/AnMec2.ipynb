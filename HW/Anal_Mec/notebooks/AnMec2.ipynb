{
 "cells": [
  {
   "cell_type": "code",
   "execution_count": 1,
   "metadata": {
    "ExecuteTime": {
     "end_time": "2020-12-11T15:56:38.809812Z",
     "start_time": "2020-12-11T15:56:38.241950Z"
    }
   },
   "outputs": [],
   "source": [
    "import sympy as sp\n",
    "from sympy import cos, sin, tan, Matrix, diff, Function\n",
    "from sympy import simplify as simpl, Eq, fraction as frac"
   ]
  },
  {
   "cell_type": "markdown",
   "metadata": {},
   "source": [
    "## Переменные"
   ]
  },
  {
   "cell_type": "code",
   "execution_count": 2,
   "metadata": {
    "ExecuteTime": {
     "end_time": "2020-12-11T15:56:38.824743Z",
     "start_time": "2020-12-11T15:56:38.820752Z"
    }
   },
   "outputs": [],
   "source": [
    "r, r1, r2 = sp.symbols(\"r r_1 r_2\")\n",
    "x, y, z, t = sp.symbols(\"x y z t\")\n",
    "phi, theta = sp.symbols(\"\\\\varphi \\\\theta\")"
   ]
  },
  {
   "cell_type": "code",
   "execution_count": 3,
   "metadata": {
    "ExecuteTime": {
     "end_time": "2020-12-11T15:56:38.842692Z",
     "start_time": "2020-12-11T15:56:38.837706Z"
    }
   },
   "outputs": [],
   "source": [
    "ddt_x_bt, ddt_y_bt = sp.symbols(\"\\\\ddot{x} \\\\ddot{y}\")\n",
    "dt_x_bt, dt_y_bt = sp.symbols(\"\\\\dot{x} \\\\dot{y}\")"
   ]
  },
  {
   "cell_type": "code",
   "execution_count": 4,
   "metadata": {
    "ExecuteTime": {
     "end_time": "2020-12-11T15:56:39.238959Z",
     "start_time": "2020-12-11T15:56:39.234972Z"
    }
   },
   "outputs": [],
   "source": [
    "x = Function(\"x\")(t)\n",
    "y = Function(\"y\")(t)"
   ]
  },
  {
   "cell_type": "code",
   "execution_count": 5,
   "metadata": {
    "ExecuteTime": {
     "end_time": "2020-12-11T15:56:39.405985Z",
     "start_time": "2020-12-11T15:56:39.400002Z"
    }
   },
   "outputs": [],
   "source": [
    "ddt_x = diff(x, t, t)\n",
    "ddt_y = diff(y, t, t)\n",
    "dt_x = diff(x, t)\n",
    "dt_y = diff(y, t)"
   ]
  },
  {
   "cell_type": "code",
   "execution_count": 6,
   "metadata": {
    "ExecuteTime": {
     "end_time": "2020-12-11T15:56:39.558085Z",
     "start_time": "2020-12-11T15:56:39.554096Z"
    }
   },
   "outputs": [],
   "source": [
    "n = 2"
   ]
  },
  {
   "cell_type": "markdown",
   "metadata": {},
   "source": [
    "## Функции"
   ]
  },
  {
   "cell_type": "code",
   "execution_count": 7,
   "metadata": {
    "ExecuteTime": {
     "end_time": "2020-12-11T15:56:40.692653Z",
     "start_time": "2020-12-11T15:56:40.687665Z"
    }
   },
   "outputs": [],
   "source": [
    "def _d(f, num):\n",
    "    return diff(f, VS[num])"
   ]
  },
  {
   "cell_type": "code",
   "execution_count": 8,
   "metadata": {
    "ExecuteTime": {
     "end_time": "2020-12-11T15:56:40.847635Z",
     "start_time": "2020-12-11T15:56:40.841650Z"
    }
   },
   "outputs": [],
   "source": [
    "ans = 0\n",
    "def CR(i, j, l):\n",
    "    Gamma = 0\n",
    "    for k in range(2):\n",
    "        tmp0 = g_[:, i][k]\n",
    "        tmp1 = _d(g[:, k][l], j)\n",
    "        tmp2 = _d(g[:, k][j], l)\n",
    "        tmp3 = _d(g[:, j][l], k)\n",
    "        Gamma += tmp0*(tmp1+tmp2-tmp3)\n",
    "    return simpl(Gamma/2)"
   ]
  },
  {
   "cell_type": "code",
   "execution_count": 9,
   "metadata": {
    "ExecuteTime": {
     "end_time": "2020-12-11T15:56:40.986983Z",
     "start_time": "2020-12-11T15:56:40.983025Z"
    }
   },
   "outputs": [],
   "source": [
    "def show(eq):\n",
    "    eq = eq.subs(ddt_x, ddt_x_bt).subs(ddt_y, ddt_y_bt)\n",
    "    eq = eq.subs(dt_x, dt_x_bt).subs(dt_y, dt_y_bt)\n",
    "    eq = eq.subs(x, \"x\").subs(y, \"y\")\n",
    "    return eq"
   ]
  },
  {
   "cell_type": "markdown",
   "metadata": {},
   "source": [
    "## Метрика"
   ]
  },
  {
   "cell_type": "code",
   "execution_count": 10,
   "metadata": {
    "ExecuteTime": {
     "end_time": "2020-12-11T15:56:42.777119Z",
     "start_time": "2020-12-11T15:56:41.856580Z"
    }
   },
   "outputs": [
    {
     "data": {
      "text/latex": [
       "$\\displaystyle \\left[\\begin{matrix}1 - x^{2} & - x y\\\\- x y & 1 - y^{2}\\end{matrix}\\right]$"
      ],
      "text/plain": [
       "Matrix([\n",
       "[1 - x**2,     -x*y],\n",
       "[    -x*y, 1 - y**2]])"
      ]
     },
     "execution_count": 10,
     "metadata": {},
     "output_type": "execute_result"
    }
   ],
   "source": [
    "g = 1 / (1 - x**2 - y**2) * Matrix([\n",
    "    [1-y**2, y*x],\n",
    "    [y*x, 1-x**2]\n",
    "])\n",
    "g_ = simpl(g**(-1))\n",
    "show(g_)"
   ]
  },
  {
   "cell_type": "code",
   "execution_count": 11,
   "metadata": {
    "ExecuteTime": {
     "end_time": "2020-12-11T15:56:44.385320Z",
     "start_time": "2020-12-11T15:56:44.381349Z"
    }
   },
   "outputs": [],
   "source": [
    "VS = [x, y]"
   ]
  },
  {
   "cell_type": "markdown",
   "metadata": {},
   "source": [
    "## Вычисление"
   ]
  },
  {
   "cell_type": "code",
   "execution_count": 12,
   "metadata": {
    "ExecuteTime": {
     "end_time": "2020-12-11T15:56:45.223266Z",
     "start_time": "2020-12-11T15:56:45.055118Z"
    }
   },
   "outputs": [
    {
     "data": {
      "text/latex": [
       "$\\displaystyle \\frac{y^{3} - y}{x^{2} + y^{2} - 1}$"
      ],
      "text/plain": [
       "(y**3 - y)/(x**2 + y**2 - 1)"
      ]
     },
     "execution_count": 12,
     "metadata": {},
     "output_type": "execute_result"
    }
   ],
   "source": [
    "show(CR(1, 0, 0))"
   ]
  },
  {
   "cell_type": "code",
   "execution_count": 13,
   "metadata": {
    "ExecuteTime": {
     "end_time": "2020-12-11T15:56:46.689259Z",
     "start_time": "2020-12-11T15:56:46.146593Z"
    }
   },
   "outputs": [],
   "source": [
    "def expression1(i, j):\n",
    "    eq = CR(0, i, j) * diff(VS[i], t) * diff(VS[j], t)\n",
    "    return eq\n",
    "\n",
    "eq1 = 0\n",
    "for i in range(n):\n",
    "    for j in range(n):\n",
    "        eq1 += expression1(i, j)"
   ]
  },
  {
   "cell_type": "code",
   "execution_count": 14,
   "metadata": {
    "ExecuteTime": {
     "end_time": "2020-12-11T15:56:47.303477Z",
     "start_time": "2020-12-11T15:56:46.714851Z"
    }
   },
   "outputs": [],
   "source": [
    "def expression2(i, j):\n",
    "    eq = CR(1, i, j) * diff(VS[i], t) * diff(VS[j], t)\n",
    "    return eq\n",
    "\n",
    "eq2 = 0\n",
    "for i in range(n):\n",
    "    for j in range(n):\n",
    "        eq2 += expression2(i, j)"
   ]
  },
  {
   "cell_type": "code",
   "execution_count": 23,
   "metadata": {
    "ExecuteTime": {
     "end_time": "2020-12-11T15:59:03.136975Z",
     "start_time": "2020-12-11T15:59:02.764969Z"
    }
   },
   "outputs": [
    {
     "data": {
      "text/latex": [
       "$\\displaystyle \\ddot{x} \\left(x^{2} + y^{2} - 1\\right) + x \\left(\\dot{x}^{2} \\left(y^{2} - 1\\right) - 2 \\dot{x} \\dot{y} x y + \\dot{y}^{2} \\left(x^{2} - 1\\right)\\right) = 0$"
      ],
      "text/plain": [
       "Eq(\\ddot{x}*(x**2 + y**2 - 1) + x*(\\dot{x}**2*(y**2 - 1) - 2*\\dot{x}*\\dot{y}*x*y + \\dot{y}**2*(x**2 - 1)), 0)"
      ]
     },
     "execution_count": 23,
     "metadata": {},
     "output_type": "execute_result"
    }
   ],
   "source": [
    "expr1 = Eq(ddt_x + simpl(eq1), 0)\n",
    "f_eq1 = simpl(show(\n",
    "    expr1 \n",
    "))\n",
    "tmp = simpl(f_eq1.lhs / dt_x_bt / dt_y_bt)\n",
    "f_eq1 = Eq(frac(tmp)[0] , 0)\n",
    "f_eq1 = simpl(f_eq1)\n",
    "f_eq1"
   ]
  },
  {
   "cell_type": "code",
   "execution_count": 18,
   "metadata": {
    "ExecuteTime": {
     "end_time": "2020-12-11T15:57:02.268736Z",
     "start_time": "2020-12-11T15:57:01.926607Z"
    }
   },
   "outputs": [
    {
     "data": {
      "text/latex": [
       "$\\displaystyle \\ddot{y} \\left(x^{2} + y^{2} - 1\\right) + y \\left(\\dot{x}^{2} \\left(y^{2} - 1\\right) - 2 \\dot{x} \\dot{y} x y + \\dot{y}^{2} \\left(x^{2} - 1\\right)\\right) = 0$"
      ],
      "text/plain": [
       "Eq(\\ddot{y}*(x**2 + y**2 - 1) + y*(\\dot{x}**2*(y**2 - 1) - 2*\\dot{x}*\\dot{y}*x*y + \\dot{y}**2*(x**2 - 1)), 0)"
      ]
     },
     "execution_count": 18,
     "metadata": {},
     "output_type": "execute_result"
    }
   ],
   "source": [
    "expr2 = Eq(ddt_y + simpl(eq2), 0)\n",
    "f_eq2 = simpl(show(\n",
    "    expr2\n",
    "))\n",
    "f_eq2 = Eq(frac(f_eq2.lhs)[0], 0)\n",
    "f_eq2 = simpl(f_eq2)\n",
    "f_eq2"
   ]
  },
  {
   "cell_type": "code",
   "execution_count": 24,
   "metadata": {
    "ExecuteTime": {
     "end_time": "2020-12-11T23:37:12.273906Z",
     "start_time": "2020-12-11T23:37:12.266956Z"
    }
   },
   "outputs": [
    {
     "data": {
      "text/latex": [
       "$\\displaystyle x{\\left(t \\right)}$"
      ],
      "text/plain": [
       "x(t)"
      ]
     },
     "execution_count": 24,
     "metadata": {},
     "output_type": "execute_result"
    }
   ],
   "source": [
    "x"
   ]
  },
  {
   "cell_type": "code",
   "execution_count": 27,
   "metadata": {
    "ExecuteTime": {
     "end_time": "2020-12-11T23:38:01.070074Z",
     "start_time": "2020-12-11T23:38:01.064091Z"
    }
   },
   "outputs": [
    {
     "name": "stdout",
     "output_type": "stream",
     "text": [
      "\\ddot{x}*(x**2 + y**2 - 1) + x*(\\dot{x}**2*(y**2 - 1) - 2*\\dot{x}*\\dot{y}*x*y + \\dot{y}**2*(x**2 - 1))\n"
     ]
    }
   ],
   "source": [
    "print(f_eq1.lhs)"
   ]
  },
  {
   "cell_type": "markdown",
   "metadata": {},
   "source": [
    "$\n",
    "    f(x, y) = f(y, x) = 0\n",
    "$"
   ]
  },
  {
   "cell_type": "code",
   "execution_count": null,
   "metadata": {},
   "outputs": [],
   "source": []
  },
  {
   "cell_type": "code",
   "execution_count": null,
   "metadata": {},
   "outputs": [],
   "source": []
  }
 ],
 "metadata": {
  "kernelspec": {
   "display_name": "Python 3",
   "language": "python",
   "name": "python3"
  },
  "language_info": {
   "codemirror_mode": {
    "name": "ipython",
    "version": 3
   },
   "file_extension": ".py",
   "mimetype": "text/x-python",
   "name": "python",
   "nbconvert_exporter": "python",
   "pygments_lexer": "ipython3",
   "version": "3.7.4"
  },
  "latex_envs": {
   "LaTeX_envs_menu_present": true,
   "autoclose": false,
   "autocomplete": true,
   "bibliofile": "biblio.bib",
   "cite_by": "apalike",
   "current_citInitial": 1,
   "eqLabelWithNumbers": true,
   "eqNumInitial": 1,
   "hotkeys": {
    "equation": "Ctrl-E",
    "itemize": "Ctrl-I"
   },
   "labels_anchors": false,
   "latex_user_defs": false,
   "report_style_numbering": false,
   "user_envs_cfg": false
  },
  "toc": {
   "base_numbering": 1,
   "nav_menu": {},
   "number_sections": true,
   "sideBar": true,
   "skip_h1_title": false,
   "title_cell": "Table of Contents",
   "title_sidebar": "Contents",
   "toc_cell": false,
   "toc_position": {},
   "toc_section_display": true,
   "toc_window_display": false
  },
  "varInspector": {
   "cols": {
    "lenName": 16,
    "lenType": 16,
    "lenVar": 40
   },
   "kernels_config": {
    "python": {
     "delete_cmd_postfix": "",
     "delete_cmd_prefix": "del ",
     "library": "var_list.py",
     "varRefreshCmd": "print(var_dic_list())"
    },
    "r": {
     "delete_cmd_postfix": ") ",
     "delete_cmd_prefix": "rm(",
     "library": "var_list.r",
     "varRefreshCmd": "cat(var_dic_list()) "
    }
   },
   "types_to_exclude": [
    "module",
    "function",
    "builtin_function_or_method",
    "instance",
    "_Feature"
   ],
   "window_display": false
  }
 },
 "nbformat": 4,
 "nbformat_minor": 2
}
