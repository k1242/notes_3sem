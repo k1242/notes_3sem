{
 "cells": [
  {
   "cell_type": "code",
   "execution_count": 1,
   "metadata": {
    "ExecuteTime": {
     "end_time": "2020-10-03T22:44:08.358982Z",
     "start_time": "2020-10-03T22:44:04.070055Z"
    }
   },
   "outputs": [],
   "source": [
    "import sympy as sp"
   ]
  },
  {
   "cell_type": "code",
   "execution_count": 2,
   "metadata": {
    "ExecuteTime": {
     "end_time": "2020-10-03T22:44:35.326798Z",
     "start_time": "2020-10-03T22:44:35.318791Z"
    }
   },
   "outputs": [],
   "source": [
    "w, R, r, v, alpha = sp.symbols(\"\\\\omega R r v \\\\alpha\")"
   ]
  },
  {
   "cell_type": "code",
   "execution_count": 3,
   "metadata": {
    "ExecuteTime": {
     "end_time": "2020-10-03T22:46:14.928558Z",
     "start_time": "2020-10-03T22:46:14.902628Z"
    }
   },
   "outputs": [],
   "source": [
    "O1 = sp.Matrix([-r * sp.sin(alpha), r * sp.cos(alpha), 0])\n",
    "O2 = sp.Matrix([0, 0, r])\n",
    "O3 = sp.Matrix([r * sp.sin(alpha), -r * sp.cos(alpha), 0])\n",
    "O4 = sp.Matrix([0, 0, -r])"
   ]
  },
  {
   "cell_type": "code",
   "execution_count": 6,
   "metadata": {
    "ExecuteTime": {
     "end_time": "2020-10-03T22:48:50.256657Z",
     "start_time": "2020-10-03T22:48:50.245686Z"
    }
   },
   "outputs": [],
   "source": [
    "v_e0 = sp.Matrix([v, 0, 0])\n",
    "w_e = sp.Matrix([0, 0, -v/R])\n",
    "w_r = sp.Matrix([w*sp.cos(alpha), w*sp.sin(alpha), 0])"
   ]
  },
  {
   "cell_type": "markdown",
   "metadata": {},
   "source": [
    "## Скорости"
   ]
  },
  {
   "cell_type": "code",
   "execution_count": 11,
   "metadata": {
    "ExecuteTime": {
     "end_time": "2020-10-03T22:50:17.825478Z",
     "start_time": "2020-10-03T22:50:17.401285Z"
    }
   },
   "outputs": [],
   "source": [
    "v_1 = v_e0 + (w_e + w_r).cross(O1)\n",
    "v_2 = v_e0 + (w_e + w_r).cross(O2)\n",
    "v_3 = v_e0 + (w_e + w_r).cross(O3)\n",
    "v_4 = v_e0 + (w_e + w_r).cross(O4)\n",
    "\n",
    "v1 = sp.simplify(v_1)\n",
    "v2 = sp.simplify(v_2)\n",
    "v3 = sp.simplify(v_3)\n",
    "v4 = sp.simplify(v_4)"
   ]
  },
  {
   "cell_type": "code",
   "execution_count": 74,
   "metadata": {
    "ExecuteTime": {
     "end_time": "2020-10-03T23:05:23.213162Z",
     "start_time": "2020-10-03T23:05:23.186236Z"
    }
   },
   "outputs": [
    {
     "name": "stdout",
     "output_type": "stream",
     "text": [
      "\\left[\\begin{matrix}\\frac{v \\left(R + r \\cos{\\left(\\alpha \\right)}\\right)}{R}\\\\\\frac{r v \\sin{\\left(\\alpha \\right)}}{R}\\\\\\omega r\\end{matrix}\\right]\n",
      "\n",
      "\\left[\\begin{matrix}\\omega r \\sin{\\left(\\alpha \\right)} + v\\\\- \\omega r \\cos{\\left(\\alpha \\right)}\\\\0\\end{matrix}\\right]\n",
      "\n",
      "\\left[\\begin{matrix}\\frac{v \\left(R - r \\cos{\\left(\\alpha \\right)}\\right)}{R}\\\\- \\frac{r v \\sin{\\left(\\alpha \\right)}}{R}\\\\- \\omega r\\end{matrix}\\right]\n",
      "\n",
      "\\left[\\begin{matrix}- \\omega r \\sin{\\left(\\alpha \\right)} + v\\\\\\omega r \\cos{\\left(\\alpha \\right)}\\\\0\\end{matrix}\\right]\n",
      "\n"
     ]
    }
   ],
   "source": [
    "print(sp.latex(v1), end=\"\\n\\n\")\n",
    "print(sp.latex(v2), end=\"\\n\\n\")\n",
    "print(sp.latex(v3), end=\"\\n\\n\")\n",
    "print(sp.latex(v4), end=\"\\n\\n\")"
   ]
  },
  {
   "cell_type": "code",
   "execution_count": 75,
   "metadata": {
    "ExecuteTime": {
     "end_time": "2020-10-03T23:05:25.167407Z",
     "start_time": "2020-10-03T23:05:24.354537Z"
    }
   },
   "outputs": [
    {
     "name": "stdout",
     "output_type": "stream",
     "text": [
      "\\frac{R^{2} \\omega^{2} r^{2} + R^{2} v^{2} + 2 R r v^{2} \\cos{\\left(\\alpha \\right)} + r^{2} v^{2}}{R^{2}}\n",
      "\n",
      "\\omega^{2} r^{2} + 2 \\omega r v \\sin{\\left(\\alpha \\right)} + v^{2}\n",
      "\n",
      "\\frac{R^{2} \\omega^{2} r^{2} + R^{2} v^{2} - 2 R r v^{2} \\cos{\\left(\\alpha \\right)} + r^{2} v^{2}}{R^{2}}\n",
      "\n",
      "\\omega^{2} r^{2} - 2 \\omega r v \\sin{\\left(\\alpha \\right)} + v^{2}\n",
      "\n"
     ]
    }
   ],
   "source": [
    "norm_v1 = 1 / R**2 * sp.simplify(v_1.T * v_1 * R**2)[0]\n",
    "norm_v2 = sp.simplify(v_2.T * v_2)[0]\n",
    "norm_v3 = 1 / R**2 * sp.simplify(v_3.T * v_3 * R**2)[0]\n",
    "norm_v4 = sp.simplify(v_4.T * v_4)[0]\n",
    "print(sp.latex(norm_v1), end=\"\\n\\n\")\n",
    "print(sp.latex(norm_v2), end=\"\\n\\n\")\n",
    "print(sp.latex(norm_v3), end=\"\\n\\n\")\n",
    "print(sp.latex(norm_v4), end=\"\\n\\n\")"
   ]
  },
  {
   "cell_type": "markdown",
   "metadata": {},
   "source": [
    "## Ускорения"
   ]
  },
  {
   "cell_type": "code",
   "execution_count": 55,
   "metadata": {
    "ExecuteTime": {
     "end_time": "2020-10-03T23:02:02.900683Z",
     "start_time": "2020-10-03T23:02:02.875744Z"
    }
   },
   "outputs": [],
   "source": [
    "w1 = w_e.cross(w_e.cross(O1)) + 2 * w_e.cross(w_r.cross(O1)) - w**2 * O1\n",
    "w2 = w_e.cross(w_e.cross(O2)) + 2 * w_e.cross(w_r.cross(O2)) - w**2 * O2\n",
    "w3 = w_e.cross(w_e.cross(O3)) + 2 * w_e.cross(w_r.cross(O3)) - w**2 * O3\n",
    "w4 = w_e.cross(w_e.cross(O4)) + 2 * w_e.cross(w_r.cross(O4)) - w**2 * O4"
   ]
  },
  {
   "cell_type": "code",
   "execution_count": 70,
   "metadata": {
    "ExecuteTime": {
     "end_time": "2020-10-03T23:04:41.195990Z",
     "start_time": "2020-10-03T23:04:40.866832Z"
    }
   },
   "outputs": [
    {
     "name": "stdout",
     "output_type": "stream",
     "text": [
      "\\left[\\begin{matrix}\\frac{r \\left(R^{2} \\omega^{2} + v^{2}\\right) \\sin{\\left(\\alpha \\right)}}{R^{2}}\\\\- \\frac{r \\left(R^{2} \\omega^{2} + v^{2}\\right) \\cos{\\left(\\alpha \\right)}}{R^{2}}\\\\0\\end{matrix}\\right]\n",
      "\n",
      "\\left[\\begin{matrix}- \\frac{2 \\omega r v \\cos{\\left(\\alpha \\right)}}{R}\\\\- \\frac{2 \\omega r v \\sin{\\left(\\alpha \\right)}}{R}\\\\- \\omega^{2} r\\end{matrix}\\right]\n",
      "\n",
      "\\left[\\begin{matrix}- \\frac{r \\left(R^{2} \\omega^{2} + v^{2}\\right) \\sin{\\left(\\alpha \\right)}}{R^{2}}\\\\\\frac{r \\left(R^{2} \\omega^{2} + v^{2}\\right) \\cos{\\left(\\alpha \\right)}}{R^{2}}\\\\0\\end{matrix}\\right]\n",
      "\n",
      "\\left[\\begin{matrix}\\frac{2 \\omega r v \\cos{\\left(\\alpha \\right)}}{R}\\\\\\frac{2 \\omega r v \\sin{\\left(\\alpha \\right)}}{R}\\\\\\omega^{2} r\\end{matrix}\\right]\n",
      "\n"
     ]
    }
   ],
   "source": [
    "print(sp.latex(sp.simplify(w1)), end=\"\\n\\n\")\n",
    "print(sp.latex(sp.simplify(w2)), end=\"\\n\\n\")\n",
    "print(sp.latex(sp.simplify(w3)), end=\"\\n\\n\")\n",
    "print(sp.latex(sp.simplify(w4)), end=\"\\n\\n\")"
   ]
  },
  {
   "cell_type": "code",
   "execution_count": 72,
   "metadata": {
    "ExecuteTime": {
     "end_time": "2020-10-03T23:05:00.106593Z",
     "start_time": "2020-10-03T23:05:00.094627Z"
    }
   },
   "outputs": [
    {
     "name": "stdout",
     "output_type": "stream",
     "text": [
      "\\frac{r^{2} \\left(R^{2} \\omega^{2} + v^{2}\\right)^{2}}{R^{4}}\n",
      "\n",
      "\\frac{\\omega^{2} r^{2} \\left(R^{2} \\omega^{2} + 4 v^{2}\\right)}{R^{2}}\n",
      "\n",
      "\\frac{r^{2} \\left(R^{2} \\omega^{2} + v^{2}\\right)^{2}}{R^{4}}\n",
      "\n",
      "\\frac{\\omega^{2} r^{2} \\left(R^{2} \\omega^{2} + 4 v^{2}\\right)}{R^{2}}\n",
      "\n"
     ]
    }
   ],
   "source": [
    "print(sp.latex(norm_w1), end=\"\\n\\n\")\n",
    "print(sp.latex(norm_w2), end=\"\\n\\n\")\n",
    "print(sp.latex(norm_w3), end=\"\\n\\n\")\n",
    "print(sp.latex(norm_w4), end=\"\\n\\n\")"
   ]
  },
  {
   "cell_type": "code",
   "execution_count": 80,
   "metadata": {
    "ExecuteTime": {
     "end_time": "2020-10-04T03:18:32.939278Z",
     "start_time": "2020-10-04T03:18:32.933290Z"
    }
   },
   "outputs": [
    {
     "data": {
      "text/latex": [
       "$\\displaystyle \\frac{\\omega^{2} r^{2} \\left(R^{2} \\omega^{2} + 4 v^{2}\\right)}{R^{2}}$"
      ],
      "text/plain": [
       "\\omega**2*r**2*(R**2*\\omega**2 + 4*v**2)/R**2"
      ]
     },
     "execution_count": 80,
     "metadata": {},
     "output_type": "execute_result"
    }
   ],
   "source": [
    "norm_w4"
   ]
  },
  {
   "cell_type": "code",
   "execution_count": 81,
   "metadata": {
    "ExecuteTime": {
     "end_time": "2020-10-04T03:18:37.036422Z",
     "start_time": "2020-10-04T03:18:36.795488Z"
    }
   },
   "outputs": [],
   "source": [
    "norm_w1 = sp.simplify(((w1).T * w1)[0])\n",
    "norm_w2 = sp.simplify(((w2).T * w2)[0])\n",
    "norm_w3 = sp.simplify(((w3).T * w3)[0])\n",
    "norm_w4 = sp.simplify(((w4).T * w4)[0])"
   ]
  },
  {
   "cell_type": "code",
   "execution_count": 82,
   "metadata": {
    "ExecuteTime": {
     "end_time": "2020-10-04T03:18:40.901603Z",
     "start_time": "2020-10-04T03:18:40.896583Z"
    }
   },
   "outputs": [
    {
     "data": {
      "text/latex": [
       "$\\displaystyle \\frac{\\omega^{2} r^{2} \\left(R^{2} \\omega^{2} + 4 v^{2}\\right)}{R^{2}}$"
      ],
      "text/plain": [
       "\\omega**2*r**2*(R**2*\\omega**2 + 4*v**2)/R**2"
      ]
     },
     "execution_count": 82,
     "metadata": {},
     "output_type": "execute_result"
    }
   ],
   "source": [
    "norm_w4"
   ]
  },
  {
   "cell_type": "code",
   "execution_count": 73,
   "metadata": {
    "ExecuteTime": {
     "end_time": "2020-10-03T23:05:08.054383Z",
     "start_time": "2020-10-03T23:05:08.028448Z"
    }
   },
   "outputs": [
    {
     "name": "stdout",
     "output_type": "stream",
     "text": [
      "\\frac{r^{2} \\left(R^{2} \\omega^{2} + v^{2}\\right)^{2}}{R^{4}}\n",
      "\n",
      "\\frac{\\omega^{2} r^{2} \\left(R^{2} \\omega^{2} + 4 v^{2}\\right)}{R^{2}}\n",
      "\n",
      "\\frac{r^{2} \\left(R^{2} \\omega^{2} + v^{2}\\right)^{2}}{R^{4}}\n",
      "\n",
      "\\frac{\\omega^{2} r^{2} \\left(R^{2} \\omega^{2} + 4 v^{2}\\right)}{R^{2}}\n",
      "\n"
     ]
    }
   ],
   "source": [
    "print(sp.latex(norm_w1), end=\"\\n\\n\")\n",
    "print(sp.latex(norm_w2), end=\"\\n\\n\")\n",
    "print(sp.latex(norm_w3), end=\"\\n\\n\")\n",
    "print(sp.latex(norm_w4), end=\"\\n\\n\")"
   ]
  }
 ],
 "metadata": {
  "kernelspec": {
   "display_name": "Python 3",
   "language": "python",
   "name": "python3"
  },
  "language_info": {
   "codemirror_mode": {
    "name": "ipython",
    "version": 3
   },
   "file_extension": ".py",
   "mimetype": "text/x-python",
   "name": "python",
   "nbconvert_exporter": "python",
   "pygments_lexer": "ipython3",
   "version": "3.7.4"
  },
  "latex_envs": {
   "LaTeX_envs_menu_present": true,
   "autoclose": false,
   "autocomplete": true,
   "bibliofile": "biblio.bib",
   "cite_by": "apalike",
   "current_citInitial": 1,
   "eqLabelWithNumbers": true,
   "eqNumInitial": 1,
   "hotkeys": {
    "equation": "Ctrl-E",
    "itemize": "Ctrl-I"
   },
   "labels_anchors": false,
   "latex_user_defs": false,
   "report_style_numbering": false,
   "user_envs_cfg": false
  },
  "toc": {
   "base_numbering": 1,
   "nav_menu": {},
   "number_sections": true,
   "sideBar": true,
   "skip_h1_title": false,
   "title_cell": "Table of Contents",
   "title_sidebar": "Contents",
   "toc_cell": false,
   "toc_position": {},
   "toc_section_display": true,
   "toc_window_display": false
  },
  "varInspector": {
   "cols": {
    "lenName": 16,
    "lenType": 16,
    "lenVar": 40
   },
   "kernels_config": {
    "python": {
     "delete_cmd_postfix": "",
     "delete_cmd_prefix": "del ",
     "library": "var_list.py",
     "varRefreshCmd": "print(var_dic_list())"
    },
    "r": {
     "delete_cmd_postfix": ") ",
     "delete_cmd_prefix": "rm(",
     "library": "var_list.r",
     "varRefreshCmd": "cat(var_dic_list()) "
    }
   },
   "types_to_exclude": [
    "module",
    "function",
    "builtin_function_or_method",
    "instance",
    "_Feature"
   ],
   "window_display": false
  }
 },
 "nbformat": 4,
 "nbformat_minor": 2
}
