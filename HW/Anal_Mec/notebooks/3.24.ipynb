{
 "cells": [
  {
   "cell_type": "code",
   "execution_count": 1,
   "metadata": {
    "ExecuteTime": {
     "end_time": "2020-10-02T22:37:31.795122Z",
     "start_time": "2020-10-02T22:37:31.349309Z"
    }
   },
   "outputs": [],
   "source": [
    "import sympy as sp"
   ]
  },
  {
   "cell_type": "code",
   "execution_count": 2,
   "metadata": {
    "ExecuteTime": {
     "end_time": "2020-10-02T22:37:33.545098Z",
     "start_time": "2020-10-02T22:37:33.541108Z"
    }
   },
   "outputs": [],
   "source": [
    "w, r, v, alpha = sp.symbols(\"\\\\omega r v \\\\alpha\")"
   ]
  },
  {
   "cell_type": "code",
   "execution_count": 3,
   "metadata": {
    "ExecuteTime": {
     "end_time": "2020-10-02T22:37:33.728878Z",
     "start_time": "2020-10-02T22:37:33.719902Z"
    }
   },
   "outputs": [],
   "source": [
    "v_w = sp.Matrix([0, 0, w])\n",
    "v_w_BC = - v_w / 3\n",
    "v_AB = sp.Matrix([-r * sp.cos(alpha), r * sp.sin(alpha), 0])\n",
    "v_BC = v_AB * 3\n",
    "v_v = sp.Matrix([v, 0, 0])"
   ]
  },
  {
   "cell_type": "code",
   "execution_count": 4,
   "metadata": {
    "ExecuteTime": {
     "end_time": "2020-10-02T22:37:34.041877Z",
     "start_time": "2020-10-02T22:37:33.880328Z"
    }
   },
   "outputs": [
    {
     "data": {
      "text/latex": [
       "$\\displaystyle \\left[\\begin{matrix}\\omega^{2} r \\cos{\\left(\\alpha \\right)}\\\\- \\omega^{2} r \\sin{\\left(\\alpha \\right)}\\\\0\\end{matrix}\\right]$"
      ],
      "text/plain": [
       "Matrix([\n",
       "[ \\omega**2*r*cos(\\alpha)],\n",
       "[-\\omega**2*r*sin(\\alpha)],\n",
       "[                       0]])"
      ]
     },
     "execution_count": 4,
     "metadata": {},
     "output_type": "execute_result"
    }
   ],
   "source": [
    "ww_b = v_w.cross(v_w.cross(v_AB))\n",
    "ww_b"
   ]
  },
  {
   "cell_type": "code",
   "execution_count": 5,
   "metadata": {
    "ExecuteTime": {
     "end_time": "2020-10-02T22:37:34.077939Z",
     "start_time": "2020-10-02T22:37:34.066968Z"
    }
   },
   "outputs": [
    {
     "data": {
      "text/latex": [
       "$\\displaystyle \\left[\\begin{matrix}\\omega r \\sin{\\left(\\alpha \\right)}\\\\\\omega r \\cos{\\left(\\alpha \\right)}\\\\0\\end{matrix}\\right]$"
      ],
      "text/plain": [
       "Matrix([\n",
       "[\\omega*r*sin(\\alpha)],\n",
       "[\\omega*r*cos(\\alpha)],\n",
       "[                   0]])"
      ]
     },
     "execution_count": 5,
     "metadata": {},
     "output_type": "execute_result"
    }
   ],
   "source": [
    "v_BC_dot = v_w_BC.cross(v_BC)\n",
    "v_BC_dot"
   ]
  },
  {
   "cell_type": "code",
   "execution_count": 6,
   "metadata": {
    "ExecuteTime": {
     "end_time": "2020-10-02T22:37:34.173874Z",
     "start_time": "2020-10-02T22:37:34.165920Z"
    }
   },
   "outputs": [
    {
     "data": {
      "text/latex": [
       "$\\displaystyle \\left[\\begin{matrix}- \\omega r \\sin{\\left(\\alpha \\right)} + v\\\\- \\omega r \\cos{\\left(\\alpha \\right)}\\\\0\\end{matrix}\\right]$"
      ],
      "text/plain": [
       "Matrix([\n",
       "[-\\omega*r*sin(\\alpha) + v],\n",
       "[    -\\omega*r*cos(\\alpha)],\n",
       "[                        0]])"
      ]
     },
     "execution_count": 6,
     "metadata": {},
     "output_type": "execute_result"
    }
   ],
   "source": [
    "v_v_B = v_w.cross(v_AB) + v_v\n",
    "v_v_B"
   ]
  },
  {
   "cell_type": "code",
   "execution_count": 7,
   "metadata": {
    "ExecuteTime": {
     "end_time": "2020-10-02T22:37:34.410279Z",
     "start_time": "2020-10-02T22:37:34.325469Z"
    }
   },
   "outputs": [
    {
     "data": {
      "text/latex": [
       "$\\displaystyle - 4 \\omega^{2} r^{2}$"
      ],
      "text/plain": [
       "-4*\\omega**2*r**2"
      ]
     },
     "execution_count": 7,
     "metadata": {},
     "output_type": "execute_result"
    }
   ],
   "source": [
    "ww_c_BC = (ww_b.T * v_BC)[0] + (v_v_B.T * v_BC_dot)[0] - (v_v.T * v_BC_dot)[0]\n",
    "ww_c_BC = sp.simplify(ww_c_BC)\n",
    "ww_c_BC"
   ]
  },
  {
   "cell_type": "code",
   "execution_count": 8,
   "metadata": {
    "ExecuteTime": {
     "end_time": "2020-10-02T22:37:34.736973Z",
     "start_time": "2020-10-02T22:37:34.729992Z"
    }
   },
   "outputs": [
    {
     "data": {
      "text/latex": [
       "$\\displaystyle - \\frac{v^{2}}{2 r}$"
      ],
      "text/plain": [
       "-v**2/(2*r)"
      ]
     },
     "execution_count": 8,
     "metadata": {},
     "output_type": "execute_result"
    }
   ],
   "source": [
    "ww_c_y = - v**2 / 2 / r\n",
    "ww_c_y"
   ]
  },
  {
   "cell_type": "markdown",
   "metadata": {},
   "source": [
    "Ответ для $w_{Cx}$:"
   ]
  },
  {
   "cell_type": "code",
   "execution_count": 9,
   "metadata": {
    "ExecuteTime": {
     "end_time": "2020-10-02T22:37:35.317525Z",
     "start_time": "2020-10-02T22:37:35.303562Z"
    }
   },
   "outputs": [
    {
     "data": {
      "text/latex": [
       "$\\displaystyle \\frac{8 \\sqrt{3} \\omega^{2} r}{9} - \\frac{\\sqrt{3} v^{2}}{6 r}$"
      ],
      "text/plain": [
       "8*sqrt(3)*\\omega**2*r/9 - sqrt(3)*v**2/(6*r)"
      ]
     },
     "execution_count": 9,
     "metadata": {},
     "output_type": "execute_result"
    }
   ],
   "source": [
    "ww_c_x = (-ww_c_BC * 2 / 3 / r + ww_c_y) / sp.sqrt(3)\n",
    "sp.expand(ww_c_x)"
   ]
  },
  {
   "cell_type": "code",
   "execution_count": 13,
   "metadata": {
    "ExecuteTime": {
     "end_time": "2020-10-02T22:37:55.451971Z",
     "start_time": "2020-10-02T22:37:55.445987Z"
    }
   },
   "outputs": [
    {
     "data": {
      "text/latex": [
       "$\\displaystyle \\frac{64 \\omega^{4} r^{2}}{27} - \\frac{8 \\omega^{2} v^{2}}{9} + \\frac{v^{4}}{3 r^{2}}$"
      ],
      "text/plain": [
       "64*\\omega**4*r**2/27 - 8*\\omega**2*v**2/9 + v**4/(3*r**2)"
      ]
     },
     "execution_count": 13,
     "metadata": {},
     "output_type": "execute_result"
    }
   ],
   "source": [
    "sp.expand(ww_c_x**2 + ww_c_y**2)"
   ]
  },
  {
   "cell_type": "code",
   "execution_count": 10,
   "metadata": {
    "ExecuteTime": {
     "end_time": "2020-10-02T22:37:35.811691Z",
     "start_time": "2020-10-02T22:37:35.797727Z"
    }
   },
   "outputs": [
    {
     "name": "stdout",
     "output_type": "stream",
     "text": [
      "\\frac{64 \\omega^{4} r^{2}}{27} - \\frac{8 \\omega^{2} v^{2}}{9} + \\frac{v^{4}}{3 r^{2}}\n"
     ]
    }
   ],
   "source": [
    "print(sp.latex(sp.expand(ww_c_x**2 + ww_c_y**2)))"
   ]
  },
  {
   "cell_type": "markdown",
   "metadata": {},
   "source": [
    "Собственно в ответе как минимум беда с размерностью, но, даже домножив на $r^2$ в нужном месте всё равно не сходится :("
   ]
  },
  {
   "cell_type": "code",
   "execution_count": 11,
   "metadata": {
    "ExecuteTime": {
     "end_time": "2020-10-02T22:37:37.230138Z",
     "start_time": "2020-10-02T22:37:37.224154Z"
    }
   },
   "outputs": [],
   "source": [
    "norm = 1 / r**2 * (\n",
    "    9 * v**4 - 8 * w**2*v**2*r**2 + 64 * w**4 * r**2\n",
    ") / 27"
   ]
  },
  {
   "cell_type": "code",
   "execution_count": 12,
   "metadata": {
    "ExecuteTime": {
     "end_time": "2020-10-02T22:37:37.619997Z",
     "start_time": "2020-10-02T22:37:37.609987Z"
    }
   },
   "outputs": [
    {
     "data": {
      "text/latex": [
       "$\\displaystyle \\frac{64 \\omega^{4}}{27} - \\frac{8 \\omega^{2} v^{2}}{27} + \\frac{v^{4}}{3 r^{2}}$"
      ],
      "text/plain": [
       "64*\\omega**4/27 - 8*\\omega**2*v**2/27 + v**4/(3*r**2)"
      ]
     },
     "execution_count": 12,
     "metadata": {},
     "output_type": "execute_result"
    }
   ],
   "source": [
    "sp.expand(norm)"
   ]
  }
 ],
 "metadata": {
  "kernelspec": {
   "display_name": "Python 3",
   "language": "python",
   "name": "python3"
  },
  "language_info": {
   "codemirror_mode": {
    "name": "ipython",
    "version": 3
   },
   "file_extension": ".py",
   "mimetype": "text/x-python",
   "name": "python",
   "nbconvert_exporter": "python",
   "pygments_lexer": "ipython3",
   "version": "3.7.4"
  },
  "latex_envs": {
   "LaTeX_envs_menu_present": true,
   "autoclose": false,
   "autocomplete": true,
   "bibliofile": "biblio.bib",
   "cite_by": "apalike",
   "current_citInitial": 1,
   "eqLabelWithNumbers": true,
   "eqNumInitial": 1,
   "hotkeys": {
    "equation": "Ctrl-E",
    "itemize": "Ctrl-I"
   },
   "labels_anchors": false,
   "latex_user_defs": false,
   "report_style_numbering": false,
   "user_envs_cfg": false
  },
  "toc": {
   "base_numbering": 1,
   "nav_menu": {},
   "number_sections": true,
   "sideBar": true,
   "skip_h1_title": false,
   "title_cell": "Table of Contents",
   "title_sidebar": "Contents",
   "toc_cell": false,
   "toc_position": {},
   "toc_section_display": true,
   "toc_window_display": false
  },
  "varInspector": {
   "cols": {
    "lenName": 16,
    "lenType": 16,
    "lenVar": 40
   },
   "kernels_config": {
    "python": {
     "delete_cmd_postfix": "",
     "delete_cmd_prefix": "del ",
     "library": "var_list.py",
     "varRefreshCmd": "print(var_dic_list())"
    },
    "r": {
     "delete_cmd_postfix": ") ",
     "delete_cmd_prefix": "rm(",
     "library": "var_list.r",
     "varRefreshCmd": "cat(var_dic_list()) "
    }
   },
   "types_to_exclude": [
    "module",
    "function",
    "builtin_function_or_method",
    "instance",
    "_Feature"
   ],
   "window_display": false
  }
 },
 "nbformat": 4,
 "nbformat_minor": 2
}
